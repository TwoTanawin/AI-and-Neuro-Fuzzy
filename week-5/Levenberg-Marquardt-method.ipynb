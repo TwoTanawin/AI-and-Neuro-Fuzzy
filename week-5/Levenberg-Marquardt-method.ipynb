{
 "cells": [
  {
   "cell_type": "code",
   "execution_count": 1,
   "metadata": {},
   "outputs": [],
   "source": [
    "import numpy as np\n",
    "import matplotlib.pyplot as plt\n",
    "import scipy\n",
    "import math"
   ]
  },
  {
   "cell_type": "markdown",
   "metadata": {},
   "source": [
    "## Training Set"
   ]
  },
  {
   "cell_type": "code",
   "execution_count": 2,
   "metadata": {},
   "outputs": [],
   "source": [
    "p = np.array([5, 10, 15, 20]) # Input\n",
    "t = np.array([2, 8, 8, 20]) # Target"
   ]
  },
  {
   "cell_type": "code",
   "execution_count": 3,
   "metadata": {},
   "outputs": [],
   "source": [
    "w_layer1 = np.array([-0.1, 0.2])\n",
    "b_layer1 = np.array([0.4, -1.3])\n",
    "w_layer2 = np.array([0.5, 0.7])\n",
    "b_layer2 = np.array([0.8])\n",
    "bias_layer2 = np.array([-1])\n",
    "\n",
    "u = 0.5\n",
    "\n",
    "a_layer0 = 0\n",
    "\n",
    "f1_purelin = -1"
   ]
  },
  {
   "cell_type": "markdown",
   "metadata": {},
   "source": [
    "## Function to Compute"
   ]
  },
  {
   "cell_type": "markdown",
   "metadata": {},
   "source": [
    "### logsig"
   ]
  },
  {
   "cell_type": "code",
   "execution_count": 4,
   "metadata": {},
   "outputs": [],
   "source": [
    "def log_sigmod(a):\n",
    "    return 1/(1+math.exp(1)**-a)"
   ]
  },
  {
   "cell_type": "markdown",
   "metadata": {},
   "source": [
    "### Cal Error"
   ]
  },
  {
   "cell_type": "code",
   "execution_count": 5,
   "metadata": {},
   "outputs": [],
   "source": [
    "def cal_error(t, a):\n",
    "    return t - a"
   ]
  },
  {
   "cell_type": "markdown",
   "metadata": {},
   "source": [
    "### desired matrix"
   ]
  },
  {
   "cell_type": "code",
   "execution_count": 6,
   "metadata": {},
   "outputs": [],
   "source": [
    "def convert_to_desired_matrix(original_array):\n",
    "    n = len(original_array)\n",
    "    diagonal_values = [(1 - original_array[i]) * original_array[i] for i in range(n)]\n",
    "    desired_matrix = np.diag(diagonal_values)\n",
    "    return desired_matrix"
   ]
  },
  {
   "cell_type": "markdown",
   "metadata": {},
   "source": [
    "### Jacobian"
   ]
  },
  {
   "cell_type": "code",
   "execution_count": 7,
   "metadata": {},
   "outputs": [],
   "source": [
    "def create_jacobian_matrix(t, s_layer2, n_layer1, bias, p):\n",
    "    # Create a 4x7 matrix filled with zeros\n",
    "    matrix = np.zeros((4, 7))\n",
    "\n",
    "    # Fill in the values based on the pattern described\n",
    "    for i in range(len(t)):\n",
    "        matrix[i, 0] = s_layer2[i * 2] * p[i]\n",
    "        matrix[i, 1] = s_layer2[i * 2]\n",
    "        matrix[i, 2] = s_layer2[i * 2 + 1] * p[i]\n",
    "        matrix[i, 3] = s_layer2[i * 2 + 1]\n",
    "        matrix[i, 4] = bias * n_layer1[i * 2]\n",
    "        matrix[i, 5] = bias * n_layer1[i * 2 + 1]\n",
    "        matrix[i, 6] = bias\n",
    "\n",
    "    return matrix"
   ]
  },
  {
   "cell_type": "markdown",
   "metadata": {},
   "source": [
    "### I Matrix"
   ]
  },
  {
   "cell_type": "code",
   "execution_count": 8,
   "metadata": {},
   "outputs": [],
   "source": [
    "def create_I_matrix(size, diagonal_value):\n",
    "    # Create a size x size identity matrix\n",
    "    matrix = np.eye(size)\n",
    "    \n",
    "    # Set the diagonal elements to the specified value\n",
    "    matrix *= diagonal_value\n",
    "    \n",
    "    return matrix"
   ]
  },
  {
   "cell_type": "markdown",
   "metadata": {},
   "source": [
    "## Static Cal"
   ]
  },
  {
   "cell_type": "code",
   "execution_count": 9,
   "metadata": {},
   "outputs": [
    {
     "name": "stdout",
     "output_type": "stream",
     "text": [
      "a_layer1 = [-0.1  0.2] x 5 + [ 0.4 -1.3] = [-0.1 -0.3]\n",
      "n_layer1  : [0.475  0.4256]\n",
      "a_layer2 = [0.5 0.7] x [0.475  0.4256] + [0.8] = [1.3354]\n",
      "error = [0.6646]\n",
      "s_layer2 = [[0.249375   0.        ]\n",
      " [0.         0.24446464]] x [0.5 0.7] x [0.8]\n",
      "s_layer2 = [-0.1247 -0.1711]\n"
     ]
    }
   ],
   "source": [
    "a_layer1 = w_layer1.transpose()*p[0]+b_layer1.transpose()\n",
    "n_layer1 = np.round(log_sigmod(a_layer1), 4)\n",
    "\n",
    "a_layer2 = np.round(np.dot(w_layer2, n_layer1)+b_layer2, 4)\n",
    "\n",
    "error = cal_error(t[0], a_layer2)\n",
    "\n",
    "value1 = (1 - n_layer1[0]) * n_layer1[0]\n",
    "value2 = (1 - n_layer1[1]) * n_layer1[1]\n",
    "\n",
    "desired_matrix = np.array([[value1, 0], [0, value2]])\n",
    "\n",
    "s_layer2 = np.round(np.dot(desired_matrix,w_layer2)*f1_purelin, 4)\n",
    "\n",
    "print(f\"a_layer1 = {w_layer1.transpose()} x {p[0]} + {b_layer1.transpose()} = {a_layer1}\")\n",
    "print(f\"n_layer1  : {n_layer1}\")\n",
    "print(f\"a_layer2 = {w_layer2} x {n_layer1} + {b_layer2} = {a_layer2}\")\n",
    "print(f\"error = {error}\")\n",
    "print(f\"s_layer2 = {desired_matrix} x {w_layer2} x {b_layer2}\")\n",
    "print(f\"s_layer2 = {s_layer2}\")"
   ]
  },
  {
   "cell_type": "markdown",
   "metadata": {},
   "source": [
    "## Parameter Recoard"
   ]
  },
  {
   "cell_type": "code",
   "execution_count": 10,
   "metadata": {},
   "outputs": [],
   "source": [
    "history_error = np.array([])\n",
    "history_s_layer2 = np.array([])\n",
    "history_n_layey1 = np.array([])"
   ]
  },
  {
   "cell_type": "markdown",
   "metadata": {},
   "source": [
    "## Interation Process"
   ]
  },
  {
   "cell_type": "code",
   "execution_count": 11,
   "metadata": {},
   "outputs": [
    {
     "name": "stdout",
     "output_type": "stream",
     "text": [
      "--------------------- Input P : 1 --------------------------\n",
      "a_layer1 = [-0.1  0.2] x 5 + [ 0.4 -1.3] = [-0.1 -0.3]\n",
      "n_layer1  : [0.475  0.4256]\n",
      "a_layer2 = [0.5 0.7] x [0.475  0.4256] + [0.8] = [1.3354]\n",
      "error = [0.6646]\n",
      "s_layer2 = [-0.1247 -0.1711]\n",
      "--------------------- Input P : 2 --------------------------\n",
      "a_layer1 = [-0.1  0.2] x 10 + [ 0.4 -1.3] = [-0.6  0.7]\n",
      "n_layer1  : [0.3543 0.6682]\n",
      "a_layer2 = [0.5 0.7] x [0.3543 0.6682] + [0.8] = [1.4449]\n",
      "error = [6.5551]\n",
      "s_layer2 = [-0.1144 -0.1552]\n",
      "--------------------- Input P : 3 --------------------------\n",
      "a_layer1 = [-0.1  0.2] x 15 + [ 0.4 -1.3] = [-1.1  1.7]\n",
      "n_layer1  : [0.2497 0.8455]\n",
      "a_layer2 = [0.5 0.7] x [0.2497 0.8455] + [0.8] = [1.5167]\n",
      "error = [6.4833]\n",
      "s_layer2 = [-0.0937 -0.0914]\n",
      "--------------------- Input P : 4 --------------------------\n",
      "a_layer1 = [-0.1  0.2] x 20 + [ 0.4 -1.3] = [-1.6  2.7]\n",
      "n_layer1  : [0.168 0.937]\n",
      "a_layer2 = [0.5 0.7] x [0.168 0.937] + [0.8] = [1.5399]\n",
      "error = [18.4601]\n",
      "s_layer2 = [-0.0699 -0.0413]\n"
     ]
    }
   ],
   "source": [
    "for i in range(len(p)):\n",
    "    a_layer1 = w_layer1.transpose() * p[i] + b_layer1.transpose()\n",
    "    n_layer1 = np.round(log_sigmod(a_layer1), 4)\n",
    "    \n",
    "    history_n_layey1 = np.append(history_n_layey1, n_layer1)\n",
    "\n",
    "    a_layer2 = np.round(np.dot(w_layer2, n_layer1) + b_layer2, 4)\n",
    "\n",
    "    error = cal_error(t[i], a_layer2)\n",
    "    \n",
    "    history_error = np.append(history_error, error)\n",
    "\n",
    "    # value1 = (1 - n_layer1[0]) * n_layer1[0]\n",
    "    # value2 = (1 - n_layer1[1]) * n_layer1[1]\n",
    "\n",
    "    # desired_matrix = np.array([[value1, 0], [0, value2]])\n",
    "    \n",
    "    desired_matrix = convert_to_desired_matrix(n_layer1)\n",
    "\n",
    "    s_layer2 = np.round(np.dot(desired_matrix,w_layer2)*f1_purelin, 4)\n",
    "    \n",
    "    history_s_layer2 = np.append(history_s_layer2, s_layer2)\n",
    "    \n",
    "    print(f\"--------------------- Input P : {i+1} --------------------------\")\n",
    "    print(f\"a_layer1 = {w_layer1.transpose()} x {p[i]} + {b_layer1.transpose()} = {a_layer1}\")\n",
    "    print(f\"n_layer1  : {n_layer1}\")\n",
    "    print(f\"a_layer2 = {w_layer2} x {n_layer1} + {b_layer2} = {a_layer2}\")\n",
    "    print(f\"error = {error}\")\n",
    "    # print(f\"s_layer2 = {desired_matrix} x {w_layer2} x {b_layer2}\")\n",
    "    print(f\"s_layer2 = {s_layer2}\")"
   ]
  },
  {
   "cell_type": "markdown",
   "metadata": {},
   "source": [
    "## Sum of Error Square"
   ]
  },
  {
   "cell_type": "code",
   "execution_count": 12,
   "metadata": {},
   "outputs": [
    {
     "name": "stdout",
     "output_type": "stream",
     "text": [
      "sum of error square = 426.2195\n"
     ]
    }
   ],
   "source": [
    "sum_error_power2 = np.round(sum(history_error**2), 4)\n",
    "print(\"sum of error square = {}\".format(sum_error_power2))"
   ]
  },
  {
   "cell_type": "code",
   "execution_count": 13,
   "metadata": {},
   "outputs": [
    {
     "name": "stdout",
     "output_type": "stream",
     "text": [
      "[-0.1247 -0.1711 -0.1144 -0.1552 -0.0937 -0.0914 -0.0699 -0.0413]\n",
      "[0.475  0.4256 0.3543 0.6682 0.2497 0.8455 0.168  0.937 ]\n"
     ]
    }
   ],
   "source": [
    "print(history_s_layer2)\n",
    "print(history_n_layey1)"
   ]
  },
  {
   "cell_type": "markdown",
   "metadata": {},
   "source": [
    "## Jacobian"
   ]
  },
  {
   "cell_type": "code",
   "execution_count": 14,
   "metadata": {},
   "outputs": [
    {
     "name": "stdout",
     "output_type": "stream",
     "text": [
      "[[-0.6235 -0.1247 -0.8555 -0.1711 -0.475  -0.4256 -1.    ]\n",
      " [-1.144  -0.1144 -1.552  -0.1552 -0.3543 -0.6682 -1.    ]\n",
      " [-1.4055 -0.0937 -1.371  -0.0914 -0.2497 -0.8455 -1.    ]\n",
      " [-1.398  -0.0699 -0.826  -0.0413 -0.168  -0.937  -1.    ]]\n"
     ]
    },
    {
     "name": "stderr",
     "output_type": "stream",
     "text": [
      "/var/folders/6y/x4yfhpyd1n9_8xfj5xpc9c8w0000gn/T/ipykernel_43207/3415443696.py:11: DeprecationWarning: Conversion of an array with ndim > 0 to a scalar is deprecated, and will error in future. Ensure you extract a single element from your array before performing this operation. (Deprecated NumPy 1.25.)\n",
      "  matrix[i, 4] = bias * n_layer1[i * 2]\n",
      "/var/folders/6y/x4yfhpyd1n9_8xfj5xpc9c8w0000gn/T/ipykernel_43207/3415443696.py:12: DeprecationWarning: Conversion of an array with ndim > 0 to a scalar is deprecated, and will error in future. Ensure you extract a single element from your array before performing this operation. (Deprecated NumPy 1.25.)\n",
      "  matrix[i, 5] = bias * n_layer1[i * 2 + 1]\n",
      "/var/folders/6y/x4yfhpyd1n9_8xfj5xpc9c8w0000gn/T/ipykernel_43207/3415443696.py:13: DeprecationWarning: Conversion of an array with ndim > 0 to a scalar is deprecated, and will error in future. Ensure you extract a single element from your array before performing this operation. (Deprecated NumPy 1.25.)\n",
      "  matrix[i, 6] = bias\n"
     ]
    }
   ],
   "source": [
    "jacobian_matrix = create_jacobian_matrix(t, history_s_layer2, history_n_layey1, bias_layer2, p)\n",
    "print(jacobian_matrix)"
   ]
  },
  {
   "cell_type": "code",
   "execution_count": 15,
   "metadata": {},
   "outputs": [
    {
     "name": "stdout",
     "output_type": "stream",
     "text": [
      "[[5.6273 0.438  5.3906 0.4704 1.2873 3.5281 4.571 ]\n",
      " [0.438  0.0423 0.4704 0.0505 0.1349 0.2742 0.4027]\n",
      " [5.3906 0.4704 5.7025 0.5467 1.4373 3.3343 4.6045]\n",
      " [0.4704 0.0505 0.5467 0.0634 0.166  0.2925 0.459 ]\n",
      " [1.2873 0.1349 1.4373 0.166  0.4417 0.8074 1.247 ]\n",
      " [3.5281 0.2742 3.3343 0.2925 0.8074 2.2205 2.8763]\n",
      " [4.571  0.4027 4.6045 0.459  1.247  2.8763 4.    ]]\n"
     ]
    }
   ],
   "source": [
    "J_T_J = np.round(np.dot(jacobian_matrix.transpose(), jacobian_matrix), 4)\n",
    "print(J_T_J)"
   ]
  },
  {
   "cell_type": "code",
   "execution_count": 16,
   "metadata": {},
   "outputs": [
    {
     "name": "stdout",
     "output_type": "stream",
     "text": [
      "[-42.8329  -2.7306 -34.8787  -2.486   -7.3583 -27.4417 -32.1631]\n"
     ]
    }
   ],
   "source": [
    "J_T_v = np.round(np.dot(jacobian_matrix.transpose(), history_error), 4)\n",
    "print(J_T_v)"
   ]
  },
  {
   "cell_type": "code",
   "execution_count": 17,
   "metadata": {},
   "outputs": [
    {
     "name": "stdout",
     "output_type": "stream",
     "text": [
      "(7,)\n"
     ]
    }
   ],
   "source": [
    "print(J_T_v.shape)"
   ]
  },
  {
   "cell_type": "code",
   "execution_count": 18,
   "metadata": {},
   "outputs": [
    {
     "name": "stdout",
     "output_type": "stream",
     "text": [
      "[[0.5 0.  0.  0.  0.  0.  0. ]\n",
      " [0.  0.5 0.  0.  0.  0.  0. ]\n",
      " [0.  0.  0.5 0.  0.  0.  0. ]\n",
      " [0.  0.  0.  0.5 0.  0.  0. ]\n",
      " [0.  0.  0.  0.  0.5 0.  0. ]\n",
      " [0.  0.  0.  0.  0.  0.5 0. ]\n",
      " [0.  0.  0.  0.  0.  0.  0.5]]\n"
     ]
    }
   ],
   "source": [
    "matrix_uI = create_I_matrix(len(J_T_J), u)\n",
    "print(matrix_uI)"
   ]
  },
  {
   "cell_type": "code",
   "execution_count": 19,
   "metadata": {},
   "outputs": [
    {
     "name": "stdout",
     "output_type": "stream",
     "text": [
      "[[6.1273 0.438  5.3906 0.4704 1.2873 3.5281 4.571 ]\n",
      " [0.438  0.5423 0.4704 0.0505 0.1349 0.2742 0.4027]\n",
      " [5.3906 0.4704 6.2025 0.5467 1.4373 3.3343 4.6045]\n",
      " [0.4704 0.0505 0.5467 0.5634 0.166  0.2925 0.459 ]\n",
      " [1.2873 0.1349 1.4373 0.166  0.9417 0.8074 1.247 ]\n",
      " [3.5281 0.2742 3.3343 0.2925 0.8074 2.7205 2.8763]\n",
      " [4.571  0.4027 4.6045 0.459  1.247  2.8763 4.5   ]]\n"
     ]
    }
   ],
   "source": [
    "J_T_J_plus_matrix_uI = J_T_J+matrix_uI\n",
    "\n",
    "print(J_T_J_plus_matrix_uI)"
   ]
  },
  {
   "cell_type": "code",
   "execution_count": 20,
   "metadata": {},
   "outputs": [
    {
     "name": "stdout",
     "output_type": "stream",
     "text": [
      "[ 6.203  -0.3878 -2.5879 -1.0277 -2.1216  4.7188  1.2058]\n"
     ]
    }
   ],
   "source": [
    "delta_x = np.round(np.dot(-(np.linalg.inv(J_T_J_plus_matrix_uI)), J_T_v), 4)\n",
    "print(delta_x)"
   ]
  },
  {
   "cell_type": "code",
   "execution_count": 21,
   "metadata": {},
   "outputs": [
    {
     "name": "stdout",
     "output_type": "stream",
     "text": [
      "[-0.1  0.2  0.4 -1.3  0.5  0.7  0.8]\n"
     ]
    }
   ],
   "source": [
    "delta_weight_bias = np.concatenate((w_layer1, b_layer1, w_layer2, b_layer2))\n",
    "print(delta_weight_bias)"
   ]
  },
  {
   "cell_type": "code",
   "execution_count": 22,
   "metadata": {},
   "outputs": [
    {
     "name": "stdout",
     "output_type": "stream",
     "text": [
      "[ 6.103  -0.1878 -2.1879 -2.3277 -1.6216  5.4188  2.0058]\n"
     ]
    }
   ],
   "source": [
    "result = delta_x + delta_weight_bias\n",
    "\n",
    "print(result)"
   ]
  }
 ],
 "metadata": {
  "kernelspec": {
   "display_name": "ai-basic",
   "language": "python",
   "name": "python3"
  },
  "language_info": {
   "codemirror_mode": {
    "name": "ipython",
    "version": 3
   },
   "file_extension": ".py",
   "mimetype": "text/x-python",
   "name": "python",
   "nbconvert_exporter": "python",
   "pygments_lexer": "ipython3",
   "version": "3.9.13"
  },
  "orig_nbformat": 4
 },
 "nbformat": 4,
 "nbformat_minor": 2
}
