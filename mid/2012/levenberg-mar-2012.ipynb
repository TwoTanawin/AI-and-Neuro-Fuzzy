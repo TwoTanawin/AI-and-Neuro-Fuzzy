{
 "cells": [
  {
   "cell_type": "code",
   "execution_count": 156,
   "metadata": {},
   "outputs": [],
   "source": [
    "import numpy as np\n",
    "import math"
   ]
  },
  {
   "cell_type": "code",
   "execution_count": 157,
   "metadata": {},
   "outputs": [
    {
     "name": "stdout",
     "output_type": "stream",
     "text": [
      "[[ 0  4]\n",
      " [ 5  0]\n",
      " [10  4]]\n"
     ]
    }
   ],
   "source": [
    "p = np.array([0, 1, 2]) # Input\n",
    "t = np.array([[0, 4], [5, 0], [10, 4]]) # Target\n",
    "\n",
    "print(t)"
   ]
  },
  {
   "cell_type": "code",
   "execution_count": 158,
   "metadata": {},
   "outputs": [
    {
     "name": "stdout",
     "output_type": "stream",
     "text": [
      "(4,)\n",
      "(2, 4)\n"
     ]
    }
   ],
   "source": [
    "w_layer1 = np.array([-0.1, 0.2, 0.1, -0.2])\n",
    "b_layer1 = np.array([0.1, 0.2, 0.3, 0.4])\n",
    "\n",
    "w_layer2 = np.array([[0.1, -0.2, 0.3, -0.4],[0.4, -0.3, -0.2, 0.1]])\n",
    "b_layer2 = np.array([0.1, 0.1])\n",
    "\n",
    "print(w_layer1.shape)\n",
    "print(w_layer2.shape)"
   ]
  },
  {
   "cell_type": "markdown",
   "metadata": {},
   "source": [
    "## function to compute"
   ]
  },
  {
   "cell_type": "code",
   "execution_count": 159,
   "metadata": {},
   "outputs": [],
   "source": [
    "def log_sigmod(a):\n",
    "    return 1/(1+math.exp(1)**-a)\n",
    "\n",
    "\n",
    "def get_identity(matix):\n",
    "    # Create an identity matrix\n",
    "    n = len(matix)\n",
    "    identity_matrix = np.identity(n)\n",
    "\n",
    "    # Define the array of values\n",
    "    values = (1-matix)*matix\n",
    "\n",
    "    # Multiply the identity matrix by the array of values element-wise\n",
    "    result_matrix = identity_matrix * values\n",
    "\n",
    "    return result_matrix"
   ]
  },
  {
   "cell_type": "markdown",
   "metadata": {},
   "source": [
    "## wp+b static compute"
   ]
  },
  {
   "cell_type": "code",
   "execution_count": 160,
   "metadata": {},
   "outputs": [],
   "source": [
    "# print(f\"---------- when p : {p[0]} ----------\")\n",
    "# n1 = np.dot(w_layer1 ,p[0])+b_layer1\n",
    "# n1 = np.round(log_sigmod(n1),2)\n",
    "# print(f\"n1 : {n1}\")\n",
    "\n",
    "# n2 = np.dot(w_layer2 ,n1.T)+b_layer2\n",
    "# print(f\"n2 : {n2}\")\n",
    "# print(n2)\n",
    "\n",
    "# e = t[0]-n2\n",
    "\n",
    "# print(f\"e (error) : {e}\")\n",
    "\n",
    "# s_layer2 = np.array([-1, -1])\n",
    "# print(\"s layer 2 : \")\n",
    "# print(s_layer2)\n",
    "\n",
    "# # pre_press_to_iden = (1-n1)*n1\n",
    "\n",
    "# # print(pre_press_to_iden)\n",
    "\n",
    "# identify_matrix = np.round(get_identity(n1), 2)\n",
    "# print(\"Identify matrix : \")\n",
    "# print(identify_matrix)\n",
    "\n",
    "# # print(w_layer2)\n",
    "\n",
    "\n",
    "# s_layer1 = np.dot(np.dot(identify_matrix, w_layer2.T), s_layer2.T)\n",
    "# print(\"s layer 1 : \")\n",
    "# print(s_layer1)\n"
   ]
  },
  {
   "cell_type": "markdown",
   "metadata": {},
   "source": [
    "## wp + b Loop compute"
   ]
  },
  {
   "cell_type": "code",
   "execution_count": 161,
   "metadata": {},
   "outputs": [
    {
     "name": "stdout",
     "output_type": "stream",
     "text": [
      "---------- when p : 0 ----------\n",
      "n1 : [0.1 0.2 0.3 0.4]\n",
      "n1 : [0.52 0.55 0.57 0.6 ]\n",
      "n2 : [-0.027  0.089]\n",
      "[-0.027  0.089]\n",
      "e (error) : [0.027 3.911]\n",
      "s layer 2 : \n",
      "[-1 -1]\n",
      "Identify matrix : \n",
      "[[0.25 0.   0.   0.  ]\n",
      " [0.   0.25 0.   0.  ]\n",
      " [0.   0.   0.25 0.  ]\n",
      " [0.   0.   0.   0.24]]\n",
      "s layer 1 : \n",
      "[-0.125  0.125 -0.025  0.072]\n",
      " \n",
      "---------- when p : 1 ----------\n",
      "n1 : [0.  0.4 0.4 0.2]\n",
      "n1 : [0.5  0.6  0.6  0.55]\n",
      "n2 : [-0.01   0.055]\n",
      "[-0.01   0.055]\n",
      "e (error) : [ 5.01  -0.055]\n",
      "s layer 2 : \n",
      "[-1 -1]\n",
      "Identify matrix : \n",
      "[[0.25 0.   0.   0.  ]\n",
      " [0.   0.24 0.   0.  ]\n",
      " [0.   0.   0.24 0.  ]\n",
      " [0.   0.   0.   0.25]]\n",
      "s layer 1 : \n",
      "[-0.125  0.12  -0.024  0.075]\n",
      " \n",
      "---------- when p : 2 ----------\n",
      "n1 : [-0.1  0.6  0.5  0. ]\n",
      "n1 : [0.48 0.65 0.62 0.5 ]\n",
      "n2 : [0.004 0.023]\n",
      "[0.004 0.023]\n",
      "e (error) : [9.996 3.977]\n",
      "s layer 2 : \n",
      "[-1 -1]\n",
      "Identify matrix : \n",
      "[[0.25 0.   0.   0.  ]\n",
      " [0.   0.23 0.   0.  ]\n",
      " [0.   0.   0.24 0.  ]\n",
      " [0.   0.   0.   0.25]]\n",
      "s layer 1 : \n",
      "[-0.125  0.115 -0.024  0.075]\n",
      " \n"
     ]
    }
   ],
   "source": [
    "error_history = np.array([])\n",
    "\n",
    "for i in range(len(p)):\n",
    "    print(f\"---------- when p : {p[i]} ----------\")\n",
    "    n1 = np.dot(w_layer1 ,p[i])+b_layer1\n",
    "    print(f\"n1 : {n1}\")\n",
    "    n1 = np.round(log_sigmod(n1),2)\n",
    "    print(f\"n1 : {n1}\")\n",
    "\n",
    "    n2 = np.dot(w_layer2 ,n1.T)+b_layer2\n",
    "    print(f\"n2 : {n2}\")\n",
    "    print(n2)\n",
    "\n",
    "    e = t[i]-n2\n",
    "    \n",
    "    error_history = np.append(error_history, e)\n",
    "\n",
    "    print(f\"e (error) : {e}\")\n",
    "\n",
    "    s_layer2 = np.array([-1, -1])\n",
    "    print(\"s layer 2 : \")\n",
    "    print(s_layer2)\n",
    "\n",
    "    # pre_press_to_iden = (1-n1)*n1\n",
    "\n",
    "    # print(pre_press_to_iden)\n",
    "\n",
    "    identify_matrix = np.round(get_identity(n1), 2)\n",
    "    print(\"Identify matrix : \")\n",
    "    print(identify_matrix)\n",
    "\n",
    "    # print(w_layer2)\n",
    "\n",
    "\n",
    "    s_layer1 = np.dot(np.dot(identify_matrix, w_layer2.T), s_layer2.T)\n",
    "    print(\"s layer 1 : \")\n",
    "    print(s_layer1)\n",
    "    print(\" \")"
   ]
  },
  {
   "cell_type": "code",
   "execution_count": 162,
   "metadata": {},
   "outputs": [
    {
     "name": "stdout",
     "output_type": "stream",
     "text": [
      "[ 0.027  3.911  5.01  -0.055  9.996  3.977]\n"
     ]
    }
   ],
   "source": [
    "print(error_history)"
   ]
  },
  {
   "cell_type": "markdown",
   "metadata": {},
   "source": [
    "## Get Square Error "
   ]
  },
  {
   "cell_type": "code",
   "execution_count": 163,
   "metadata": {},
   "outputs": [
    {
     "name": "stdout",
     "output_type": "stream",
     "text": [
      "e: square error :\n",
      "156.13632\n"
     ]
    }
   ],
   "source": [
    "sigma_e = sum(error_history**2)\n",
    "print(\"e: square error :\")\n",
    "print(sigma_e)"
   ]
  },
  {
   "cell_type": "code",
   "execution_count": null,
   "metadata": {},
   "outputs": [],
   "source": []
  }
 ],
 "metadata": {
  "kernelspec": {
   "display_name": "ai-basic",
   "language": "python",
   "name": "python3"
  },
  "language_info": {
   "codemirror_mode": {
    "name": "ipython",
    "version": 3
   },
   "file_extension": ".py",
   "mimetype": "text/x-python",
   "name": "python",
   "nbconvert_exporter": "python",
   "pygments_lexer": "ipython3",
   "version": "3.9.13"
  },
  "orig_nbformat": 4
 },
 "nbformat": 4,
 "nbformat_minor": 2
}
