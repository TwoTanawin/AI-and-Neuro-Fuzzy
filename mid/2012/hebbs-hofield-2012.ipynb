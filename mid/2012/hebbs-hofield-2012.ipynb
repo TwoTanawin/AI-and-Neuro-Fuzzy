{
 "cells": [
  {
   "cell_type": "code",
   "execution_count": 115,
   "metadata": {},
   "outputs": [],
   "source": [
    "import numpy as np"
   ]
  },
  {
   "cell_type": "code",
   "execution_count": 116,
   "metadata": {},
   "outputs": [],
   "source": [
    "def hard_lim(x):\n",
    "    if x > 0:\n",
    "        return 1\n",
    "    else:\n",
    "        return -1"
   ]
  },
  {
   "cell_type": "code",
   "execution_count": 117,
   "metadata": {},
   "outputs": [
    {
     "name": "stdout",
     "output_type": "stream",
     "text": [
      "p1 : [ 1 -1 -1  1 -1  1  1 -1 -1  1  1 -1  1 -1 -1  1]\n",
      "p2 : [ 1  1  1  1  1 -1 -1  1  1 -1 -1  1  1  1  1  1]\n",
      "p3 : [ 1 -1  1 -1 -1  1 -1  1  1 -1  1 -1 -1  1 -1  1]\n",
      "size of p : 16\n"
     ]
    }
   ],
   "source": [
    "p = np.array([[1,-1,-1,1,-1,1,1,-1,-1,1,1,-1,1,-1,-1,1],\n",
    "              [1,1,1,1,1,-1,-1,1,1,-1,-1,1,1,1,1,1],\n",
    "              [1,-1,1,-1,-1,1,-1,1,1,-1,1,-1,-1,1,-1,1]])\n",
    "\n",
    "p1 = np.array([1,-1,-1,1,-1,1,1,-1,-1,1,1,-1,1,-1,-1,1])\n",
    "p2 = np.array([1,1,1,1,1,-1,-1,1,1,-1,-1,1,1,1,1,1])\n",
    "p3 = np.array([1,-1,1,-1,-1,1,-1,1,1,-1,1,-1,-1,1,-1,1])\n",
    "\n",
    "print(f\"p1 : {p1}\")\n",
    "print(f\"p2 : {p2}\")\n",
    "print(f\"p3 : {p3}\")\n",
    "\n",
    "print(f\"size of p : {len(p[0])}\")"
   ]
  },
  {
   "cell_type": "code",
   "execution_count": 118,
   "metadata": {},
   "outputs": [
    {
     "name": "stdout",
     "output_type": "stream",
     "text": [
      "[[ 3 -1  1  1 -1  1 -1  1  1 -1  1 -1  1  1 -1  3]\n",
      " [-1  3  1  1  3 -3 -1  1  1 -1 -3  3  1  1  3 -1]\n",
      " [ 1  1  3 -1  1 -1 -3  3  3 -3 -1  1 -1  3  1  1]\n",
      " [ 1  1 -1  3  1 -1  1 -1 -1  1 -1  1  3 -1  1  1]\n",
      " [-1  3  1  1  3 -3 -1  1  1 -1 -3  3  1  1  3 -1]\n",
      " [ 1 -3 -1 -1 -3  3  1 -1 -1  1  3 -3 -1 -1 -3  1]\n",
      " [-1 -1 -3  1 -1  1  3 -3 -3  3  1 -1  1 -3 -1 -1]\n",
      " [ 1  1  3 -1  1 -1 -3  3  3 -3 -1  1 -1  3  1  1]\n",
      " [ 1  1  3 -1  1 -1 -3  3  3 -3 -1  1 -1  3  1  1]\n",
      " [-1 -1 -3  1 -1  1  3 -3 -3  3  1 -1  1 -3 -1 -1]\n",
      " [ 1 -3 -1 -1 -3  3  1 -1 -1  1  3 -3 -1 -1 -3  1]\n",
      " [-1  3  1  1  3 -3 -1  1  1 -1 -3  3  1  1  3 -1]\n",
      " [ 1  1 -1  3  1 -1  1 -1 -1  1 -1  1  3 -1  1  1]\n",
      " [ 1  1  3 -1  1 -1 -3  3  3 -3 -1  1 -1  3  1  1]\n",
      " [-1  3  1  1  3 -3 -1  1  1 -1 -3  3  1  1  3 -1]\n",
      " [ 3 -1  1  1 -1  1 -1  1  1 -1  1 -1  1  1 -1  3]]\n"
     ]
    }
   ],
   "source": [
    "w1 = np.outer(p[0], p[0])\n",
    "w2 = np.outer(p[1], p[1])\n",
    "w3 = np.outer(p[2], p[2])\n",
    "\n",
    "w = w1 + w2 + w3\n",
    "\n",
    "\n",
    "# print(w1)\n",
    "# print(w2)\n",
    "# print(w3)\n",
    "\n",
    "print(w)"
   ]
  },
  {
   "cell_type": "code",
   "execution_count": 119,
   "metadata": {},
   "outputs": [
    {
     "name": "stdout",
     "output_type": "stream",
     "text": [
      "size of input_p : 16\n"
     ]
    }
   ],
   "source": [
    "input_p = np.array([[1,1,1,-1,-1,1,1,1,1,1,1,-1,-1,1,-1,1], \n",
    "                    [1,1,1,1,1,1,-1,1,1,-1,1,1,1,1,1,1]])\n",
    "\n",
    "print(f\"size of input_p : {len(input_p[0])}\")"
   ]
  },
  {
   "cell_type": "code",
   "execution_count": 120,
   "metadata": {},
   "outputs": [],
   "source": [
    "# a = np.dot(w, input_p[0])\n",
    "\n",
    "# print(a)\n",
    "\n",
    "# pass_hardlim = np.array([])\n",
    "# for j in range(len(a)):\n",
    "#     pass_hardlim = np.append(pass_hardlim, hard_lim(a[j]))\n",
    "\n",
    "# print(pass_hardlim)\n",
    "\n",
    "# for k in range(len(p)): ## check index\n",
    "#     if np.array_equal(pass_hardlim, p[k]):\n",
    "#         print(f\"pass_hardlim matches p at index {k+1}\")"
   ]
  },
  {
   "cell_type": "markdown",
   "metadata": {},
   "source": [
    "## Loop compute input : 1"
   ]
  },
  {
   "cell_type": "code",
   "execution_count": 121,
   "metadata": {},
   "outputs": [
    {
     "name": "stdout",
     "output_type": "stream",
     "text": [
      "---------- ITERATION 0 ----------\n",
      "[ 10 -14   6 -10 -14  14  -6   6   6  -6  14 -14 -10   6 -14  10]\n",
      "[ 1. -1.  1. -1. -1.  1. -1.  1.  1. -1.  1. -1. -1.  1. -1.  1.]\n",
      "pass_hardlim matches p at index 3\n",
      "---------- ITERATION 1 ----------\n",
      "[ 16 -16  16 -16 -16  16 -16  16  16 -16  16 -16 -16  16 -16  16]\n",
      "[ 1. -1.  1. -1. -1.  1. -1.  1.  1. -1.  1. -1. -1.  1. -1.  1.]\n",
      "pass_hardlim matches p at index 3\n"
     ]
    }
   ],
   "source": [
    "# p_input = input_p[0]\n",
    "\n",
    "for i in range(2):\n",
    "    print(f\"---------- ITERATION {i} ----------\")\n",
    "    a = np.dot(w, input_p[0])\n",
    "\n",
    "    print(a)\n",
    "\n",
    "    pass_hardlim = np.array([])\n",
    "    for j in range(len(a)):\n",
    "        pass_hardlim = np.append(pass_hardlim, hard_lim(a[j]))\n",
    "\n",
    "    print(pass_hardlim)\n",
    "    \n",
    "    input_p[0] = pass_hardlim\n",
    "\n",
    "    for k in range(len(p)): ## check index\n",
    "        if np.array_equal(pass_hardlim, p[k]):\n",
    "            print(f\"pass_hardlim matches p at index {k+1}\")"
   ]
  },
  {
   "cell_type": "code",
   "execution_count": 122,
   "metadata": {},
   "outputs": [
    {
     "name": "stdout",
     "output_type": "stream",
     "text": [
      "---------- ITERATION 0 ----------\n",
      "[ 12  12  20   4  12 -12 -20  20  20 -20 -12  12   4  20  12  12]\n",
      "[ 1.  1.  1.  1.  1. -1. -1.  1.  1. -1. -1.  1.  1.  1.  1.  1.]\n",
      "pass_hardlim matches p at index 2\n",
      "---------- ITERATION 1 ----------\n",
      "[  8  24  24   8  24 -24 -24  24  24 -24 -24  24   8  24  24   8]\n",
      "[ 1.  1.  1.  1.  1. -1. -1.  1.  1. -1. -1.  1.  1.  1.  1.  1.]\n",
      "pass_hardlim matches p at index 2\n"
     ]
    }
   ],
   "source": [
    "for i in range(2):\n",
    "    print(f\"---------- ITERATION {i} ----------\")\n",
    "    a = np.dot(w, input_p[1])\n",
    "\n",
    "    print(a)\n",
    "\n",
    "    pass_hardlim = np.array([])\n",
    "    for j in range(len(a)):\n",
    "        pass_hardlim = np.append(pass_hardlim, hard_lim(a[j]))\n",
    "\n",
    "    print(pass_hardlim)\n",
    "    \n",
    "    input_p[1] = pass_hardlim\n",
    "\n",
    "    for k in range(len(p)): ## check index\n",
    "        if np.array_equal(pass_hardlim, p[k]):\n",
    "            print(f\"pass_hardlim matches p at index {k+1}\")"
   ]
  }
 ],
 "metadata": {
  "kernelspec": {
   "display_name": "ai-basic",
   "language": "python",
   "name": "python3"
  },
  "language_info": {
   "codemirror_mode": {
    "name": "ipython",
    "version": 3
   },
   "file_extension": ".py",
   "mimetype": "text/x-python",
   "name": "python",
   "nbconvert_exporter": "python",
   "pygments_lexer": "ipython3",
   "version": "3.9.13"
  },
  "orig_nbformat": 4
 },
 "nbformat": 4,
 "nbformat_minor": 2
}
