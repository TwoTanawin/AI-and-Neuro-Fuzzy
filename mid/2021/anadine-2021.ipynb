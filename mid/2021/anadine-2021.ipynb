{
 "cells": [
  {
   "cell_type": "code",
   "execution_count": 50,
   "metadata": {},
   "outputs": [],
   "source": [
    "import numpy as np"
   ]
  },
  {
   "cell_type": "markdown",
   "metadata": {},
   "source": [
    "## Set Parameter"
   ]
  },
  {
   "cell_type": "code",
   "execution_count": 51,
   "metadata": {},
   "outputs": [
    {
     "name": "stdout",
     "output_type": "stream",
     "text": [
      "5\n",
      "[1 1 1 3 5]\n",
      "5\n",
      "[1 1 3 3 5]\n",
      "5\n",
      "[1 1 3 3 5]\n",
      "[ 0.1 -7.8 -6.1 -9.7 -4.2]\n",
      "[1 1 1 1 1]\n"
     ]
    }
   ],
   "source": [
    "x1 = np.array([1,1,1,3,5])\n",
    "print(len(x1))\n",
    "print(x1)\n",
    "\n",
    "x2 = np.array([1,1,3,3,5])\n",
    "print(len(x2))\n",
    "print(x2)\n",
    "\n",
    "x3 = np.array([1,3,5,7,9])\n",
    "print(len(x2))\n",
    "print(x2)\n",
    "\n",
    "y = np.array([0.1, -7.8, -6.1, -9.7, -4.2])\n",
    "print(y)\n",
    "\n",
    "\n",
    "value = 1 \n",
    "bias = np.full(len(y), value)\n",
    "print(bias)"
   ]
  },
  {
   "cell_type": "markdown",
   "metadata": {},
   "source": [
    "## Set New column Stack"
   ]
  },
  {
   "cell_type": "code",
   "execution_count": 52,
   "metadata": {},
   "outputs": [
    {
     "name": "stdout",
     "output_type": "stream",
     "text": [
      "5\n",
      "[[1 1 1 1]\n",
      " [1 1 3 1]\n",
      " [1 3 5 1]\n",
      " [3 3 7 1]\n",
      " [5 5 9 1]]\n"
     ]
    }
   ],
   "source": [
    "new_column_stack = np.column_stack((x1, x2, x3, bias))\n",
    "\n",
    "print(len(new_column_stack))\n",
    "\n",
    "print(new_column_stack)"
   ]
  },
  {
   "cell_type": "markdown",
   "metadata": {},
   "source": [
    "## Func to cal parameter c"
   ]
  },
  {
   "cell_type": "code",
   "execution_count": 53,
   "metadata": {},
   "outputs": [],
   "source": [
    "def cal_c_value(y):\n",
    "    c = 1/len(y)*(sum(y**2))\n",
    "    return c"
   ]
  },
  {
   "cell_type": "markdown",
   "metadata": {},
   "source": [
    "## Func to cal parameter h"
   ]
  },
  {
   "cell_type": "code",
   "execution_count": 54,
   "metadata": {},
   "outputs": [],
   "source": [
    "def cal_h_value(y,new_column_stack):\n",
    "    a = 0\n",
    "    h = 0\n",
    "    for i in range(len(y)):\n",
    "        a = a + y[i]*new_column_stack[i]\n",
    "        \n",
    "    h = (1/len(y))*a\n",
    "        \n",
    "    return h"
   ]
  },
  {
   "cell_type": "markdown",
   "metadata": {},
   "source": [
    "## Func to cal parameter R"
   ]
  },
  {
   "cell_type": "code",
   "execution_count": 55,
   "metadata": {},
   "outputs": [],
   "source": [
    "def cal_R_value(new_column_stack):\n",
    "    a = np.zeros((len(new_column_stack[0]), len(new_column_stack[0])))  # Initialize a zero matrix of the correct size\n",
    "    R = np.zeros((len(new_column_stack[0]), len(new_column_stack[0])))  # Initialize R as a zero matrix\n",
    "\n",
    "    for i in range(len(new_column_stack)):\n",
    "        a += np.outer(new_column_stack[i], new_column_stack[i])  # Compute the outer product and add it to 'a'\n",
    "    \n",
    "    R = (1/len(new_column_stack))*a\n",
    "    \n",
    "    return R"
   ]
  },
  {
   "cell_type": "markdown",
   "metadata": {},
   "source": [
    "## Func to cal parameter a ... an"
   ]
  },
  {
   "cell_type": "code",
   "execution_count": 56,
   "metadata": {},
   "outputs": [],
   "source": [
    "def cal_a_value(R, h):\n",
    "    a = np.dot(np.linalg.inv(R), h)  # Matrix multiplication between R and h\n",
    "    return a"
   ]
  },
  {
   "cell_type": "code",
   "execution_count": 57,
   "metadata": {},
   "outputs": [
    {
     "name": "stdout",
     "output_type": "stream",
     "text": [
      "c : 41.96\n",
      "h : [-12.78 -15.22 -31.9   -5.54]\n",
      "R :\n",
      "[[ 7.4  7.8 15.   2.2]\n",
      " [ 7.8  9.  17.   2.6]\n",
      " [15.  17.  33.   5. ]\n",
      " [ 2.2  2.6  5.   1. ]]\n",
      "a :\n",
      "[ 2.03  4.67 -3.87 -2.78]\n"
     ]
    }
   ],
   "source": [
    "c = np.round(cal_c_value(y), 2)\n",
    "print(f\"c : {c}\")\n",
    "# print(c)\n",
    "\n",
    "h = np.round(cal_h_value(y, new_column_stack), 2)\n",
    "print(f\"h : {h}\")\n",
    "# print(h)\n",
    "\n",
    "R = np.round(cal_R_value(new_column_stack), 2)\n",
    "print(\"R :\")\n",
    "print(R)\n",
    "\n",
    "a = np.round(cal_a_value(R, h), 2)\n",
    "print(\"a :\")\n",
    "print(a)"
   ]
  },
  {
   "cell_type": "markdown",
   "metadata": {},
   "source": [
    "## quadratic parameter set parameter"
   ]
  },
  {
   "cell_type": "code",
   "execution_count": 58,
   "metadata": {},
   "outputs": [
    {
     "name": "stdout",
     "output_type": "stream",
     "text": [
      "[[ 1.   1.   1.   0.1]\n",
      " [ 1.   1.   3.  -7.8]\n",
      " [ 1.   3.   5.  -6.1]\n",
      " [ 3.   3.   7.  -9.7]\n",
      " [ 5.   5.   9.  -4.2]]\n",
      "[1.  1.  1.  0.1]\n",
      "[1 1 1 1]\n"
     ]
    }
   ],
   "source": [
    "learning_rate = np.array([0.05])\n",
    "\n",
    "a_test = np.array([0, 0, 0, 0]) # a start parameter \n",
    "\n",
    "quad_column_stack = np.column_stack((x1, x2, x3, y)) # sort quadratic\n",
    "print(quad_column_stack)\n",
    "\n",
    "print(quad_column_stack[0])\n",
    "print(new_column_stack[0])"
   ]
  },
  {
   "cell_type": "code",
   "execution_count": 59,
   "metadata": {},
   "outputs": [
    {
     "name": "stdout",
     "output_type": "stream",
     "text": [
      "[0 0 0 0]\n",
      "[1 1 1 1]\n",
      "8\n",
      "[0.8 0.8 0.8 0.8]\n"
     ]
    }
   ],
   "source": [
    "print(a_test)\n",
    "print(new_column_stack[0])\n",
    "\n",
    "e = f[0]- (np.dot(a_test, new_column_stack[0]))\n",
    "print(e)\n",
    "\n",
    "w11 = a_test + 2 * learning_rate * np.dot(e, new_column_stack[0])\n",
    "\n",
    "print(w11)\n"
   ]
  },
  {
   "cell_type": "code",
   "execution_count": 60,
   "metadata": {},
   "outputs": [
    {
     "name": "stdout",
     "output_type": "stream",
     "text": [
      "---------- ITERATION 1 ----------\n",
      "present : [1.  1.  1.  0.1]\n",
      "when f 0.1 :\n",
      "f = 0\n",
      "error 1 (when f = 0.1): 0.1\n",
      "weight 1 : \n",
      "[0.01 0.01 0.01 0.01]\n",
      "---------- ITERATION 2 ----------\n",
      "present : [ 1.   1.   3.  -7.8]\n",
      "when f -7.8 :\n",
      "f = 0.06\n",
      "error 2 (when f = -7.8): -7.86\n",
      "weight 2 : \n",
      "[-0.776 -0.776 -2.348 -0.776]\n",
      "---------- ITERATION 3 ----------\n",
      "present : [ 1.   3.   5.  -6.1]\n",
      "when f -6.1 :\n",
      "f = -15.619999999999997\n",
      "error 3 (when f = -6.1): 9.52\n",
      "weight 3 : \n",
      "[0.176 2.08  2.412 0.176]\n",
      "---------- ITERATION 4 ----------\n",
      "present : [ 3.   3.   7.  -9.7]\n",
      "when f -9.7 :\n",
      "f = 23.828\n",
      "error 4 (when f = -9.7): -33.528\n",
      "weight 4 : \n",
      "[ -9.882  -7.978 -21.058  -3.177]\n",
      "---------- ITERATION 5 ----------\n",
      "present : [ 5.   5.   9.  -4.2]\n",
      "when f -4.2 :\n",
      "f = -281.99899999999997\n",
      "error 5 (when f = -4.2): 277.799\n",
      "weight 5 : \n",
      "[129.017 130.921 228.961  24.603]\n"
     ]
    }
   ],
   "source": [
    "for i in range(len(y)):\n",
    "    print(f\"---------- ITERATION {i+1} ----------\")\n",
    "    print(f\"present : {quad_column_stack[i]}\")\n",
    "    e = np.round(y[i]- (np.dot(a_test, new_column_stack[i])), 3)\n",
    "    print(f\"when f {y[i]} :\")\n",
    "    print(f\"f = {np.dot(a_test.T, new_column_stack[i])}\")\n",
    "    w = np.round(a_test + 2 * learning_rate * np.dot(e, new_column_stack[i]), 3)\n",
    "    \n",
    "    a_test = w\n",
    "    \n",
    "    \n",
    "    print(f\"error {i+1} (when f = {y[i]}): {e}\")\n",
    "    print(f\"weight {i+1} : \")\n",
    "    print(w)"
   ]
  },
  {
   "cell_type": "markdown",
   "metadata": {},
   "source": [
    "## MPL "
   ]
  },
  {
   "cell_type": "code",
   "execution_count": 61,
   "metadata": {},
   "outputs": [
    {
     "data": {
      "text/plain": [
       "[<matplotlib.lines.Line2D at 0x11de6b700>]"
      ]
     },
     "execution_count": 61,
     "metadata": {},
     "output_type": "execute_result"
    },
    {
     "data": {
      "image/png": "[encoded data removed]",
      "text/plain": [
       "<Figure size 640x480 with 1 Axes>"
      ]
     },
     "metadata": {},
     "output_type": "display_data"
    }
   ],
   "source": [
    "import matplotlib.pyplot as plt\n",
    "\n",
    "plt.plot(x1 , y)"
   ]
  },
  {
   "cell_type": "code",
   "execution_count": 62,
   "metadata": {},
   "outputs": [
    {
     "name": "stdout",
     "output_type": "stream",
     "text": [
      "0.2689414213699951\n"
     ]
    }
   ],
   "source": [
    "def sigmoid(x):\n",
    "    return 1 / (1 + np.exp(-x))\n",
    "\n",
    "print(sigmoid(-1))"
   ]
  },
  {
   "cell_type": "code",
   "execution_count": null,
   "metadata": {},
   "outputs": [],
   "source": []
  },
  {
   "cell_type": "code",
   "execution_count": null,
   "metadata": {},
   "outputs": [],
   "source": []
  }
 ],
 "metadata": {
  "kernelspec": {
   "display_name": "ai-basic",
   "language": "python",
   "name": "python3"
  },
  "language_info": {
   "codemirror_mode": {
    "name": "ipython",
    "version": 3
   },
   "file_extension": ".py",
   "mimetype": "text/x-python",
   "name": "python",
   "nbconvert_exporter": "python",
   "pygments_lexer": "ipython3",
   "version": "3.9.13"
  },
  "orig_nbformat": 4
 },
 "nbformat": 4,
 "nbformat_minor": 2
}
