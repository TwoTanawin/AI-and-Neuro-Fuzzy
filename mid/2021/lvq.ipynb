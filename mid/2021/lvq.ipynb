{
 "cells": [
  {
   "cell_type": "code",
   "execution_count": 5,
   "metadata": {},
   "outputs": [],
   "source": [
    "import numpy as np"
   ]
  },
  {
   "cell_type": "code",
   "execution_count": 6,
   "metadata": {},
   "outputs": [],
   "source": [
    "# class 1 [1 0 0]\n",
    "p1 = np.array([0, 7, 7])\n",
    "p2 = np.array([0, 9, 9])\n",
    "p3 = np.array([8,0,0])\n",
    "p4 = np.array([9, 0, 0])\n",
    "\n",
    "# class 2 [0 1 0]\n",
    "p5 = np.array([7, 7, 8])\n",
    "p6 = np.array([9,9,10])\n",
    "p7 = np.array([0,0,1])\n",
    "p8 = np.array([0,0,2])\n",
    "\n",
    "# class 3 [0 0 1]\n",
    "p9 = np.array([4,4,6])\n",
    "p10 = np.array([6,6,4])\n"
   ]
  },
  {
   "cell_type": "code",
   "execution_count": 7,
   "metadata": {},
   "outputs": [
    {
     "name": "stdout",
     "output_type": "stream",
     "text": [
      "3\n"
     ]
    }
   ],
   "source": [
    "print(len(p1))"
   ]
  },
  {
   "cell_type": "code",
   "execution_count": 8,
   "metadata": {},
   "outputs": [
    {
     "name": "stdout",
     "output_type": "stream",
     "text": [
      "[[0 7 7]\n",
      " [0 9 9]\n",
      " [8 0 0]]\n",
      "[0 7 7]\n",
      "------- Iteration 0 -------\n",
      "[0. 7. 7.]\n",
      "[0 9 9]\n",
      "------- Iteration 1 -------\n",
      "[ 0. 16. 16.]\n",
      "[8 0 0]\n",
      "------- Iteration 2 -------\n",
      "[ 8. 16. 16.]\n"
     ]
    }
   ],
   "source": [
    "new_stack_w1 = np.array([p1, p2, p3])\n",
    "print(new_stack_w1)\n",
    "\n",
    "w = np.zeros(len(new_stack_w1))\n",
    "\n",
    "\n",
    "for i in range(len(new_stack_w1)):\n",
    "    current_array = new_stack_w1[i]\n",
    "    print(current_array)\n",
    "    print(f\"------- Iteration {i} -------\")\n",
    "    w = w + new_stack_w1[i]\n",
    "    print(w)\n"
   ]
  },
  {
   "cell_type": "code",
   "execution_count": null,
   "metadata": {},
   "outputs": [],
   "source": []
  }
 ],
 "metadata": {
  "kernelspec": {
   "display_name": "ai-basic",
   "language": "python",
   "name": "python3"
  },
  "language_info": {
   "codemirror_mode": {
    "name": "ipython",
    "version": 3
   },
   "file_extension": ".py",
   "mimetype": "text/x-python",
   "name": "python",
   "nbconvert_exporter": "python",
   "pygments_lexer": "ipython3",
   "version": "3.9.13"
  },
  "orig_nbformat": 4
 },
 "nbformat": 4,
 "nbformat_minor": 2
}
