{
 "cells": [
  {
   "cell_type": "code",
   "execution_count": 217,
   "metadata": {},
   "outputs": [],
   "source": [
    "import numpy as np\n",
    "from sympy import symbols, Eq, solve"
   ]
  },
  {
   "cell_type": "code",
   "execution_count": 218,
   "metadata": {},
   "outputs": [
    {
     "name": "stdout",
     "output_type": "stream",
     "text": [
      "[1 1 1 1 1]\n"
     ]
    }
   ],
   "source": [
    "input_p = np.array([[1,1,1,1,1],\n",
    "                    [2,3,1,5,6],\n",
    "                    [9,7,4,2,1],\n",
    "                    [-4, -7, -3, -8, -2],\n",
    "                    [-5,-9,-3,-2,-1]])\n",
    "\n",
    "print(input_p[0])"
   ]
  },
  {
   "cell_type": "code",
   "execution_count": 219,
   "metadata": {},
   "outputs": [
    {
     "name": "stdout",
     "output_type": "stream",
     "text": [
      "[[ 1  2  0  4  5]\n",
      " [ 8  6  3  1  0]\n",
      " [ 5  8  4  9  3]\n",
      " [ 6 10  4  3  2]]\n"
     ]
    }
   ],
   "source": [
    "w_layer1 = []\n",
    "\n",
    "for i in range(len(input_p) - 1):\n",
    "    row = input_p[i + 1] - input_p[0]\n",
    "    w_layer1.append(row)\n",
    "\n",
    "w_layer1 = abs(np.array(w_layer1))\n",
    "\n",
    "print(w_layer1)\n"
   ]
  },
  {
   "cell_type": "code",
   "execution_count": 220,
   "metadata": {},
   "outputs": [
    {
     "name": "stdout",
     "output_type": "stream",
     "text": [
      "[1 2 0 4 5]\n",
      "[8 6 3 1 0]\n",
      "[5 8 4 9 3]\n",
      "[ 6 10  4  3  2]\n"
     ]
    }
   ],
   "source": [
    "for i in range(len(w_layer1)):\n",
    "    print(w_layer1[i])"
   ]
  },
  {
   "cell_type": "code",
   "execution_count": 221,
   "metadata": {},
   "outputs": [
    {
     "name": "stdout",
     "output_type": "stream",
     "text": [
      "[[ 2  0  4  5]\n",
      " [ 6  3  1  0]\n",
      " [ 8  4  9  3]\n",
      " [10  4  3  2]]\n"
     ]
    }
   ],
   "source": [
    "new_w_layer1 = []\n",
    "\n",
    "for i in range(len(w_layer1)):\n",
    "    new_w_layer1.append(w_layer1[i][1:])\n",
    "new_w_layer1 = np.array(new_w_layer1)   \n",
    "print(new_w_layer1)"
   ]
  },
  {
   "cell_type": "code",
   "execution_count": 222,
   "metadata": {},
   "outputs": [
    {
     "name": "stdout",
     "output_type": "stream",
     "text": [
      "[1]\n"
     ]
    }
   ],
   "source": [
    "print(w_layer1[0][:1])"
   ]
  },
  {
   "cell_type": "code",
   "execution_count": 223,
   "metadata": {},
   "outputs": [
    {
     "name": "stdout",
     "output_type": "stream",
     "text": [
      "[[-1]\n",
      " [-8]\n",
      " [-5]\n",
      " [-6]]\n"
     ]
    }
   ],
   "source": [
    "new_w_layer11 = []\n",
    "\n",
    "for i in range(len(w_layer1)):\n",
    "    new_w_layer11.append(w_layer1[i][:1])\n",
    "new_w_layer11 = np.array(new_w_layer11)   \n",
    "new_w_layer11 = new_w_layer11*(-1)\n",
    "print(new_w_layer11)"
   ]
  },
  {
   "cell_type": "code",
   "execution_count": 224,
   "metadata": {},
   "outputs": [
    {
     "name": "stdout",
     "output_type": "stream",
     "text": [
      "[[  4.1 ]\n",
      " [-11.58]\n",
      " [  2.13]\n",
      " [ -3.54]]\n"
     ]
    }
   ],
   "source": [
    "w = np.round(np.dot(np.linalg.inv(new_w_layer1), new_w_layer11),2)\n",
    "\n",
    "print(w)"
   ]
  },
  {
   "cell_type": "code",
   "execution_count": 225,
   "metadata": {},
   "outputs": [
    {
     "name": "stdout",
     "output_type": "stream",
     "text": [
      "[  1.     4.1  -11.58   2.13  -3.54]\n"
     ]
    }
   ],
   "source": [
    "w = np.insert(w, 0, 1, axis=0)\n",
    "\n",
    "w = w.flatten()\n",
    "\n",
    "w_inv = w*(-1)\n",
    "\n",
    "print(w)"
   ]
  },
  {
   "cell_type": "code",
   "execution_count": 226,
   "metadata": {},
   "outputs": [
    {
     "name": "stdout",
     "output_type": "stream",
     "text": [
      "[7.89000000000000]\n",
      "[-26.8300000000000]\n"
     ]
    }
   ],
   "source": [
    "# Define symbolic variable\n",
    "bias = symbols('bias')\n",
    "\n",
    "# Create the equation\n",
    "eqn = Eq(np.dot(w, input_p[0]) + bias, 0)\n",
    "\n",
    "# Solve for bias\n",
    "solutions = solve(eqn, bias)\n",
    "print(solutions)\n",
    "\n",
    "test_input = np.array([1,2,3,4,5])\n",
    "print(np.dot(w, test_input)+solutions)"
   ]
  },
  {
   "cell_type": "code",
   "execution_count": 228,
   "metadata": {},
   "outputs": [
    {
     "name": "stdout",
     "output_type": "stream",
     "text": [
      "--------- ITERATION 0 ----------\n",
      "[7.89000000000000]\n",
      "[-26.8300000000000]\n",
      "--------- ITERATION 1 ----------\n",
      "[-7.89000000000000]\n",
      "[26.8300000000000]\n"
     ]
    }
   ],
   "source": [
    "for i in range(2):\n",
    "    print(f\"--------- ITERATION {i} ----------\")\n",
    "    # Define symbolic variable\n",
    "    bias = symbols('bias')\n",
    "\n",
    "    # Create the equation\n",
    "    eqn = Eq(np.dot(w, input_p[0]) + bias, 0)\n",
    "\n",
    "    # Solve for bias\n",
    "    solutions = solve(eqn, bias)\n",
    "    print(solutions)\n",
    "\n",
    "    test_input = np.array([1,2,3,4,5])\n",
    "    print(np.dot(w, test_input)+solutions)\n",
    "    \n",
    "    w = w_inv"
   ]
  },
  {
   "cell_type": "code",
   "execution_count": null,
   "metadata": {},
   "outputs": [],
   "source": []
  }
 ],
 "metadata": {
  "kernelspec": {
   "display_name": "ai-basic",
   "language": "python",
   "name": "python3"
  },
  "language_info": {
   "codemirror_mode": {
    "name": "ipython",
    "version": 3
   },
   "file_extension": ".py",
   "mimetype": "text/x-python",
   "name": "python",
   "nbconvert_exporter": "python",
   "pygments_lexer": "ipython3",
   "version": "3.9.13"
  },
  "orig_nbformat": 4
 },
 "nbformat": 4,
 "nbformat_minor": 2
}
