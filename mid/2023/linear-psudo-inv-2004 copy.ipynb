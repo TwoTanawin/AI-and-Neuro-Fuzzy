{
 "cells": [
  {
   "cell_type": "code",
   "execution_count": 104,
   "metadata": {},
   "outputs": [],
   "source": [
    "import numpy as np"
   ]
  },
  {
   "cell_type": "code",
   "execution_count": 105,
   "metadata": {},
   "outputs": [
    {
     "name": "stdout",
     "output_type": "stream",
     "text": [
      "size of p : 7\n"
     ]
    }
   ],
   "source": [
    "p1 = np.array([1, 1, 1, 1, 1, 1 ,0])\n",
    "p2 = np.array([0, 1, 1, 0, 0, 0, 0])\n",
    "p3 = np.array([1, 1, 0, 1, 1, 0, 1])\n",
    "p4 = np.array([1, 1, 1, 1, 0, 0, 1])\n",
    "p5 = np.array([0, 1, 1, 0, 0, 1 ,1])\n",
    "# p4 = np.array([4, 16, 64, 256])\n",
    "\n",
    "t1 = np.array([0])\n",
    "t2 = np.array([1])\n",
    "t3 = np.array([2])\n",
    "t4 = np.array([3])\n",
    "t5 = np.array([4])\n",
    "# t4 = np.array([80])\n",
    "\n",
    "print(f\"size of p : {len(p1)}\")"
   ]
  },
  {
   "cell_type": "code",
   "execution_count": 106,
   "metadata": {},
   "outputs": [
    {
     "name": "stdout",
     "output_type": "stream",
     "text": [
      "[[1 0 1 1 0]\n",
      " [1 1 1 1 1]\n",
      " [1 1 0 1 1]\n",
      " [1 0 1 1 0]\n",
      " [1 0 1 0 0]\n",
      " [1 0 0 0 1]\n",
      " [0 0 1 1 1]]\n"
     ]
    }
   ],
   "source": [
    "P = np.array([p1, p2, p3, p4, p5])\n",
    "P = P.T\n",
    "print(P)\n"
   ]
  },
  {
   "cell_type": "code",
   "execution_count": 107,
   "metadata": {},
   "outputs": [
    {
     "name": "stdout",
     "output_type": "stream",
     "text": [
      "[[0 1 2 3 4]]\n"
     ]
    }
   ],
   "source": [
    "T = np.array([t1, t2, t3, t4, t5])\n",
    "T = T.T\n",
    "\n",
    "print(T)"
   ]
  },
  {
   "cell_type": "code",
   "execution_count": 108,
   "metadata": {},
   "outputs": [
    {
     "name": "stdout",
     "output_type": "stream",
     "text": [
      "[[1 1 1 1 1 1 0]\n",
      " [0 1 1 0 0 0 0]\n",
      " [1 1 0 1 1 0 1]\n",
      " [1 1 1 1 0 0 1]\n",
      " [0 1 1 0 0 1 1]]\n"
     ]
    }
   ],
   "source": [
    "PT = P.transpose()\n",
    "\n",
    "print(PT)"
   ]
  },
  {
   "cell_type": "code",
   "execution_count": 109,
   "metadata": {},
   "outputs": [
    {
     "name": "stdout",
     "output_type": "stream",
     "text": [
      "---------- step 2 ----------\n",
      "[[6 2 4 4 3]\n",
      " [2 2 1 2 2]\n",
      " [4 1 5 4 2]\n",
      " [4 2 4 5 3]\n",
      " [3 2 2 3 4]]\n",
      "---------- step 3 ----------\n",
      "[[ 0.207 -0.172  0.172  0.207  0.172  0.414 -0.414]\n",
      " [-0.31   0.759  0.241 -0.31   0.241 -0.621 -0.379]\n",
      " [-0.138  0.448 -0.448 -0.138  0.552 -0.276  0.276]\n",
      " [ 0.414 -0.345  0.345  0.414 -0.655 -0.172  0.172]\n",
      " [-0.241  0.034 -0.034 -0.241 -0.034  0.517  0.483]]\n"
     ]
    }
   ],
   "source": [
    "print(\"---------- step 2 ----------\")\n",
    "\n",
    "print(np.dot(PT, P))\n",
    "\n",
    "print(\"---------- step 3 ----------\")\n",
    "\n",
    "print(np.round(np.dot(np.linalg.inv(np.dot(PT, P)),PT),3))"
   ]
  },
  {
   "cell_type": "code",
   "execution_count": 110,
   "metadata": {},
   "outputs": [
    {
     "name": "stdout",
     "output_type": "stream",
     "text": [
      "[[-0.31   0.759  0.241 -0.31  -0.759  0.379  2.621]]\n"
     ]
    }
   ],
   "source": [
    "w = np.round(np.dot(np.dot(T, np.linalg.inv(np.dot(PT, P))), PT), 3)\n",
    "print(w)"
   ]
  },
  {
   "cell_type": "code",
   "execution_count": 111,
   "metadata": {},
   "outputs": [
    {
     "name": "stdout",
     "output_type": "stream",
     "text": [
      "[0.]\n"
     ]
    }
   ],
   "source": [
    "w1 = np.dot(w,PT[0])\n",
    "print(w1)"
   ]
  },
  {
   "cell_type": "code",
   "execution_count": 112,
   "metadata": {},
   "outputs": [
    {
     "name": "stdout",
     "output_type": "stream",
     "text": [
      "wp0 : 0.0\n",
      "wp1 : 1.0\n",
      "wp2 : 2.0\n",
      "wp3 : 3.0\n",
      "wp4 : 4.0\n",
      "[0. 1. 2. 3. 4.]\n",
      "(5,)\n"
     ]
    }
   ],
   "source": [
    "w_history = np.array([])\n",
    "for i in range(len(PT)):\n",
    "    w_history = np.round(np.append(w_history, np.dot(w, PT[i])), 2)\n",
    "    print(f\"wp{i} : {w_history[i]}\")\n",
    "print(w_history)\n",
    "print(w_history.shape)"
   ]
  },
  {
   "cell_type": "code",
   "execution_count": 113,
   "metadata": {},
   "outputs": [
    {
     "name": "stdout",
     "output_type": "stream",
     "text": [
      "wp0 : 0.0\n",
      "wp1 : 1.0\n",
      "wp2 : 2.0\n",
      "wp3 : 3.0\n",
      "wp4 : 4.0\n"
     ]
    }
   ],
   "source": [
    "for i in range(len(w_history)):\n",
    "    print(f\"wp{i} : {w_history[i]}\")"
   ]
  },
  {
   "cell_type": "markdown",
   "metadata": {},
   "source": [
    "## Test weight"
   ]
  },
  {
   "cell_type": "code",
   "execution_count": 114,
   "metadata": {},
   "outputs": [
    {
     "name": "stdout",
     "output_type": "stream",
     "text": [
      "0.0\n",
      "1.0\n",
      "2.0\n",
      "3.0\n",
      "4.0\n"
     ]
    }
   ],
   "source": [
    "test_weight = np.array([])\n",
    "for i in range(len(PT)):\n",
    "    test_weight = np.round(np.append(test_weight, np.dot(w, PT[i])), 2)\n",
    "    print(test_weight[i])"
   ]
  },
  {
   "cell_type": "code",
   "execution_count": null,
   "metadata": {},
   "outputs": [],
   "source": []
  }
 ],
 "metadata": {
  "kernelspec": {
   "display_name": "ai-basic",
   "language": "python",
   "name": "python3"
  },
  "language_info": {
   "codemirror_mode": {
    "name": "ipython",
    "version": 3
   },
   "file_extension": ".py",
   "mimetype": "text/x-python",
   "name": "python",
   "nbconvert_exporter": "python",
   "pygments_lexer": "ipython3",
   "version": "3.9.13"
  },
  "orig_nbformat": 4
 },
 "nbformat": 4,
 "nbformat_minor": 2
}
