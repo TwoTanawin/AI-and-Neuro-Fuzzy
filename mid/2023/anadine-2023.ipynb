{
 "cells": [
  {
   "cell_type": "code",
   "execution_count": 64,
   "metadata": {},
   "outputs": [],
   "source": [
    "import numpy as np"
   ]
  },
  {
   "cell_type": "markdown",
   "metadata": {},
   "source": [
    "## Set Parameter"
   ]
  },
  {
   "cell_type": "code",
   "execution_count": 65,
   "metadata": {},
   "outputs": [
    {
     "name": "stdout",
     "output_type": "stream",
     "text": [
      "[1 1 1 1 1 1]\n"
     ]
    }
   ],
   "source": [
    "k_1 = np.array([-1,0,1,2,3,4])\n",
    "# print(len(x))\n",
    "# print(x)\n",
    "k_2 = np.array([-2,-1,0,1,2,3])\n",
    "# print(y)\n",
    "y = np.array([10, 5, 4.5, 3.25, 2.53, 1.91])\n",
    "# print(z)\n",
    "\n",
    "# f = np.array([8, 15, 19, 23, 17, 21, 25, 19, 23, 27])\n",
    "# print(f)\n",
    "\n",
    "value = 1 \n",
    "bias = np.full(len(y), value)\n",
    "print(bias)"
   ]
  },
  {
   "cell_type": "markdown",
   "metadata": {},
   "source": [
    "## Set New column Stack"
   ]
  },
  {
   "cell_type": "code",
   "execution_count": 66,
   "metadata": {},
   "outputs": [
    {
     "name": "stdout",
     "output_type": "stream",
     "text": [
      "6\n",
      "[[-1 -2]\n",
      " [ 0 -1]\n",
      " [ 1  0]\n",
      " [ 2  1]\n",
      " [ 3  2]\n",
      " [ 4  3]]\n"
     ]
    }
   ],
   "source": [
    "new_column_stack = np.column_stack((k_1,k_2))\n",
    "\n",
    "print(len(new_column_stack))\n",
    "\n",
    "print(new_column_stack)"
   ]
  },
  {
   "cell_type": "markdown",
   "metadata": {},
   "source": [
    "## Func to cal parameter c"
   ]
  },
  {
   "cell_type": "code",
   "execution_count": 67,
   "metadata": {},
   "outputs": [],
   "source": [
    "def cal_c_value(y):\n",
    "    c = 1/len(y)*(sum(y**2))\n",
    "    return c"
   ]
  },
  {
   "cell_type": "markdown",
   "metadata": {},
   "source": [
    "## Func to cal parameter h"
   ]
  },
  {
   "cell_type": "code",
   "execution_count": 68,
   "metadata": {},
   "outputs": [],
   "source": [
    "def cal_h_value(y,new_column_stack):\n",
    "    a = 0\n",
    "    h = 0\n",
    "    for i in range(len(y)):\n",
    "        a = a + y[i]*new_column_stack[i]\n",
    "        \n",
    "    h = (1/len(y))*a\n",
    "        \n",
    "    return h"
   ]
  },
  {
   "cell_type": "markdown",
   "metadata": {},
   "source": [
    "## Func to cal parameter R"
   ]
  },
  {
   "cell_type": "code",
   "execution_count": 69,
   "metadata": {},
   "outputs": [],
   "source": [
    "def cal_R_value(new_column_stack):\n",
    "    a = np.zeros((len(new_column_stack[0]), len(new_column_stack[0])))  # Initialize a zero matrix of the correct size\n",
    "    R = np.zeros((len(new_column_stack[0]), len(new_column_stack[0])))  # Initialize R as a zero matrix\n",
    "\n",
    "    for i in range(len(new_column_stack)):\n",
    "        a += np.outer(new_column_stack[i], new_column_stack[i])  # Compute the outer product and add it to 'a'\n",
    "    \n",
    "    R = (1/len(new_column_stack))*a\n",
    "    \n",
    "    return R"
   ]
  },
  {
   "cell_type": "markdown",
   "metadata": {},
   "source": [
    "## Func to cal parameter a ... an"
   ]
  },
  {
   "cell_type": "code",
   "execution_count": 70,
   "metadata": {},
   "outputs": [],
   "source": [
    "def cal_a_value(R, h):\n",
    "    a = np.dot(np.linalg.inv(R), h)  # Matrix multiplication between R and h\n",
    "    return a"
   ]
  },
  {
   "cell_type": "code",
   "execution_count": 71,
   "metadata": {},
   "outputs": [
    {
     "name": "stdout",
     "output_type": "stream",
     "text": [
      "c : 27.64\n",
      "h : [ 2.7  -1.83]\n",
      "R :\n",
      "[[5.17 3.67]\n",
      " [3.67 3.17]]\n",
      "a :\n",
      "[ 5.23 -6.63]\n"
     ]
    }
   ],
   "source": [
    "c = np.round(cal_c_value(y), 2)\n",
    "print(f\"c : {c}\")\n",
    "# print(c)\n",
    "\n",
    "h = np.round(cal_h_value(y, new_column_stack), 2)\n",
    "print(f\"h : {h}\")\n",
    "# print(h)\n",
    "\n",
    "R = np.round(cal_R_value(new_column_stack), 2)\n",
    "print(\"R :\")\n",
    "print(R)\n",
    "\n",
    "a = np.round(cal_a_value(R, h), 2)\n",
    "print(\"a :\")\n",
    "print(a)"
   ]
  },
  {
   "cell_type": "markdown",
   "metadata": {},
   "source": [
    "## quadratic parameter set parameter"
   ]
  },
  {
   "cell_type": "code",
   "execution_count": 72,
   "metadata": {},
   "outputs": [
    {
     "name": "stdout",
     "output_type": "stream",
     "text": [
      "[[-1.   -2.   10.  ]\n",
      " [ 0.   -1.    5.  ]\n",
      " [ 1.    0.    4.5 ]\n",
      " [ 2.    1.    3.25]\n",
      " [ 3.    2.    2.53]\n",
      " [ 4.    3.    1.91]]\n",
      "[-1. -2. 10.]\n",
      "[-1 -2]\n"
     ]
    }
   ],
   "source": [
    "learning_rate = np.array([0.05])\n",
    "\n",
    "a_test = np.array([0, 0, 0, 0, 0, 0]) # a start parameter \n",
    "\n",
    "quad_column_stack = np.column_stack((k_1,k_2,y)) # sort quadratic\n",
    "print(quad_column_stack)\n",
    "\n",
    "print(quad_column_stack[0])\n",
    "print(new_column_stack[0])"
   ]
  },
  {
   "cell_type": "code",
   "execution_count": 73,
   "metadata": {},
   "outputs": [
    {
     "name": "stdout",
     "output_type": "stream",
     "text": [
      "[0 0 0 0 0 0]\n",
      "[-1 -2]\n"
     ]
    },
    {
     "ename": "ValueError",
     "evalue": "shapes (6,) and (2,) not aligned: 6 (dim 0) != 2 (dim 0)",
     "output_type": "error",
     "traceback": [
      "\u001b[0;31m---------------------------------------------------------------------------\u001b[0m",
      "\u001b[0;31mValueError\u001b[0m                                Traceback (most recent call last)",
      "\u001b[1;32m/Users/twomac/Documents/Two/AIT/ISE/AI & Neuro-Fuzzy/Computing/mid/2023/anadine-2012 copy.ipynb Cell 17\u001b[0m line \u001b[0;36m4\n\u001b[1;32m      <a href='vscode-notebook-cell:/Users/twomac/Documents/Two/AIT/ISE/AI%20%26%20Neuro-Fuzzy/Computing/mid/2023/anadine-2012%20copy.ipynb#X22sZmlsZQ%3D%3D?line=0'>1</a>\u001b[0m \u001b[39mprint\u001b[39m(a_test)\n\u001b[1;32m      <a href='vscode-notebook-cell:/Users/twomac/Documents/Two/AIT/ISE/AI%20%26%20Neuro-Fuzzy/Computing/mid/2023/anadine-2012%20copy.ipynb#X22sZmlsZQ%3D%3D?line=1'>2</a>\u001b[0m \u001b[39mprint\u001b[39m(new_column_stack[\u001b[39m0\u001b[39m])\n\u001b[0;32m----> <a href='vscode-notebook-cell:/Users/twomac/Documents/Two/AIT/ISE/AI%20%26%20Neuro-Fuzzy/Computing/mid/2023/anadine-2012%20copy.ipynb#X22sZmlsZQ%3D%3D?line=3'>4</a>\u001b[0m e \u001b[39m=\u001b[39m y[\u001b[39m0\u001b[39m]\u001b[39m-\u001b[39m (np\u001b[39m.\u001b[39;49mdot(a_test, new_column_stack[\u001b[39m0\u001b[39;49m]))\n\u001b[1;32m      <a href='vscode-notebook-cell:/Users/twomac/Documents/Two/AIT/ISE/AI%20%26%20Neuro-Fuzzy/Computing/mid/2023/anadine-2012%20copy.ipynb#X22sZmlsZQ%3D%3D?line=5'>6</a>\u001b[0m \u001b[39mprint\u001b[39m(e)\n\u001b[1;32m      <a href='vscode-notebook-cell:/Users/twomac/Documents/Two/AIT/ISE/AI%20%26%20Neuro-Fuzzy/Computing/mid/2023/anadine-2012%20copy.ipynb#X22sZmlsZQ%3D%3D?line=7'>8</a>\u001b[0m w11 \u001b[39m=\u001b[39m a_test \u001b[39m+\u001b[39m \u001b[39m2\u001b[39m \u001b[39m*\u001b[39m learning_rate \u001b[39m*\u001b[39m np\u001b[39m.\u001b[39mdot(e, new_column_stack[\u001b[39m0\u001b[39m])\n",
      "\u001b[0;31mValueError\u001b[0m: shapes (6,) and (2,) not aligned: 6 (dim 0) != 2 (dim 0)"
     ]
    }
   ],
   "source": [
    "print(a_test)\n",
    "print(new_column_stack[0])\n",
    "\n",
    "e = y[0]- (np.dot(a_test, new_column_stack[0]))\n",
    "\n",
    "print(e)\n",
    "\n",
    "w11 = a_test + 2 * learning_rate * np.dot(e, new_column_stack[0])\n",
    "\n",
    "print(w11)\n"
   ]
  },
  {
   "cell_type": "code",
   "execution_count": null,
   "metadata": {},
   "outputs": [
    {
     "name": "stdout",
     "output_type": "stream",
     "text": [
      "---------- ITERATION 1 ----------\n"
     ]
    },
    {
     "ename": "NameError",
     "evalue": "name 'quad_column_stack' is not defined",
     "output_type": "error",
     "traceback": [
      "\u001b[0;31m---------------------------------------------------------------------------\u001b[0m",
      "\u001b[0;31mNameError\u001b[0m                                 Traceback (most recent call last)",
      "\u001b[1;32m/Users/twomac/Documents/Two/AIT/ISE/AI & Neuro-Fuzzy/Computing/mid/2023/anadine-2012 copy.ipynb Cell 18\u001b[0m line \u001b[0;36m3\n\u001b[1;32m      <a href='vscode-notebook-cell:/Users/twomac/Documents/Two/AIT/ISE/AI%20%26%20Neuro-Fuzzy/Computing/mid/2023/anadine-2012%20copy.ipynb#X23sZmlsZQ%3D%3D?line=0'>1</a>\u001b[0m \u001b[39mfor\u001b[39;00m i \u001b[39min\u001b[39;00m \u001b[39mrange\u001b[39m(\u001b[39mlen\u001b[39m(y)):\n\u001b[1;32m      <a href='vscode-notebook-cell:/Users/twomac/Documents/Two/AIT/ISE/AI%20%26%20Neuro-Fuzzy/Computing/mid/2023/anadine-2012%20copy.ipynb#X23sZmlsZQ%3D%3D?line=1'>2</a>\u001b[0m     \u001b[39mprint\u001b[39m(\u001b[39mf\u001b[39m\u001b[39m\"\u001b[39m\u001b[39m---------- ITERATION \u001b[39m\u001b[39m{\u001b[39;00mi\u001b[39m+\u001b[39m\u001b[39m1\u001b[39m\u001b[39m}\u001b[39;00m\u001b[39m ----------\u001b[39m\u001b[39m\"\u001b[39m)\n\u001b[0;32m----> <a href='vscode-notebook-cell:/Users/twomac/Documents/Two/AIT/ISE/AI%20%26%20Neuro-Fuzzy/Computing/mid/2023/anadine-2012%20copy.ipynb#X23sZmlsZQ%3D%3D?line=2'>3</a>\u001b[0m     \u001b[39mprint\u001b[39m(\u001b[39mf\u001b[39m\u001b[39m\"\u001b[39m\u001b[39mpresent : \u001b[39m\u001b[39m{\u001b[39;00mquad_column_stack[i]\u001b[39m}\u001b[39;00m\u001b[39m\"\u001b[39m)\n\u001b[1;32m      <a href='vscode-notebook-cell:/Users/twomac/Documents/Two/AIT/ISE/AI%20%26%20Neuro-Fuzzy/Computing/mid/2023/anadine-2012%20copy.ipynb#X23sZmlsZQ%3D%3D?line=3'>4</a>\u001b[0m     e \u001b[39m=\u001b[39m np\u001b[39m.\u001b[39mround(y[i]\u001b[39m-\u001b[39m (np\u001b[39m.\u001b[39mdot(a_test, new_column_stack[i])), \u001b[39m3\u001b[39m)\n\u001b[1;32m      <a href='vscode-notebook-cell:/Users/twomac/Documents/Two/AIT/ISE/AI%20%26%20Neuro-Fuzzy/Computing/mid/2023/anadine-2012%20copy.ipynb#X23sZmlsZQ%3D%3D?line=4'>5</a>\u001b[0m     \u001b[39mprint\u001b[39m(\u001b[39mf\u001b[39m\u001b[39m\"\u001b[39m\u001b[39mwhen f \u001b[39m\u001b[39m{\u001b[39;00my[i]\u001b[39m}\u001b[39;00m\u001b[39m :\u001b[39m\u001b[39m\"\u001b[39m)\n",
      "\u001b[0;31mNameError\u001b[0m: name 'quad_column_stack' is not defined"
     ]
    }
   ],
   "source": [
    "for i in range(len(y)):\n",
    "    print(f\"---------- ITERATION {i+1} ----------\")\n",
    "    print(f\"present : {quad_column_stack[i]}\")\n",
    "    e = np.round(y[i]- (np.dot(a_test, new_column_stack[i])), 3)\n",
    "    print(f\"when f {y[i]} :\")\n",
    "    print(f\"f = {np.dot(a_test.T, new_column_stack[i])}\")\n",
    "    w = np.round(a_test + 2 * learning_rate * np.dot(e, new_column_stack[i]), 3)\n",
    "    \n",
    "    a_test = w\n",
    "    \n",
    "    \n",
    "    print(f\"error {i+1} (when f = {y[i]}): {e}\")\n",
    "    print(f\"weight {i+1} : \")\n",
    "    print(w)"
   ]
  },
  {
   "cell_type": "markdown",
   "metadata": {},
   "source": [
    "## MPL "
   ]
  },
  {
   "cell_type": "code",
   "execution_count": null,
   "metadata": {},
   "outputs": [
    {
     "name": "stdout",
     "output_type": "stream",
     "text": [
      "0.0\n",
      "-1.0\n",
      "[2. 2.]\n"
     ]
    }
   ],
   "source": [
    "a_d = np.array([0, 0])\n",
    "w_t = np.array([0, 0])\n",
    "y = np.dot(a, a_d)\n",
    "e = k_1[0]-y\n",
    "w_a = w_t+np.dot(2*e,k_1[0])\n",
    "\n",
    "w_t = w_a\n",
    "\n",
    "print(y)\n",
    "print(e)\n",
    "print(w_a)"
   ]
  },
  {
   "cell_type": "code",
   "execution_count": 75,
   "metadata": {},
   "outputs": [
    {
     "name": "stdout",
     "output_type": "stream",
     "text": [
      "0.0\n",
      "eeror -1.0\n",
      "-1.0\n",
      "[0.02 0.02]\n",
      "0.0\n",
      "eeror 0.0\n",
      "0.0\n",
      "[0.02 0.02]\n",
      "0.0\n",
      "eeror 1.0\n",
      "1.0\n",
      "[0.04 0.04]\n",
      "0.0\n",
      "eeror 2.0\n",
      "2.0\n",
      "[0.12 0.12]\n",
      "0.0\n",
      "eeror 3.0\n",
      "3.0\n",
      "[0.3 0.3]\n",
      "0.0\n",
      "eeror 4.0\n",
      "4.0\n",
      "[0.62 0.62]\n"
     ]
    }
   ],
   "source": [
    "a_d = np.array([0, 0])\n",
    "w_t = np.array([0, 0])\n",
    "for i in range((len(k_1))):\n",
    "    y = np.dot(a, a_d)\n",
    "    e = k_1[i]-y\n",
    "    w_a = w_t+np.dot(2*0.01*e,k_1[i])\n",
    "\n",
    "    w_t = w_a\n",
    "\n",
    "    print(y)\n",
    "    print(f\"eeror {e}\")\n",
    "    print(e)\n",
    "    \n",
    "    print(w_a)"
   ]
  }
 ],
 "metadata": {
  "kernelspec": {
   "display_name": "ai-basic",
   "language": "python",
   "name": "python3"
  },
  "language_info": {
   "codemirror_mode": {
    "name": "ipython",
    "version": 3
   },
   "file_extension": ".py",
   "mimetype": "text/x-python",
   "name": "python",
   "nbconvert_exporter": "python",
   "pygments_lexer": "ipython3",
   "version": "3.9.13"
  },
  "orig_nbformat": 4
 },
 "nbformat": 4,
 "nbformat_minor": 2
}
