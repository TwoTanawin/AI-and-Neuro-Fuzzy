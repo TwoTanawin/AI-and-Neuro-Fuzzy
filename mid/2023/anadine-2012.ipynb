{
 "cells": [
  {
   "cell_type": "code",
   "execution_count": 61,
   "metadata": {},
   "outputs": [],
   "source": [
    "import numpy as np"
   ]
  },
  {
   "cell_type": "markdown",
   "metadata": {},
   "source": [
    "## Set Parameter"
   ]
  },
  {
   "cell_type": "code",
   "execution_count": 62,
   "metadata": {},
   "outputs": [
    {
     "name": "stdout",
     "output_type": "stream",
     "text": [
      "10\n",
      "[0 1 1 1 1 1 1 1 1 1]\n",
      "[0 1 1 1 2 2 2 3 3 3]\n",
      "[0 1 2 3 1 2 3 1 2 3]\n",
      "[ 8 15 19 23 17 21 25 19 23 27]\n",
      "[1 1 1 1 1 1 1 1 1 1]\n"
     ]
    }
   ],
   "source": [
    "x = np.array([0, 1, 1, 1, 1, 1, 1, 1, 1, 1])\n",
    "print(len(x))\n",
    "print(x)\n",
    "y = np.array([0, 1, 1, 1, 2, 2, 2, 3, 3, 3])\n",
    "print(y)\n",
    "z = np.array([0, 1, 2, 3, 1, 2, 3, 1, 2, 3])\n",
    "print(z)\n",
    "\n",
    "f = np.array([8, 15, 19, 23, 17, 21, 25, 19, 23, 27])\n",
    "print(f)\n",
    "\n",
    "value = 1 \n",
    "bias = np.full(len(x), value)\n",
    "print(bias)"
   ]
  },
  {
   "cell_type": "markdown",
   "metadata": {},
   "source": [
    "## Set New column Stack"
   ]
  },
  {
   "cell_type": "code",
   "execution_count": 63,
   "metadata": {},
   "outputs": [
    {
     "name": "stdout",
     "output_type": "stream",
     "text": [
      "10\n",
      "[[0 0 0 1]\n",
      " [1 1 1 1]\n",
      " [1 1 2 1]\n",
      " [1 1 3 1]\n",
      " [1 2 1 1]\n",
      " [1 2 2 1]\n",
      " [1 2 3 1]\n",
      " [1 3 1 1]\n",
      " [1 3 2 1]\n",
      " [1 3 3 1]]\n"
     ]
    }
   ],
   "source": [
    "new_column_stack = np.column_stack((x, y, z, bias))\n",
    "\n",
    "print(len(new_column_stack))\n",
    "\n",
    "print(new_column_stack)"
   ]
  },
  {
   "cell_type": "markdown",
   "metadata": {},
   "source": [
    "## Func to cal parameter c"
   ]
  },
  {
   "cell_type": "code",
   "execution_count": 64,
   "metadata": {},
   "outputs": [],
   "source": [
    "def cal_c_value(y):\n",
    "    c = 1/len(y)*(sum(y**2))\n",
    "    return c"
   ]
  },
  {
   "cell_type": "markdown",
   "metadata": {},
   "source": [
    "## Func to cal parameter h"
   ]
  },
  {
   "cell_type": "code",
   "execution_count": 65,
   "metadata": {},
   "outputs": [],
   "source": [
    "def cal_h_value(y,new_column_stack):\n",
    "    a = 0\n",
    "    h = 0\n",
    "    for i in range(len(y)):\n",
    "        a = a + y[i]*new_column_stack[i]\n",
    "        \n",
    "    h = (1/len(y))*a\n",
    "        \n",
    "    return h"
   ]
  },
  {
   "cell_type": "markdown",
   "metadata": {},
   "source": [
    "## Func to cal parameter R"
   ]
  },
  {
   "cell_type": "code",
   "execution_count": 66,
   "metadata": {},
   "outputs": [],
   "source": [
    "def cal_R_value(new_column_stack):\n",
    "    a = np.zeros((len(new_column_stack[0]), len(new_column_stack[0])))  # Initialize a zero matrix of the correct size\n",
    "    R = np.zeros((len(new_column_stack[0]), len(new_column_stack[0])))  # Initialize R as a zero matrix\n",
    "\n",
    "    for i in range(len(new_column_stack)):\n",
    "        a += np.outer(new_column_stack[i], new_column_stack[i])  # Compute the outer product and add it to 'a'\n",
    "    \n",
    "    R = (1/len(new_column_stack))*a\n",
    "    \n",
    "    return R"
   ]
  },
  {
   "cell_type": "markdown",
   "metadata": {},
   "source": [
    "## Func to cal parameter a ... an"
   ]
  },
  {
   "cell_type": "code",
   "execution_count": 67,
   "metadata": {},
   "outputs": [],
   "source": [
    "def cal_a_value(R, h):\n",
    "    a = np.dot(np.linalg.inv(R), h)  # Matrix multiplication between R and h\n",
    "    return a"
   ]
  },
  {
   "cell_type": "code",
   "execution_count": 68,
   "metadata": {},
   "outputs": [
    {
     "name": "stdout",
     "output_type": "stream",
     "text": [
      "c : 415.3\n",
      "h : [18.9 39.  40.2 19.7]\n",
      "R :\n",
      "[[0.9 1.8 1.8 0.9]\n",
      " [1.8 4.2 3.6 1.8]\n",
      " [1.8 3.6 4.2 1.8]\n",
      " [0.9 1.8 1.8 1. ]]\n",
      "a :\n",
      "[1. 2. 4. 8.]\n"
     ]
    }
   ],
   "source": [
    "c = np.round(cal_c_value(f), 2)\n",
    "print(f\"c : {c}\")\n",
    "# print(c)\n",
    "\n",
    "h = np.round(cal_h_value(f, new_column_stack), 2)\n",
    "print(f\"h : {h}\")\n",
    "# print(h)\n",
    "\n",
    "R = np.round(cal_R_value(new_column_stack), 2)\n",
    "print(\"R :\")\n",
    "print(R)\n",
    "\n",
    "a = np.round(cal_a_value(R, h), 2)\n",
    "print(\"a :\")\n",
    "print(a)"
   ]
  },
  {
   "cell_type": "markdown",
   "metadata": {},
   "source": [
    "## quadratic parameter set parameter"
   ]
  },
  {
   "cell_type": "code",
   "execution_count": 69,
   "metadata": {},
   "outputs": [
    {
     "name": "stdout",
     "output_type": "stream",
     "text": [
      "[[ 0  0  0  8]\n",
      " [ 1  1  1 15]\n",
      " [ 1  1  2 19]\n",
      " [ 1  1  3 23]\n",
      " [ 1  2  1 17]\n",
      " [ 1  2  2 21]\n",
      " [ 1  2  3 25]\n",
      " [ 1  3  1 19]\n",
      " [ 1  3  2 23]\n",
      " [ 1  3  3 27]]\n",
      "[0 0 0 8]\n",
      "[0 0 0 1]\n"
     ]
    }
   ],
   "source": [
    "learning_rate = np.array([0.05])\n",
    "\n",
    "a_test = np.array([0, 0, 0, 0]) # a start parameter \n",
    "\n",
    "quad_column_stack = np.column_stack((x, y, z, f)) # sort quadratic\n",
    "print(quad_column_stack)\n",
    "\n",
    "print(quad_column_stack[0])\n",
    "print(new_column_stack[0])"
   ]
  },
  {
   "cell_type": "code",
   "execution_count": 70,
   "metadata": {},
   "outputs": [
    {
     "name": "stdout",
     "output_type": "stream",
     "text": [
      "[0 0 0 0]\n",
      "[0 0 0 1]\n",
      "8\n",
      "[0.  0.  0.  0.8]\n"
     ]
    }
   ],
   "source": [
    "print(a_test)\n",
    "print(new_column_stack[0])\n",
    "\n",
    "e = f[0]- (np.dot(a_test, new_column_stack[0]))\n",
    "print(e)\n",
    "\n",
    "w11 = a_test + 2 * learning_rate * np.dot(e, new_column_stack[0])\n",
    "\n",
    "print(w11)\n"
   ]
  },
  {
   "cell_type": "code",
   "execution_count": 71,
   "metadata": {},
   "outputs": [
    {
     "name": "stdout",
     "output_type": "stream",
     "text": [
      "---------- ITERATION 1 ----------\n",
      "present : [0 0 0 8]\n",
      "when f 8 :\n",
      "f = 0\n",
      "error 1 (when f = 8): 8\n",
      "weight 1 : \n",
      "[0.  0.  0.  0.8]\n",
      "---------- ITERATION 2 ----------\n",
      "present : [ 1  1  1 15]\n",
      "when f 15 :\n",
      "f = 0.8\n",
      "error 2 (when f = 15): 14.2\n",
      "weight 2 : \n",
      "[1.42 1.42 1.42 2.22]\n",
      "---------- ITERATION 3 ----------\n",
      "present : [ 1  1  2 19]\n",
      "when f 19 :\n",
      "f = 7.9\n",
      "error 3 (when f = 19): 11.1\n",
      "weight 3 : \n",
      "[2.53 2.53 3.64 3.33]\n",
      "---------- ITERATION 4 ----------\n",
      "present : [ 1  1  3 23]\n",
      "when f 23 :\n",
      "f = 19.31\n",
      "error 4 (when f = 23): 3.69\n",
      "weight 4 : \n",
      "[2.899 2.899 4.747 3.699]\n",
      "---------- ITERATION 5 ----------\n",
      "present : [ 1  2  1 17]\n",
      "when f 17 :\n",
      "f = 17.143\n",
      "error 5 (when f = 17): -0.143\n",
      "weight 5 : \n",
      "[2.885 2.87  4.733 3.685]\n",
      "---------- ITERATION 6 ----------\n",
      "present : [ 1  2  2 21]\n",
      "when f 21 :\n",
      "f = 21.776\n",
      "error 6 (when f = 21): -0.776\n",
      "weight 6 : \n",
      "[2.807 2.715 4.578 3.607]\n",
      "---------- ITERATION 7 ----------\n",
      "present : [ 1  2  3 25]\n",
      "when f 25 :\n",
      "f = 25.578\n",
      "error 7 (when f = 25): -0.578\n",
      "weight 7 : \n",
      "[2.749 2.599 4.405 3.549]\n",
      "---------- ITERATION 8 ----------\n",
      "present : [ 1  3  1 19]\n",
      "when f 19 :\n",
      "f = 18.5\n",
      "error 8 (when f = 19): 0.5\n",
      "weight 8 : \n",
      "[2.799 2.749 4.455 3.599]\n",
      "---------- ITERATION 9 ----------\n",
      "present : [ 1  3  2 23]\n",
      "when f 23 :\n",
      "f = 23.555\n",
      "error 9 (when f = 23): -0.555\n",
      "weight 9 : \n",
      "[2.744 2.582 4.344 3.544]\n",
      "---------- ITERATION 10 ----------\n",
      "present : [ 1  3  3 27]\n",
      "when f 27 :\n",
      "f = 27.066\n",
      "error 10 (when f = 27): -0.066\n",
      "weight 10 : \n",
      "[2.737 2.562 4.324 3.537]\n"
     ]
    }
   ],
   "source": [
    "for i in range(len(f)):\n",
    "    print(f\"---------- ITERATION {i+1} ----------\")\n",
    "    print(f\"present : {quad_column_stack[i]}\")\n",
    "    e = np.round(f[i]- (np.dot(a_test, new_column_stack[i])), 3)\n",
    "    print(f\"when f {f[i]} :\")\n",
    "    print(f\"f = {np.dot(a_test.T, new_column_stack[i])}\")\n",
    "    w = np.round(a_test + 2 * learning_rate * np.dot(e, new_column_stack[i]), 3)\n",
    "    \n",
    "    a_test = w\n",
    "    \n",
    "    \n",
    "    print(f\"error {i+1} (when f = {f[i]}): {e}\")\n",
    "    print(f\"weight {i+1} : \")\n",
    "    print(w)"
   ]
  },
  {
   "cell_type": "markdown",
   "metadata": {},
   "source": [
    "## MPL "
   ]
  },
  {
   "cell_type": "code",
   "execution_count": 72,
   "metadata": {},
   "outputs": [
    {
     "data": {
      "text/plain": [
       "[<matplotlib.lines.Line2D at 0x10b1aadc0>]"
      ]
     },
     "execution_count": 72,
     "metadata": {},
     "output_type": "execute_result"
    },
    {
     "data": {
      "image/png": "[encoded data removed]",
      "text/plain": [
       "<Figure size 640x480 with 1 Axes>"
      ]
     },
     "metadata": {},
     "output_type": "display_data"
    }
   ],
   "source": [
    "import matplotlib.pyplot as plt\n",
    "\n",
    "plt.plot(x, y)"
   ]
  },
  {
   "cell_type": "code",
   "execution_count": 73,
   "metadata": {},
   "outputs": [
    {
     "name": "stdout",
     "output_type": "stream",
     "text": [
      "0.2689414213699951\n"
     ]
    }
   ],
   "source": [
    "def sigmoid(x):\n",
    "    return 1 / (1 + np.exp(-x))\n",
    "\n",
    "print(sigmoid(-1))"
   ]
  },
  {
   "cell_type": "code",
   "execution_count": null,
   "metadata": {},
   "outputs": [],
   "source": []
  },
  {
   "cell_type": "code",
   "execution_count": null,
   "metadata": {},
   "outputs": [],
   "source": []
  }
 ],
 "metadata": {
  "kernelspec": {
   "display_name": "ai-basic",
   "language": "python",
   "name": "python3"
  },
  "language_info": {
   "codemirror_mode": {
    "name": "ipython",
    "version": 3
   },
   "file_extension": ".py",
   "mimetype": "text/x-python",
   "name": "python",
   "nbconvert_exporter": "python",
   "pygments_lexer": "ipython3",
   "version": "3.9.13"
  },
  "orig_nbformat": 4
 },
 "nbformat": 4,
 "nbformat_minor": 2
}
