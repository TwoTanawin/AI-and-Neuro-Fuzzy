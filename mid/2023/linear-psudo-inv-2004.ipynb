{
 "cells": [
  {
   "cell_type": "code",
   "execution_count": 16,
   "metadata": {},
   "outputs": [],
   "source": [
    "import numpy as np"
   ]
  },
  {
   "cell_type": "code",
   "execution_count": 17,
   "metadata": {},
   "outputs": [
    {
     "name": "stdout",
     "output_type": "stream",
     "text": [
      "25\n",
      "size of p : 25\n"
     ]
    }
   ],
   "source": [
    "p1 = np.array([1,1,1,1,1,\n",
    "               1,-1,-1,-1,1,\n",
    "               1,1,1,1,1,\n",
    "               1,-1,-1,-1,1,\n",
    "               1,-1,-1,-1,1])\n",
    "\n",
    "print(len(p1))\n",
    "p2 = np.array([1,1,1,1,1,\n",
    "               1,-1,-1,-1,-1,\n",
    "               1,1,1,1,1,\n",
    "               1,-1,-1,-1,-1,\n",
    "               1,1,1,1,1])\n",
    "\n",
    "p3 = np.array([-1,-1,1,-1,-1,\n",
    "               -1,-1,1,-1,-1,\n",
    "               -1,-1,1,-1,-1,\n",
    "               -1,-1,1,-1,-1,\n",
    "               -1,-1,1,-1,-1,])\n",
    "\n",
    "p4 = np.array([1,1,1,1,1,\n",
    "               1,-1,-1,-1,1,\n",
    "               1,-1,-1,-1,1,\n",
    "               1,-1,-1,-1,1,\n",
    "               1,1,1,1,1])\n",
    "\n",
    "p5 = np.array([1,-1,-1,-1,1,\n",
    "               1,-1,-1,-1,1,\n",
    "               1,-1,-1,-1,1,\n",
    "               1,-1,-1,-1,1,\n",
    "               1,1,1,1,1])\n",
    "# p4 = np.array([4, 16, 64, 256])\n",
    "\n",
    "t1 = np.array([65])\n",
    "t2 = np.array([69])\n",
    "t3 = np.array([73])\n",
    "t4 = np.array([79])\n",
    "t5 = np.array([85 ])\n",
    "# t4 = np.array([80])\n",
    "\n",
    "print(f\"size of p : {len(p1)}\")"
   ]
  },
  {
   "cell_type": "code",
   "execution_count": 18,
   "metadata": {},
   "outputs": [
    {
     "name": "stdout",
     "output_type": "stream",
     "text": [
      "[[ 1  1 -1  1  1]\n",
      " [ 1  1 -1  1 -1]\n",
      " [ 1  1  1  1 -1]\n",
      " [ 1  1 -1  1 -1]\n",
      " [ 1  1 -1  1  1]\n",
      " [ 1  1 -1  1  1]\n",
      " [-1 -1 -1 -1 -1]\n",
      " [-1 -1  1 -1 -1]\n",
      " [-1 -1 -1 -1 -1]\n",
      " [ 1 -1 -1  1  1]\n",
      " [ 1  1 -1  1  1]\n",
      " [ 1  1 -1 -1 -1]\n",
      " [ 1  1  1 -1 -1]\n",
      " [ 1  1 -1 -1 -1]\n",
      " [ 1  1 -1  1  1]\n",
      " [ 1  1 -1  1  1]\n",
      " [-1 -1 -1 -1 -1]\n",
      " [-1 -1  1 -1 -1]\n",
      " [-1 -1 -1 -1 -1]\n",
      " [ 1 -1 -1  1  1]\n",
      " [ 1  1 -1  1  1]\n",
      " [-1  1 -1  1  1]\n",
      " [-1  1  1  1  1]\n",
      " [-1  1 -1  1  1]\n",
      " [ 1  1 -1  1  1]]\n"
     ]
    }
   ],
   "source": [
    "P = np.array([p1, p2, p3, p4, p5])\n",
    "P = P.T\n",
    "print(P)\n"
   ]
  },
  {
   "cell_type": "code",
   "execution_count": 19,
   "metadata": {},
   "outputs": [
    {
     "name": "stdout",
     "output_type": "stream",
     "text": [
      "[[65 69 73 79 85]]\n"
     ]
    }
   ],
   "source": [
    "T = np.array([t1, t2, t3, t4, t5])\n",
    "T = T.T\n",
    "\n",
    "print(T)"
   ]
  },
  {
   "cell_type": "code",
   "execution_count": 20,
   "metadata": {},
   "outputs": [
    {
     "name": "stdout",
     "output_type": "stream",
     "text": [
      "[[ 1  1  1  1  1  1 -1 -1 -1  1  1  1  1  1  1  1 -1 -1 -1  1  1 -1 -1 -1\n",
      "   1]\n",
      " [ 1  1  1  1  1  1 -1 -1 -1 -1  1  1  1  1  1  1 -1 -1 -1 -1  1  1  1  1\n",
      "   1]\n",
      " [-1 -1  1 -1 -1 -1 -1  1 -1 -1 -1 -1  1 -1 -1 -1 -1  1 -1 -1 -1 -1  1 -1\n",
      "  -1]\n",
      " [ 1  1  1  1  1  1 -1 -1 -1  1  1 -1 -1 -1  1  1 -1 -1 -1  1  1  1  1  1\n",
      "   1]\n",
      " [ 1 -1 -1 -1  1  1 -1 -1 -1  1  1 -1 -1 -1  1  1 -1 -1 -1  1  1  1  1  1\n",
      "   1]]\n"
     ]
    }
   ],
   "source": [
    "PT = P.transpose()\n",
    "\n",
    "print(PT)"
   ]
  },
  {
   "cell_type": "code",
   "execution_count": 21,
   "metadata": {},
   "outputs": [
    {
     "name": "stdout",
     "output_type": "stream",
     "text": [
      "---------- step 2 ----------\n",
      "[[25 15 -9 13  7]\n",
      " [15 25 -7 15  9]\n",
      " [-9 -7 25 -9 -7]\n",
      " [13 15 -9 25 19]\n",
      " [ 7  9 -7 19 25]]\n",
      "---------- step 3 ----------\n",
      "[[ 0.018 -0.008  0.016 -0.008  0.018  0.018 -0.042 -0.018 -0.042  0.076\n",
      "   0.018  0.042  0.067  0.042  0.018  0.018 -0.042 -0.018 -0.042  0.076\n",
      "   0.018 -0.124 -0.1   -0.124  0.018]\n",
      " [ 0.019 -0.    -0.    -0.     0.019  0.019 -0.019 -0.019 -0.019 -0.135\n",
      "   0.019  0.077  0.077  0.077  0.019  0.019 -0.019 -0.019 -0.019 -0.135\n",
      "   0.019  0.077  0.077  0.077  0.019]\n",
      " [-0.024 -0.032  0.065 -0.032 -0.024 -0.024 -0.073  0.024 -0.073 -0.024\n",
      "  -0.024 -0.048  0.048 -0.048 -0.024 -0.024 -0.073  0.024 -0.073 -0.024\n",
      "  -0.024 -0.048  0.048 -0.048 -0.024]\n",
      " [-0.014  0.161  0.177  0.161 -0.014 -0.014 -0.002  0.014 -0.002  0.063\n",
      "  -0.014 -0.13  -0.114 -0.13  -0.014 -0.014 -0.002  0.014 -0.002  0.063\n",
      "  -0.014  0.037  0.053  0.037 -0.014]\n",
      " [ 0.032 -0.169 -0.161 -0.169  0.032  0.032 -0.04  -0.032 -0.04   0.012\n",
      "   0.032  0.006  0.014  0.006  0.032  0.032 -0.04  -0.032 -0.04   0.012\n",
      "   0.032  0.006  0.014  0.006  0.032]]\n"
     ]
    }
   ],
   "source": [
    "print(\"---------- step 2 ----------\")\n",
    "\n",
    "print(np.dot(PT, P))\n",
    "\n",
    "print(\"---------- step 3 ----------\")\n",
    "\n",
    "print(np.round(np.dot(np.linalg.inv(np.dot(PT, P)),PT),3))"
   ]
  },
  {
   "cell_type": "code",
   "execution_count": 22,
   "metadata": {},
   "outputs": [
    {
     "name": "stdout",
     "output_type": "stream",
     "text": [
      "[[  2.341  -4.532   6.065  -4.532   2.341   2.341 -12.938  -2.341 -12.938\n",
      "   -0.082   2.341  -5.254   5.343  -5.254   2.341   2.341 -12.938  -2.341\n",
      "  -12.938  -0.082   2.341  -2.92    7.677  -2.92    2.341]]\n"
     ]
    }
   ],
   "source": [
    "w = np.round(np.dot(np.dot(T, np.linalg.inv(np.dot(PT, P))), PT), 3)\n",
    "print(w)"
   ]
  },
  {
   "cell_type": "code",
   "execution_count": 23,
   "metadata": {},
   "outputs": [
    {
     "name": "stdout",
     "output_type": "stream",
     "text": [
      "[64.997]\n"
     ]
    }
   ],
   "source": [
    "w1 = np.dot(w,PT[0])\n",
    "print(w1)"
   ]
  },
  {
   "cell_type": "code",
   "execution_count": 24,
   "metadata": {},
   "outputs": [
    {
     "name": "stdout",
     "output_type": "stream",
     "text": [
      "wp0 : 65.0\n",
      "wp1 : 69.0\n",
      "wp2 : 73.0\n",
      "wp3 : 79.0\n",
      "wp4 : 85.0\n",
      "[65. 69. 73. 79. 85.]\n",
      "(5,)\n"
     ]
    }
   ],
   "source": [
    "w_history = np.array([])\n",
    "for i in range(len(PT)):\n",
    "    w_history = np.round(np.append(w_history, np.dot(w, PT[i])), 2)\n",
    "    print(f\"wp{i} : {w_history[i]}\")\n",
    "print(w_history)\n",
    "print(w_history.shape)"
   ]
  },
  {
   "cell_type": "code",
   "execution_count": 25,
   "metadata": {},
   "outputs": [
    {
     "name": "stdout",
     "output_type": "stream",
     "text": [
      "wp0 : 65.0\n",
      "wp1 : 69.0\n",
      "wp2 : 73.0\n",
      "wp3 : 79.0\n",
      "wp4 : 85.0\n"
     ]
    }
   ],
   "source": [
    "for i in range(len(w_history)):\n",
    "    print(f\"wp{i} : {w_history[i]}\")"
   ]
  },
  {
   "cell_type": "markdown",
   "metadata": {},
   "source": [
    "## Test weight"
   ]
  },
  {
   "cell_type": "code",
   "execution_count": 26,
   "metadata": {},
   "outputs": [
    {
     "name": "stdout",
     "output_type": "stream",
     "text": [
      "65.0\n",
      "69.0\n",
      "73.0\n",
      "79.0\n",
      "85.0\n"
     ]
    }
   ],
   "source": [
    "test_weight = np.array([])\n",
    "for i in range(len(PT)):\n",
    "    test_weight = np.round(np.append(test_weight, np.dot(w, PT[i])), 2)\n",
    "    print(test_weight[i])"
   ]
  },
  {
   "cell_type": "code",
   "execution_count": null,
   "metadata": {},
   "outputs": [],
   "source": []
  }
 ],
 "metadata": {
  "kernelspec": {
   "display_name": "ai-basic",
   "language": "python",
   "name": "python3"
  },
  "language_info": {
   "codemirror_mode": {
    "name": "ipython",
    "version": 3
   },
   "file_extension": ".py",
   "mimetype": "text/x-python",
   "name": "python",
   "nbconvert_exporter": "python",
   "pygments_lexer": "ipython3",
   "version": "3.9.13"
  },
  "orig_nbformat": 4
 },
 "nbformat": 4,
 "nbformat_minor": 2
}
