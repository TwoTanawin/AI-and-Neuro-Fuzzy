{
 "cells": [
  {
   "cell_type": "code",
   "execution_count": 139,
   "metadata": {},
   "outputs": [],
   "source": [
    "import numpy as np\n",
    "import sympy as sp\n"
   ]
  },
  {
   "cell_type": "code",
   "execution_count": 140,
   "metadata": {},
   "outputs": [],
   "source": [
    "p = np.array([-1, 0, 1])\n",
    "t = np.array([5, 1, 3])\n",
    "\n",
    "w_layer1 = np.array([-0.1, 0.2])\n",
    "b_layer1 = np.array([-0.3, 0.1])\n",
    "\n",
    "w_layer2 = np.array([-0.2, 0.3])\n",
    "b_layer2 = np.array([0])\n",
    "\n",
    "learning_rate = 1"
   ]
  },
  {
   "cell_type": "markdown",
   "metadata": {},
   "source": [
    "## sigmoid function"
   ]
  },
  {
   "cell_type": "code",
   "execution_count": 141,
   "metadata": {},
   "outputs": [],
   "source": [
    "def sigmoid(x):\n",
    "    return 1 / (1 + np.exp(-x))"
   ]
  },
  {
   "cell_type": "code",
   "execution_count": 142,
   "metadata": {},
   "outputs": [],
   "source": [
    "def get_a_layer1(p, w_layer1, bias):\n",
    "    a_layer1 = np.zeros(len(w_layer1))\n",
    "    for i in range(len(w_layer1)):\n",
    "        a_layer1[i] = sigmoid(w_layer1[i]*p+bias[i])\n",
    "    return a_layer1"
   ]
  },
  {
   "cell_type": "code",
   "execution_count": 143,
   "metadata": {},
   "outputs": [],
   "source": [
    "def get_a_layer2(a_layer1, w_layer2, bias):\n",
    "    a_layer2 = 0\n",
    "    for i in range(len(w_layer2)):\n",
    "        a_layer2 = a_layer2 + w_layer2[i] * a_layer1[i]\n",
    "    return a_layer2+bias"
   ]
  },
  {
   "cell_type": "code",
   "execution_count": 144,
   "metadata": {},
   "outputs": [],
   "source": [
    "def get_error(t, a):\n",
    "    return t-a"
   ]
  },
  {
   "cell_type": "code",
   "execution_count": 145,
   "metadata": {},
   "outputs": [],
   "source": [
    "def get_s_layer2(error):\n",
    "    return -2*1*error    "
   ]
  },
  {
   "cell_type": "code",
   "execution_count": 146,
   "metadata": {},
   "outputs": [],
   "source": [
    "def get_identity(matix):\n",
    "    # Create an identity matrix\n",
    "    n = len(matix)\n",
    "    identity_matrix = np.identity(n)\n",
    "\n",
    "    # Define the array of values\n",
    "    values = (1-matix)*matix\n",
    "\n",
    "    # Multiply the identity matrix by the array of values element-wise\n",
    "    result_matrix = identity_matrix * values\n",
    "\n",
    "    return result_matrix"
   ]
  },
  {
   "cell_type": "code",
   "execution_count": 147,
   "metadata": {},
   "outputs": [],
   "source": [
    "def get_s_layer1(identity_matrix, w_layer2, s_layer2):\n",
    "    return np.dot(identity_matrix, w_layer2.T)* s_layer2"
   ]
  },
  {
   "cell_type": "code",
   "execution_count": 148,
   "metadata": {},
   "outputs": [],
   "source": [
    "def get_new_weight_layer2(old_weight_layer2, learning_rate, s_layer2, a_layer1):\n",
    "    return old_weight_layer2-learning_rate*s_layer2*a_layer1.T"
   ]
  },
  {
   "cell_type": "code",
   "execution_count": 149,
   "metadata": {},
   "outputs": [],
   "source": [
    "def get_new_bias_layer2(old_bias_layer2, learning_rate, s_layer2):\n",
    "    return old_bias_layer2-learning_rate*s_layer2"
   ]
  },
  {
   "cell_type": "code",
   "execution_count": 150,
   "metadata": {},
   "outputs": [],
   "source": [
    "def get_new_weight_layer1(old_weight_layer1, learning_rate, s_layer1):\n",
    "    return old_weight_layer1-(learning_rate*s_layer1*0) # 0 is a0"
   ]
  },
  {
   "cell_type": "code",
   "execution_count": 151,
   "metadata": {},
   "outputs": [],
   "source": [
    "def get_new_bias_layer1(old_bias_layer1, learning_rate, s_layer1):\n",
    "    return old_bias_layer1-learning_rate*s_layer1"
   ]
  },
  {
   "cell_type": "markdown",
   "metadata": {},
   "source": [
    "## Cal Patameter"
   ]
  },
  {
   "cell_type": "code",
   "execution_count": 152,
   "metadata": {},
   "outputs": [
    {
     "name": "stdout",
     "output_type": "stream",
     "text": [
      "s layer 1 :\n",
      "[0.450166   0.47502081]\n"
     ]
    }
   ],
   "source": [
    "a_layer1 = get_a_layer1(p[0], w_layer1, b_layer1)\n",
    "print(\"s layer 1 :\")\n",
    "print(a_layer1)"
   ]
  },
  {
   "cell_type": "code",
   "execution_count": 153,
   "metadata": {},
   "outputs": [
    {
     "name": "stdout",
     "output_type": "stream",
     "text": [
      "a layer 2 :\n",
      "[0.05247304]\n"
     ]
    }
   ],
   "source": [
    "a_layer2 = get_a_layer2(a_layer1, w_layer2, b_layer2)\n",
    "print(\"a layer 2 :\")\n",
    "print(a_layer2)"
   ]
  },
  {
   "cell_type": "code",
   "execution_count": 154,
   "metadata": {},
   "outputs": [
    {
     "name": "stdout",
     "output_type": "stream",
     "text": [
      "error layer 1 :\n",
      "[4.94752696]\n"
     ]
    }
   ],
   "source": [
    "error_layer1 = get_error(t[0], a_layer2)\n",
    "print(\"error layer 1 :\")\n",
    "print(error_layer1)"
   ]
  },
  {
   "cell_type": "code",
   "execution_count": 155,
   "metadata": {},
   "outputs": [
    {
     "name": "stdout",
     "output_type": "stream",
     "text": [
      "s layer 2 :\n",
      "[-9.89505391]\n"
     ]
    }
   ],
   "source": [
    "s_layer2 = get_s_layer2(error_layer1)\n",
    "print(\"s layer 2 :\")\n",
    "print(s_layer2)"
   ]
  },
  {
   "cell_type": "code",
   "execution_count": 156,
   "metadata": {},
   "outputs": [
    {
     "name": "stdout",
     "output_type": "stream",
     "text": [
      "Identity matrix : \n",
      "[[0.24751657 0.        ]\n",
      " [0.         0.24937604]]\n",
      "\n",
      "\n",
      "s layer 1 :\n",
      "[ 0.48983797 -0.74027681]\n"
     ]
    }
   ],
   "source": [
    "identity_matrix = get_identity(a_layer1)\n",
    "print(\"Identity matrix : \")\n",
    "print(identity_matrix)\n",
    "print(\"\\n\")\n",
    "\n",
    "s_layer1 = get_s_layer1(identity_matrix, w_layer2, s_layer2)\n",
    "print(\"s layer 1 :\")\n",
    "print(s_layer1)\n",
    "\n"
   ]
  },
  {
   "cell_type": "code",
   "execution_count": 157,
   "metadata": {},
   "outputs": [
    {
     "name": "stdout",
     "output_type": "stream",
     "text": [
      "new weight layer 2 :\n",
      "[4.25441687 5.00035655]\n"
     ]
    }
   ],
   "source": [
    "new_w_layer2 = get_new_weight_layer2(w_layer2, learning_rate, s_layer2, a_layer1)\n",
    "print(\"new weight layer 2 :\")\n",
    "print(new_w_layer2)"
   ]
  },
  {
   "cell_type": "code",
   "execution_count": 158,
   "metadata": {},
   "outputs": [
    {
     "name": "stdout",
     "output_type": "stream",
     "text": [
      "new bias layer 2 :\n",
      "[9.89505391]\n"
     ]
    }
   ],
   "source": [
    "new_bias_layer2 = get_new_bias_layer2(b_layer2, learning_rate, s_layer2)\n",
    "print(\"new bias layer 2 :\")\n",
    "print(new_bias_layer2)"
   ]
  },
  {
   "cell_type": "code",
   "execution_count": 159,
   "metadata": {},
   "outputs": [
    {
     "name": "stdout",
     "output_type": "stream",
     "text": [
      "new weight layer 1 :\n",
      "[-0.1  0.2]\n"
     ]
    }
   ],
   "source": [
    "new_w_layer1 = get_new_weight_layer1(w_layer1, learning_rate, s_layer1)\n",
    "print(\"new weight layer 1 :\")\n",
    "print(new_w_layer1)"
   ]
  },
  {
   "cell_type": "code",
   "execution_count": 160,
   "metadata": {},
   "outputs": [
    {
     "name": "stdout",
     "output_type": "stream",
     "text": [
      "new bias layer 1 :\n",
      "[-0.78983797  0.84027681]\n"
     ]
    }
   ],
   "source": [
    "new_bias_layer1 = get_new_bias_layer1(b_layer1, learning_rate, s_layer1)\n",
    "print(\"new bias layer 1 :\")\n",
    "print(new_bias_layer1)"
   ]
  },
  {
   "cell_type": "markdown",
   "metadata": {},
   "source": [
    "## Loop Computing"
   ]
  },
  {
   "cell_type": "code",
   "execution_count": 161,
   "metadata": {},
   "outputs": [],
   "source": [
    "# Open a text file for writing the results\n",
    "with open(\"/Users/twomac/Documents/Two/AIT/ISE/AI & Neuro-Fuzzy/Computing/mid/2008/result-mlp-approximate-2004.txt\", \"w\") as file:\n",
    "    for i in range(len(p)):\n",
    "        file.write(f\"------------- Iteration P {i+1} -------------\\n\")\n",
    "        file.write(\"step 1 :\\n\")\n",
    "        a_layer1 = np.round(get_a_layer1(p[i], w_layer1, b_layer1), 4)\n",
    "        file.write(\"s layer 1 :\\n\")\n",
    "        file.write(np.array_str(a_layer1) + \"\\n\\n\")\n",
    "\n",
    "        a_layer2 = np.round(get_a_layer2(a_layer1, w_layer2, b_layer2), 4)\n",
    "        file.write(\"a layer 2 :\\n\")\n",
    "        file.write(np.array_str(a_layer2) + \"\\n\\n\")\n",
    "\n",
    "        error_layer1 = np.round(get_error(t[i], a_layer2), 4)\n",
    "        file.write(\"error layer 1 :\\n\")\n",
    "        file.write(np.array_str(error_layer1) + \"\\n\\n\")\n",
    "\n",
    "        s_layer2 = np.round(get_s_layer2(error_layer1), 4)\n",
    "        file.write(\"s layer 2 :\\n\")\n",
    "        file.write(np.array_str(s_layer2) + \"\\n\\n\")\n",
    "\n",
    "        identity_matrix = get_identity(a_layer1)\n",
    "        file.write(\"Identity matrix :\\n\")\n",
    "        file.write(np.array_str(identity_matrix) + \"\\n\\n\")\n",
    "\n",
    "        s_layer1 = np.round(get_s_layer1(identity_matrix, w_layer2, s_layer2), 4)\n",
    "        file.write(\"s layer 1 :\\n\")\n",
    "        file.write(np.array_str(s_layer1) + \"\\n\\n\")\n",
    "\n",
    "        new_w_layer2 = np.round(get_new_weight_layer2(w_layer2, learning_rate, s_layer2, a_layer1), 4)\n",
    "        file.write(\"new weight layer 2 :\\n\")\n",
    "        file.write(np.array_str(new_w_layer2) + \"\\n\\n\")\n",
    "\n",
    "        new_bias_layer2 = np.round(get_new_bias_layer2(b_layer2, learning_rate, s_layer2), 4)\n",
    "        file.write(\"new bias layer 2 :\\n\")\n",
    "        file.write(np.array_str(new_bias_layer2) + \"\\n\\n\")\n",
    "\n",
    "        new_w_layer1 = np.round(get_new_weight_layer1(w_layer1, learning_rate, s_layer1), 4)\n",
    "        file.write(\"new weight layer 1 :\\n\")\n",
    "        file.write(np.array_str(new_w_layer1) + \"\\n\\n\")\n",
    "\n",
    "        new_bias_layer1 = np.round(get_new_bias_layer1(b_layer1, learning_rate, s_layer1), 4)\n",
    "        file.write(\"new bias layer 1 :\\n\")\n",
    "        file.write(np.array_str(new_bias_layer1) + \"\\n\\n\")\n",
    "\n",
    "        w_layer2 = new_w_layer2\n",
    "        b_layer2 = new_bias_layer2\n",
    "        \n",
    "        w_layer1 = new_w_layer1\n",
    "        b_layer1 = new_bias_layer1\n"
   ]
  },
  {
   "cell_type": "code",
   "execution_count": null,
   "metadata": {},
   "outputs": [],
   "source": []
  }
 ],
 "metadata": {
  "kernelspec": {
   "display_name": "ai-basic",
   "language": "python",
   "name": "python3"
  },
  "language_info": {
   "codemirror_mode": {
    "name": "ipython",
    "version": 3
   },
   "file_extension": ".py",
   "mimetype": "text/x-python",
   "name": "python",
   "nbconvert_exporter": "python",
   "pygments_lexer": "ipython3",
   "version": "3.9.13"
  },
  "orig_nbformat": 4
 },
 "nbformat": 4,
 "nbformat_minor": 2
}
