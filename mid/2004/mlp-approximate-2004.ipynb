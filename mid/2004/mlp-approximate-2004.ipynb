{
 "cells": [
  {
   "cell_type": "code",
   "execution_count": 72,
   "metadata": {},
   "outputs": [],
   "source": [
    "import numpy as np\n",
    "import sympy as sp\n"
   ]
  },
  {
   "cell_type": "code",
   "execution_count": 73,
   "metadata": {},
   "outputs": [],
   "source": [
    "p = np.array([0, 100])\n",
    "t = np.array([-30, 0])\n",
    "\n",
    "w_layer1 = np.array([0.1, 0.3, 0.5])\n",
    "b_layer1 = np.array([0.9, 0.6, 0.2])\n",
    "\n",
    "w_layer2 = np.array([1, 2, 3])\n",
    "b_layer2 = np.array([4])\n",
    "\n",
    "learning_rate = 0.01"
   ]
  },
  {
   "cell_type": "markdown",
   "metadata": {},
   "source": [
    "## sigmoid function"
   ]
  },
  {
   "cell_type": "code",
   "execution_count": 74,
   "metadata": {},
   "outputs": [],
   "source": [
    "def sigmoid(x):\n",
    "    return 1 / (1 + np.exp(-x))"
   ]
  },
  {
   "cell_type": "code",
   "execution_count": 75,
   "metadata": {},
   "outputs": [],
   "source": [
    "def get_a_layer1(p, w_layer1, bias):\n",
    "    a_layer1 = np.zeros(len(w_layer1))\n",
    "    for i in range(len(w_layer1)):\n",
    "        a_layer1[i] = sigmoid(w_layer1[i]*p+bias[i])\n",
    "    return a_layer1"
   ]
  },
  {
   "cell_type": "code",
   "execution_count": 76,
   "metadata": {},
   "outputs": [],
   "source": [
    "def get_a_layer2(a_layer1, w_layer2, bias):\n",
    "    a_layer2 = 0\n",
    "    for i in range(len(w_layer2)):\n",
    "        a_layer2 = a_layer2 + w_layer2[i] * a_layer1[i]\n",
    "    return a_layer2+bias"
   ]
  },
  {
   "cell_type": "code",
   "execution_count": 53,
   "metadata": {},
   "outputs": [],
   "source": [
    "def get_error(t, a):\n",
    "    return t-a"
   ]
  },
  {
   "cell_type": "code",
   "execution_count": 54,
   "metadata": {},
   "outputs": [],
   "source": [
    "def get_s_layer2(error):\n",
    "    return -2*1*error    "
   ]
  },
  {
   "cell_type": "code",
   "execution_count": 55,
   "metadata": {},
   "outputs": [],
   "source": [
    "def get_identity(matix):\n",
    "    # Create an identity matrix\n",
    "    n = len(matix)\n",
    "    identity_matrix = np.identity(n)\n",
    "\n",
    "    # Define the array of values\n",
    "    values = (1-matix)*matix\n",
    "\n",
    "    # Multiply the identity matrix by the array of values element-wise\n",
    "    result_matrix = identity_matrix * values\n",
    "\n",
    "    return result_matrix"
   ]
  },
  {
   "cell_type": "code",
   "execution_count": 56,
   "metadata": {},
   "outputs": [],
   "source": [
    "def get_s_layer1(identity_matrix, w_layer2, s_layer2):\n",
    "    return np.dot(identity_matrix, w_layer2.T)* s_layer2"
   ]
  },
  {
   "cell_type": "code",
   "execution_count": 57,
   "metadata": {},
   "outputs": [],
   "source": [
    "def get_new_weight_layer2(old_weight_layer2, learning_rate, s_layer2, a_layer1):\n",
    "    return old_weight_layer2-learning_rate*s_layer2*a_layer1.T"
   ]
  },
  {
   "cell_type": "code",
   "execution_count": 58,
   "metadata": {},
   "outputs": [],
   "source": [
    "def get_new_bias_layer2(old_bias_layer2, learning_rate, s_layer2):\n",
    "    return old_bias_layer2-learning_rate*s_layer2"
   ]
  },
  {
   "cell_type": "code",
   "execution_count": 59,
   "metadata": {},
   "outputs": [],
   "source": [
    "def get_new_weight_layer1(old_weight_layer1, learning_rate, s_layer1):\n",
    "    return old_weight_layer1-(learning_rate*s_layer1*0) # 0 is a0"
   ]
  },
  {
   "cell_type": "code",
   "execution_count": 60,
   "metadata": {},
   "outputs": [],
   "source": [
    "def get_new_bias_layer1(old_bias_layer1, learning_rate, s_layer1):\n",
    "    return old_bias_layer1-learning_rate*s_layer1"
   ]
  },
  {
   "cell_type": "markdown",
   "metadata": {},
   "source": [
    "## Cal Patameter"
   ]
  },
  {
   "cell_type": "code",
   "execution_count": 61,
   "metadata": {},
   "outputs": [
    {
     "name": "stdout",
     "output_type": "stream",
     "text": [
      "s layer 1 :\n",
      "[0.7109495  0.64565631 0.549834  ]\n"
     ]
    }
   ],
   "source": [
    "a_layer1 = get_a_layer1(p[0], w_layer1, b_layer1)\n",
    "print(\"s layer 1 :\")\n",
    "print(a_layer1)"
   ]
  },
  {
   "cell_type": "code",
   "execution_count": 62,
   "metadata": {},
   "outputs": [
    {
     "name": "stdout",
     "output_type": "stream",
     "text": [
      "a layer 2 :\n",
      "[7.65176411]\n"
     ]
    }
   ],
   "source": [
    "a_layer2 = get_a_layer2(a_layer1, w_layer2, b_layer2)\n",
    "print(\"a layer 2 :\")\n",
    "print(a_layer2)"
   ]
  },
  {
   "cell_type": "code",
   "execution_count": 63,
   "metadata": {},
   "outputs": [
    {
     "name": "stdout",
     "output_type": "stream",
     "text": [
      "error layer 1 :\n",
      "[-37.65176411]\n"
     ]
    }
   ],
   "source": [
    "error_layer1 = get_error(t[0], a_layer2)\n",
    "print(\"error layer 1 :\")\n",
    "print(error_layer1)"
   ]
  },
  {
   "cell_type": "code",
   "execution_count": 64,
   "metadata": {},
   "outputs": [
    {
     "name": "stdout",
     "output_type": "stream",
     "text": [
      "s layer 2 :\n",
      "[75.30352821]\n"
     ]
    }
   ],
   "source": [
    "s_layer2 = get_s_layer2(error_layer1)\n",
    "print(\"s layer 2 :\")\n",
    "print(s_layer2)"
   ]
  },
  {
   "cell_type": "code",
   "execution_count": 65,
   "metadata": {},
   "outputs": [
    {
     "name": "stdout",
     "output_type": "stream",
     "text": [
      "Identity matrix : \n",
      "[[0.20550031 0.         0.        ]\n",
      " [0.         0.22878424 0.        ]\n",
      " [0.         0.         0.24751657]]\n",
      "\n",
      "\n",
      "s layer 1 :\n",
      "[15.47489819 34.45652101 55.91661365]\n"
     ]
    }
   ],
   "source": [
    "identity_matrix = get_identity(a_layer1)\n",
    "print(\"Identity matrix : \")\n",
    "print(identity_matrix)\n",
    "print(\"\\n\")\n",
    "\n",
    "s_layer1 = get_s_layer1(identity_matrix, w_layer2, s_layer2)\n",
    "print(\"s layer 1 :\")\n",
    "print(s_layer1)\n",
    "\n"
   ]
  },
  {
   "cell_type": "code",
   "execution_count": 66,
   "metadata": {},
   "outputs": [
    {
     "name": "stdout",
     "output_type": "stream",
     "text": [
      "new weight layer 2 :\n",
      "[0.46462994 1.51379802 2.5859556 ]\n"
     ]
    }
   ],
   "source": [
    "new_w_layer2 = get_new_weight_layer2(w_layer2, learning_rate, s_layer2, a_layer1)\n",
    "print(\"new weight layer 2 :\")\n",
    "print(new_w_layer2)"
   ]
  },
  {
   "cell_type": "code",
   "execution_count": 67,
   "metadata": {},
   "outputs": [
    {
     "name": "stdout",
     "output_type": "stream",
     "text": [
      "new bias layer 2 :\n",
      "[3.24696472]\n"
     ]
    }
   ],
   "source": [
    "new_bias_layer2 = get_new_bias_layer2(b_layer2, learning_rate, s_layer2)\n",
    "print(\"new bias layer 2 :\")\n",
    "print(new_bias_layer2)"
   ]
  },
  {
   "cell_type": "code",
   "execution_count": 68,
   "metadata": {},
   "outputs": [
    {
     "name": "stdout",
     "output_type": "stream",
     "text": [
      "new weight layer 1 :\n",
      "[0.1 0.3 0.5]\n"
     ]
    }
   ],
   "source": [
    "new_w_layer1 = get_new_weight_layer1(w_layer1, learning_rate, s_layer1)\n",
    "print(\"new weight layer 1 :\")\n",
    "print(new_w_layer1)"
   ]
  },
  {
   "cell_type": "code",
   "execution_count": 69,
   "metadata": {},
   "outputs": [
    {
     "name": "stdout",
     "output_type": "stream",
     "text": [
      "new bias layer 1 :\n",
      "[ 0.74525102  0.25543479 -0.35916614]\n"
     ]
    }
   ],
   "source": [
    "new_bias_layer1 = get_new_bias_layer1(b_layer1, learning_rate, s_layer1)\n",
    "print(\"new bias layer 1 :\")\n",
    "print(new_bias_layer1)"
   ]
  },
  {
   "cell_type": "markdown",
   "metadata": {},
   "source": [
    "## Loop Computing"
   ]
  },
  {
   "cell_type": "code",
   "execution_count": 70,
   "metadata": {},
   "outputs": [],
   "source": [
    "# Open a text file for writing the results\n",
    "with open(\"/Users/twomac/Documents/Two/AIT/ISE/AI & Neuro-Fuzzy/Computing/mid/2004/result-mlp-approximate-2004.txt\", \"w\") as file:\n",
    "    for i in range(len(p)):\n",
    "        file.write(f\"------------- Iteration P {i+1} -------------\\n\")\n",
    "        \n",
    "        a_layer1 = np.round(get_a_layer1(p[i], w_layer1, b_layer1), 4)\n",
    "        file.write(\"s layer 1 :\\n\")\n",
    "        file.write(np.array_str(a_layer1) + \"\\n\\n\")\n",
    "\n",
    "        a_layer2 = np.round(get_a_layer2(a_layer1, w_layer2, b_layer2), 4)\n",
    "        file.write(\"a layer 2 :\\n\")\n",
    "        file.write(np.array_str(a_layer2) + \"\\n\\n\")\n",
    "\n",
    "        error_layer1 = np.round(get_error(t[i], a_layer2), 4)\n",
    "        file.write(\"error layer 1 :\\n\")\n",
    "        file.write(np.array_str(error_layer1) + \"\\n\\n\")\n",
    "\n",
    "        s_layer2 = np.round(get_s_layer2(error_layer1), 4)\n",
    "        file.write(\"s layer 2 :\\n\")\n",
    "        file.write(np.array_str(s_layer2) + \"\\n\\n\")\n",
    "\n",
    "        identity_matrix = get_identity(a_layer1)\n",
    "        file.write(\"Identity matrix :\\n\")\n",
    "        file.write(np.array_str(identity_matrix) + \"\\n\\n\")\n",
    "\n",
    "        s_layer1 = np.round(get_s_layer1(identity_matrix, w_layer2, s_layer2), 4)\n",
    "        file.write(\"s layer 1 :\\n\")\n",
    "        file.write(np.array_str(s_layer1) + \"\\n\\n\")\n",
    "\n",
    "        new_w_layer2 = np.round(get_new_weight_layer2(w_layer2, learning_rate, s_layer2, a_layer1), 4)\n",
    "        file.write(\"new weight layer 2 :\\n\")\n",
    "        file.write(np.array_str(new_w_layer2) + \"\\n\\n\")\n",
    "\n",
    "        new_bias_layer2 = np.round(get_new_bias_layer2(b_layer2, learning_rate, s_layer2), 4)\n",
    "        file.write(\"new bias layer 2 :\\n\")\n",
    "        file.write(np.array_str(new_bias_layer2) + \"\\n\\n\")\n",
    "\n",
    "        new_w_layer1 = np.round(get_new_weight_layer1(w_layer1, learning_rate, s_layer1), 4)\n",
    "        file.write(\"new weight layer 1 :\\n\")\n",
    "        file.write(np.array_str(new_w_layer1) + \"\\n\\n\")\n",
    "\n",
    "        new_bias_layer1 = np.round(get_new_bias_layer1(b_layer1, learning_rate, s_layer1), 4)\n",
    "        file.write(\"new bias layer 1 :\\n\")\n",
    "        file.write(np.array_str(new_bias_layer1) + \"\\n\\n\")\n",
    "\n",
    "        w_layer2 = new_w_layer2\n",
    "        b_layer2 = new_bias_layer2\n",
    "        \n",
    "        w_layer1 = new_w_layer1\n",
    "        b_layer1 = new_bias_layer1\n"
   ]
  },
  {
   "cell_type": "code",
   "execution_count": 71,
   "metadata": {},
   "outputs": [
    {
     "name": "stdout",
     "output_type": "stream",
     "text": [
      "------------- Iteration P 1 -------------\n",
      "s layer 1 :\n",
      "[0.7109 0.6457 0.5498]\n",
      "\n",
      "a layer 2 :\n",
      "[7.6517]\n",
      "\n",
      "error layer 1 :\n",
      "[-37.6517]\n",
      "\n",
      "s layer 2 :\n",
      "[75.3034]\n",
      "\n",
      "Identity matrix :\n",
      "[[0.20552119 0.         0.        ]\n",
      " [0.         0.22877151 0.        ]\n",
      " [0.         0.         0.24751996]]\n",
      "\n",
      "s layer 1 :\n",
      "[15.4764 34.4545 55.9173]\n",
      "\n",
      "new weight layer 2 :\n",
      "[0.4647 1.5138 2.586 ]\n",
      "\n",
      "new bias layer 2 :\n",
      "[3.247]\n",
      "\n",
      "new weight layer 1 :\n",
      "[0.1 0.3 0.5]\n",
      "\n",
      "new bias layer 1 :\n",
      "[ 0.7452  0.2555 -0.3592]\n",
      "\n",
      "------------- Iteration P 2 -------------\n",
      "s layer 1 :\n",
      "[1. 1. 1.]\n",
      "\n",
      "a layer 2 :\n",
      "[7.8115]\n",
      "\n",
      "error layer 1 :\n",
      "[-7.8115]\n",
      "\n",
      "s layer 2 :\n",
      "[15.623]\n",
      "\n",
      "Identity matrix :\n",
      "[[0. 0. 0.]\n",
      " [0. 0. 0.]\n",
      " [0. 0. 0.]]\n",
      "\n",
      "s layer 1 :\n",
      "[0. 0. 0.]\n",
      "\n",
      "new weight layer 2 :\n",
      "[0.3085 1.3576 2.4298]\n",
      "\n",
      "new bias layer 2 :\n",
      "[3.0908]\n",
      "\n",
      "new weight layer 1 :\n",
      "[0.1 0.3 0.5]\n",
      "\n",
      "new bias layer 1 :\n",
      "[ 0.7452  0.2555 -0.3592]\n",
      "\n",
      "\n"
     ]
    }
   ],
   "source": [
    "with open(\"/Users/twomac/Documents/Two/AIT/ISE/AI & Neuro-Fuzzy/Computing/mid/2004/result-mlp-approximate-2004.txt\", \"r\") as file:\n",
    "    print(file.read())"
   ]
  }
 ],
 "metadata": {
  "kernelspec": {
   "display_name": "ai-basic",
   "language": "python",
   "name": "python3"
  },
  "language_info": {
   "codemirror_mode": {
    "name": "ipython",
    "version": 3
   },
   "file_extension": ".py",
   "mimetype": "text/x-python",
   "name": "python",
   "nbconvert_exporter": "python",
   "pygments_lexer": "ipython3",
   "version": "3.9.13"
  },
  "orig_nbformat": 4
 },
 "nbformat": 4,
 "nbformat_minor": 2
}
