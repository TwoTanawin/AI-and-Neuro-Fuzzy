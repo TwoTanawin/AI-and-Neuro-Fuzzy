{
 "cells": [
  {
   "cell_type": "code",
   "execution_count": 45,
   "metadata": {},
   "outputs": [],
   "source": [
    "import numpy as np\n",
    "import math"
   ]
  },
  {
   "cell_type": "code",
   "execution_count": 46,
   "metadata": {},
   "outputs": [
    {
     "name": "stdout",
     "output_type": "stream",
     "text": [
      "[[ 0.11566299  0.28915747 -0.69397792  0.17349448 -0.34698896  0.52048344]\n",
      " [-0.52048344  0.34698896 -0.17349448 -0.69397792  0.28915747  0.11566299]\n",
      " [ 0.28003445  0.50915354  0.39317968  0.23194773  0.50915354  0.4412664 ]]\n"
     ]
    }
   ],
   "source": [
    "p11 = 4/math.sqrt(1196)\n",
    "p12 = 10/math.sqrt(1196)\n",
    "p13 = -24/math.sqrt(1196)\n",
    "p14 = 6/math.sqrt(1196)\n",
    "p15 = -12/math.sqrt(1196)\n",
    "p16 = 18/math.sqrt(1196)\n",
    "\n",
    "p21 = -9/math.sqrt(299)\n",
    "p22 = 6/math.sqrt(299)\n",
    "p23 = -3/math.sqrt(299)\n",
    "p24 = -12/math.sqrt(299)\n",
    "p25 = 5/math.sqrt(299)\n",
    "p26 = 2/math.sqrt(299)\n",
    "\n",
    "p31 = 792/math.sqrt(7998848)\n",
    "p32 = 1440/math.sqrt(7998848)\n",
    "p33 = 1112/math.sqrt(7998848)\n",
    "p34 = 656/math.sqrt(7998848)\n",
    "p35 = 1440/math.sqrt(7998848)\n",
    "p36 = 1248/math.sqrt(7998848)\n",
    "\n",
    "\n",
    "\n",
    "p = np.array([[p11, p12, p13, p14, p15, p16], [p21, p22, p23, p24, p25, p26], [p31, p32, p33, p34, p35, p36]])\n",
    "\n",
    "print(p)"
   ]
  },
  {
   "cell_type": "code",
   "execution_count": 47,
   "metadata": {},
   "outputs": [
    {
     "name": "stdout",
     "output_type": "stream",
     "text": [
      "(6, 3)\n"
     ]
    }
   ],
   "source": [
    "print(p.T.shape)"
   ]
  },
  {
   "cell_type": "code",
   "execution_count": 48,
   "metadata": {},
   "outputs": [
    {
     "name": "stdout",
     "output_type": "stream",
     "text": [
      "(6,)\n"
     ]
    }
   ],
   "source": [
    "print(p[0].transpose().shape)"
   ]
  },
  {
   "cell_type": "code",
   "execution_count": 49,
   "metadata": {},
   "outputs": [
    {
     "name": "stdout",
     "output_type": "stream",
     "text": [
      "[[ 2  3  4]\n",
      " [ 7  8  9]\n",
      " [13 14 15]]\n"
     ]
    }
   ],
   "source": [
    "t11 = 2\n",
    "t12 = 3\n",
    "t13 = 4\n",
    "\n",
    "t21 = 7\n",
    "t22 = 8\n",
    "t23 = 9\n",
    "\n",
    "t31 = 13\n",
    "t32 = 14\n",
    "t33 = 15\n",
    "\n",
    "t = np.array([[t11, t12, t13], [t21, t22, t23], [t31, t32, t33]])\n",
    "\n",
    "print(t)"
   ]
  },
  {
   "cell_type": "code",
   "execution_count": 50,
   "metadata": {},
   "outputs": [
    {
     "name": "stdout",
     "output_type": "stream",
     "text": [
      "(3, 3)\n"
     ]
    }
   ],
   "source": [
    "print(t.shape)"
   ]
  },
  {
   "cell_type": "code",
   "execution_count": 51,
   "metadata": {},
   "outputs": [
    {
     "name": "stdout",
     "output_type": "stream",
     "text": [
      "(3,)\n"
     ]
    }
   ],
   "source": [
    "print(t[0].shape)"
   ]
  },
  {
   "cell_type": "code",
   "execution_count": 52,
   "metadata": {},
   "outputs": [
    {
     "name": "stdout",
     "output_type": "stream",
     "text": [
      "[2 3 4]\n",
      "[ 0.11566299  0.28915747 -0.69397792  0.17349448 -0.34698896  0.52048344]\n",
      "(3,)\n",
      "(6,)\n"
     ]
    }
   ],
   "source": [
    "print(t[0])\n",
    "print(p[0])\n",
    "print(t[0].shape)\n",
    "print(p[0].shape)\n",
    "# w1 = np.dot(t[0], p[0].T)\n",
    "# print(w1)"
   ]
  },
  {
   "cell_type": "code",
   "execution_count": 53,
   "metadata": {},
   "outputs": [
    {
     "name": "stdout",
     "output_type": "stream",
     "text": [
      "[[ 0.23132597  0.57831493 -1.38795584  0.34698896 -0.69397792  1.04096688]\n",
      " [ 0.34698896  0.8674724  -2.08193376  0.52048344 -1.04096688  1.56145032]\n",
      " [ 0.46265195  1.15662986 -2.77591167  0.69397792 -1.38795584  2.08193376]]\n"
     ]
    }
   ],
   "source": [
    "w1 = np.outer(t[0] , p[0])\n",
    "print(w1)"
   ]
  },
  {
   "cell_type": "code",
   "execution_count": 55,
   "metadata": {},
   "outputs": [
    {
     "name": "stdout",
     "output_type": "stream",
     "text": [
      "[[ 0.2283  9.6262  2.5088 -1.4955  7.9491  7.5871]\n",
      " [ 0.1036 10.7715  2.0346 -1.784   8.4004  8.6645]\n",
      " [-0.0212 11.9168  1.5603 -2.0726  8.8517  9.7419]]\n"
     ]
    }
   ],
   "source": [
    "w = np.zeros((3, 6))\n",
    "\n",
    "for i in range(len(p)):\n",
    "    w = np.round(w + np.outer(t[i], p[i]), 4)  # Use outer product instead of dot product\n",
    "\n",
    "print(w)"
   ]
  },
  {
   "cell_type": "code",
   "execution_count": null,
   "metadata": {},
   "outputs": [],
   "source": []
  }
 ],
 "metadata": {
  "kernelspec": {
   "display_name": "ai-basic",
   "language": "python",
   "name": "python3"
  },
  "language_info": {
   "codemirror_mode": {
    "name": "ipython",
    "version": 3
   },
   "file_extension": ".py",
   "mimetype": "text/x-python",
   "name": "python",
   "nbconvert_exporter": "python",
   "pygments_lexer": "ipython3",
   "version": "3.9.13"
  },
  "orig_nbformat": 4
 },
 "nbformat": 4,
 "nbformat_minor": 2
}
