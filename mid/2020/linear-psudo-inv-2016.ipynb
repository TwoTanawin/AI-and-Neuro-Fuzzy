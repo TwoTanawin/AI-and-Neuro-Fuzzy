{
 "cells": [
  {
   "cell_type": "code",
   "execution_count": 16,
   "metadata": {},
   "outputs": [],
   "source": [
    "import numpy as np"
   ]
  },
  {
   "cell_type": "code",
   "execution_count": 17,
   "metadata": {},
   "outputs": [],
   "source": [
    "p1 = np.array([1, 1, 1])\n",
    "p2 = np.array([-1, 1, 1])\n",
    "p3 = np.array([-1, -1, 1])\n",
    "\n",
    "t1 = np.array([100, 100])\n",
    "t2 = np.array([100, 50])\n",
    "t3 = np.array([100, 0])"
   ]
  },
  {
   "cell_type": "code",
   "execution_count": 18,
   "metadata": {},
   "outputs": [
    {
     "name": "stdout",
     "output_type": "stream",
     "text": [
      "[[ 1 -1 -1]\n",
      " [ 1  1 -1]\n",
      " [ 1  1  1]]\n"
     ]
    }
   ],
   "source": [
    "P = np.array([p1, p2, p3])\n",
    "P = P.T\n",
    "print(P)\n"
   ]
  },
  {
   "cell_type": "code",
   "execution_count": 19,
   "metadata": {},
   "outputs": [
    {
     "name": "stdout",
     "output_type": "stream",
     "text": [
      "[[100 100 100]\n",
      " [100  50   0]]\n"
     ]
    }
   ],
   "source": [
    "T = np.array([t1, t2, t3])\n",
    "T = T.T\n",
    "\n",
    "print(T)"
   ]
  },
  {
   "cell_type": "code",
   "execution_count": 20,
   "metadata": {},
   "outputs": [
    {
     "name": "stdout",
     "output_type": "stream",
     "text": [
      "[[ 1  1  1]\n",
      " [-1  1  1]\n",
      " [-1 -1  1]]\n"
     ]
    }
   ],
   "source": [
    "PT = P.transpose()\n",
    "\n",
    "print(PT)"
   ]
  },
  {
   "cell_type": "code",
   "execution_count": 21,
   "metadata": {},
   "outputs": [
    {
     "name": "stdout",
     "output_type": "stream",
     "text": [
      "[[  0.   0. 100.]\n",
      " [ 25.  25.  50.]]\n"
     ]
    }
   ],
   "source": [
    "w = np.round(np.dot(np.dot(T, np.linalg.inv(np.dot(PT, P))), PT), 3)\n",
    "print(w)"
   ]
  },
  {
   "cell_type": "code",
   "execution_count": 22,
   "metadata": {},
   "outputs": [
    {
     "name": "stdout",
     "output_type": "stream",
     "text": [
      "[100. 100.]\n"
     ]
    }
   ],
   "source": [
    "w1 = np.dot(w,PT[0])\n",
    "print(w1)"
   ]
  },
  {
   "cell_type": "code",
   "execution_count": 23,
   "metadata": {},
   "outputs": [
    {
     "name": "stdout",
     "output_type": "stream",
     "text": [
      "wp0 : 100.0\n",
      "wp1 : 100.0\n",
      "wp2 : 100.0\n",
      "[100. 100. 100.  50. 100.   0.]\n",
      "(6,)\n"
     ]
    }
   ],
   "source": [
    "w_history = np.array([])\n",
    "for i in range(len(P)):\n",
    "    w_history = np.round(np.append(w_history, np.dot(w, PT[i])), 2)\n",
    "    print(f\"wp{i} : {w_history[i]}\")\n",
    "print(w_history)\n",
    "print(w_history.shape)"
   ]
  },
  {
   "cell_type": "code",
   "execution_count": 24,
   "metadata": {},
   "outputs": [
    {
     "name": "stdout",
     "output_type": "stream",
     "text": [
      "wp0 : 100.0\n",
      "wp1 : 100.0\n",
      "wp2 : 100.0\n",
      "wp3 : 50.0\n",
      "wp4 : 100.0\n",
      "wp5 : 0.0\n"
     ]
    }
   ],
   "source": [
    "for i in range(len(w_history)):\n",
    "    print(f\"wp{i} : {w_history[i]}\")"
   ]
  },
  {
   "cell_type": "code",
   "execution_count": null,
   "metadata": {},
   "outputs": [],
   "source": []
  }
 ],
 "metadata": {
  "kernelspec": {
   "display_name": "ai-basic",
   "language": "python",
   "name": "python3"
  },
  "language_info": {
   "codemirror_mode": {
    "name": "ipython",
    "version": 3
   },
   "file_extension": ".py",
   "mimetype": "text/x-python",
   "name": "python",
   "nbconvert_exporter": "python",
   "pygments_lexer": "ipython3",
   "version": "3.9.13"
  },
  "orig_nbformat": 4
 },
 "nbformat": 4,
 "nbformat_minor": 2
}
