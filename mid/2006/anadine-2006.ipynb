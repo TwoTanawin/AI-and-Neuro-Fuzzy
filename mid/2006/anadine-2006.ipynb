{
 "cells": [
  {
   "cell_type": "code",
   "execution_count": 230,
   "metadata": {},
   "outputs": [],
   "source": [
    "import numpy as np"
   ]
  },
  {
   "cell_type": "markdown",
   "metadata": {},
   "source": [
    "## Set Parameter"
   ]
  },
  {
   "cell_type": "code",
   "execution_count": 231,
   "metadata": {},
   "outputs": [
    {
     "name": "stdout",
     "output_type": "stream",
     "text": [
      "[-3 -2 -1  0  1  2  3]\n",
      "[ 6  3  2  3  6 11 18]\n",
      "[1 1 1 1 1 1 1]\n"
     ]
    }
   ],
   "source": [
    "x = np.array([-3, -2, -1, 0, 1, 2, 3])\n",
    "print(x)\n",
    "y = np.array([6, 3, 2, 3, 6, 11, 18])\n",
    "print(y)\n",
    "# z = np.array([1, 4, 3, 10, 7])\n",
    "# print(z)\n",
    "\n",
    "# f = np.array([50, 100, 105, 165, 150])\n",
    "# print(f)\n",
    "\n",
    "value = 1 \n",
    "bias = np.full(len(x), value)\n",
    "print(bias)"
   ]
  },
  {
   "cell_type": "markdown",
   "metadata": {},
   "source": [
    "## Set New column Stack"
   ]
  },
  {
   "cell_type": "code",
   "execution_count": 232,
   "metadata": {},
   "outputs": [
    {
     "name": "stdout",
     "output_type": "stream",
     "text": [
      "7\n",
      "[[ 9 -3  1]\n",
      " [ 4 -2  1]\n",
      " [ 1 -1  1]\n",
      " [ 0  0  1]\n",
      " [ 1  1  1]\n",
      " [ 4  2  1]\n",
      " [ 9  3  1]]\n"
     ]
    }
   ],
   "source": [
    "new_column_stack = np.column_stack((x**2, x, bias))\n",
    "\n",
    "print(len(new_column_stack))\n",
    "\n",
    "print(new_column_stack)"
   ]
  },
  {
   "cell_type": "markdown",
   "metadata": {},
   "source": [
    "## Func to cal parameter c"
   ]
  },
  {
   "cell_type": "code",
   "execution_count": 233,
   "metadata": {},
   "outputs": [],
   "source": [
    "def cal_c_value(y):\n",
    "    c = 1/len(y)*(sum(y**2))\n",
    "    return c"
   ]
  },
  {
   "cell_type": "markdown",
   "metadata": {},
   "source": [
    "## Func to cal parameter h"
   ]
  },
  {
   "cell_type": "code",
   "execution_count": 234,
   "metadata": {},
   "outputs": [],
   "source": [
    "def cal_h_value(y,new_column_stack):\n",
    "    a = 0\n",
    "    h = 0\n",
    "    for i in range(len(y)):\n",
    "        a = a + y[i]*new_column_stack[i]\n",
    "        \n",
    "    h = (1/len(y))*a\n",
    "        \n",
    "    return h"
   ]
  },
  {
   "cell_type": "markdown",
   "metadata": {},
   "source": [
    "## Func to cal parameter R"
   ]
  },
  {
   "cell_type": "code",
   "execution_count": 235,
   "metadata": {},
   "outputs": [],
   "source": [
    "def cal_R_value(new_column_stack):\n",
    "    a = np.zeros((len(new_column_stack[0]), len(new_column_stack[0])))  # Initialize a zero matrix of the correct size\n",
    "    R = np.zeros((len(new_column_stack[0]), len(new_column_stack[0])))  # Initialize R as a zero matrix\n",
    "\n",
    "    for i in range(len(new_column_stack)):\n",
    "        a += np.outer(new_column_stack[i], new_column_stack[i])  # Compute the outer product and add it to 'a'\n",
    "    \n",
    "    R = (1/len(new_column_stack))*a\n",
    "    \n",
    "    return R"
   ]
  },
  {
   "cell_type": "markdown",
   "metadata": {},
   "source": [
    "## Func to cal parameter a ... an"
   ]
  },
  {
   "cell_type": "code",
   "execution_count": 236,
   "metadata": {},
   "outputs": [],
   "source": [
    "def cal_a_value(R, h):\n",
    "    a = np.dot(np.linalg.inv(R), h)  # Matrix multiplication between R and h\n",
    "    return a"
   ]
  },
  {
   "cell_type": "code",
   "execution_count": 237,
   "metadata": {},
   "outputs": [
    {
     "name": "stdout",
     "output_type": "stream",
     "text": [
      "c : 77.0\n",
      "h : [40.  8.  7.]\n",
      "R :\n",
      "[[28.  0.  4.]\n",
      " [ 0.  4.  0.]\n",
      " [ 4.  0.  1.]]\n",
      "a :\n",
      "[1. 2. 3.]\n"
     ]
    }
   ],
   "source": [
    "c = np.round(cal_c_value(y), 2)\n",
    "print(f\"c : {c}\")\n",
    "# print(c)\n",
    "\n",
    "h = np.round(cal_h_value(y, new_column_stack), 2)\n",
    "print(f\"h : {h}\")\n",
    "# print(h)\n",
    "\n",
    "R = np.round(cal_R_value(new_column_stack), 2)\n",
    "print(\"R :\")\n",
    "print(R)\n",
    "\n",
    "a = np.round(cal_a_value(R, h), 2)\n",
    "print(\"a :\")\n",
    "print(a)"
   ]
  },
  {
   "cell_type": "markdown",
   "metadata": {},
   "source": [
    "## quadratic parameter"
   ]
  },
  {
   "cell_type": "code",
   "execution_count": 238,
   "metadata": {},
   "outputs": [
    {
     "name": "stdout",
     "output_type": "stream",
     "text": [
      "[[-3  6]\n",
      " [-2  3]\n",
      " [-1  2]\n",
      " [ 0  3]\n",
      " [ 1  6]\n",
      " [ 2 11]\n",
      " [ 3 18]]\n",
      "[-3  6]\n",
      "[ 9 -3  1]\n"
     ]
    }
   ],
   "source": [
    "learning_rate = np.array([0.02])\n",
    "\n",
    "a_test = np.array([0, 0, 0]) # a start parameter\n",
    "\n",
    "quad_column_stack = np.column_stack((x, y)) # sort quadratic\n",
    "print(quad_column_stack)\n",
    "\n",
    "print(quad_column_stack[0])\n",
    "print(new_column_stack[0])"
   ]
  },
  {
   "cell_type": "code",
   "execution_count": 239,
   "metadata": {},
   "outputs": [
    {
     "name": "stdout",
     "output_type": "stream",
     "text": [
      "[0 0 0]\n",
      "[ 9 -3  1]\n",
      "6\n",
      "[ 2.16 -0.72  0.24]\n"
     ]
    }
   ],
   "source": [
    "print(a_test)\n",
    "print(new_column_stack[0])\n",
    "\n",
    "e = y[0]- (np.dot(a_test, new_column_stack[0]))\n",
    "print(e)\n",
    "\n",
    "w11 = a_test + 2 * learning_rate * np.dot(e, new_column_stack[0])\n",
    "\n",
    "print(w11)\n"
   ]
  },
  {
   "cell_type": "code",
   "execution_count": 240,
   "metadata": {},
   "outputs": [
    {
     "name": "stdout",
     "output_type": "stream",
     "text": [
      "---------- ITERATION 1 ----------\n",
      "present : [-3  6]\n",
      "when y 6 :\n",
      "y = 0\n",
      "error 1 (when y = 6): 6\n",
      "weight 1 : \n",
      "[ 2.16 -0.72  0.24]\n",
      "---------- ITERATION 2 ----------\n",
      "present : [-2  3]\n",
      "when y 3 :\n",
      "y = 10.32\n",
      "error 2 (when y = 3): -7.32\n",
      "weight 2 : \n",
      "[ 0.99 -0.13 -0.05]\n",
      "---------- ITERATION 3 ----------\n",
      "present : [-1  2]\n",
      "when y 2 :\n",
      "y = 1.07\n",
      "error 3 (when y = 2): 0.93\n",
      "weight 3 : \n",
      "[ 1.03 -0.17 -0.01]\n",
      "---------- ITERATION 4 ----------\n",
      "present : [0 3]\n",
      "when y 3 :\n",
      "y = -0.01\n",
      "error 4 (when y = 3): 3.01\n",
      "weight 4 : \n",
      "[ 1.03 -0.17  0.11]\n",
      "---------- ITERATION 5 ----------\n",
      "present : [1 6]\n",
      "when y 6 :\n",
      "y = 0.97\n",
      "error 5 (when y = 6): 5.03\n",
      "weight 5 : \n",
      "[1.23 0.03 0.31]\n",
      "---------- ITERATION 6 ----------\n",
      "present : [ 2 11]\n",
      "when y 11 :\n",
      "y = 5.289999999999999\n",
      "error 6 (when y = 11): 5.71\n",
      "weight 6 : \n",
      "[2.14 0.49 0.54]\n",
      "---------- ITERATION 7 ----------\n",
      "present : [ 3 18]\n",
      "when y 18 :\n",
      "y = 21.27\n",
      "error 7 (when y = 18): -3.27\n",
      "weight 7 : \n",
      "[0.96 0.1  0.41]\n"
     ]
    }
   ],
   "source": [
    "for i in range(len(y)):\n",
    "    print(f\"---------- ITERATION {i+1} ----------\")\n",
    "    print(f\"present : {quad_column_stack[i]}\")\n",
    "    e = np.round(y[i]- (np.dot(a_test, new_column_stack[i])), 2)\n",
    "    print(f\"when y {y[i]} :\")\n",
    "    print(f\"y = {np.dot(a_test.T, new_column_stack[i])}\")\n",
    "    w = np.round(a_test + 2 * learning_rate * np.dot(e, new_column_stack[i]), 2)\n",
    "    \n",
    "    a_test = w\n",
    "    \n",
    "    \n",
    "    print(f\"error {i+1} (when y = {y[i]}): {e}\")\n",
    "    print(f\"weight {i+1} : \")\n",
    "    print(w)"
   ]
  },
  {
   "cell_type": "markdown",
   "metadata": {},
   "source": [
    "## MPL "
   ]
  },
  {
   "cell_type": "code",
   "execution_count": 241,
   "metadata": {},
   "outputs": [
    {
     "data": {
      "text/plain": [
       "[<matplotlib.lines.Line2D at 0x114e315e0>]"
      ]
     },
     "execution_count": 241,
     "metadata": {},
     "output_type": "execute_result"
    },
    {
     "data": {
      "image/png": "[encoded data removed]",
      "text/plain": [
       "<Figure size 640x480 with 1 Axes>"
      ]
     },
     "metadata": {},
     "output_type": "display_data"
    }
   ],
   "source": [
    "import matplotlib.pyplot as plt\n",
    "\n",
    "plt.plot(x, y)"
   ]
  },
  {
   "cell_type": "code",
   "execution_count": 242,
   "metadata": {},
   "outputs": [
    {
     "name": "stdout",
     "output_type": "stream",
     "text": [
      "0.2689414213699951\n"
     ]
    }
   ],
   "source": [
    "def sigmoid(x):\n",
    "    return 1 / (1 + np.exp(-x))\n",
    "\n",
    "print(sigmoid(-1))"
   ]
  },
  {
   "cell_type": "code",
   "execution_count": null,
   "metadata": {},
   "outputs": [],
   "source": []
  },
  {
   "cell_type": "code",
   "execution_count": null,
   "metadata": {},
   "outputs": [],
   "source": []
  }
 ],
 "metadata": {
  "kernelspec": {
   "display_name": "ai-basic",
   "language": "python",
   "name": "python3"
  },
  "language_info": {
   "codemirror_mode": {
    "name": "ipython",
    "version": 3
   },
   "file_extension": ".py",
   "mimetype": "text/x-python",
   "name": "python",
   "nbconvert_exporter": "python",
   "pygments_lexer": "ipython3",
   "version": "3.9.13"
  },
  "orig_nbformat": 4
 },
 "nbformat": 4,
 "nbformat_minor": 2
}
