{
 "cells": [
  {
   "cell_type": "code",
   "execution_count": 1,
   "metadata": {},
   "outputs": [],
   "source": [
    "import numpy as np"
   ]
  },
  {
   "cell_type": "code",
   "execution_count": 3,
   "metadata": {},
   "outputs": [],
   "source": [
    "# class 1 [1 0 0]\n",
    "p1 = np.array([10, 10, 10])\n",
    "p2 = np.array([10.5, 9.8, 9.6])\n",
    "p3 = np.array([9.7, 10.3, 10.2])\n",
    "\n",
    "# class 2 [0 1 0]\n",
    "p4 = np.array([5, -15, 0])\n",
    "p5 = np.array([4.7, -14.8, 0.3])\n",
    "\n",
    "# class 1 [1 0 0]\n",
    "p6 = np.array([-20, -20, -20])\n",
    "p7 = np.array([-19.6, -20.2, -20.3])\n",
    "p8 = np.array([-20.3, -19.5, -19.1])\n",
    "\n",
    "# class 3 [0 0 1]\n",
    "p9 = np.array([-5, 20, -15])\n",
    "p10 = np.array([-4.8, 19.7, -15.4])\n",
    "p11 = np.array([15, 15, 15])\n",
    "p12 = np.array([15.4, 14.7, 14.9])\n"
   ]
  },
  {
   "cell_type": "code",
   "execution_count": 4,
   "metadata": {},
   "outputs": [
    {
     "name": "stdout",
     "output_type": "stream",
     "text": [
      "3\n"
     ]
    }
   ],
   "source": [
    "print(len(p1))"
   ]
  },
  {
   "cell_type": "code",
   "execution_count": 14,
   "metadata": {},
   "outputs": [
    {
     "name": "stdout",
     "output_type": "stream",
     "text": [
      "[[10.  10.  10. ]\n",
      " [10.5  9.8  9.6]\n",
      " [ 9.7 10.3 10.2]]\n",
      "[10. 10. 10.]\n",
      "------- Iteration 0 -------\n",
      "[10. 10. 10.]\n",
      "[10.5  9.8  9.6]\n",
      "------- Iteration 1 -------\n",
      "[20.5 19.8 19.6]\n",
      "[ 9.7 10.3 10.2]\n",
      "------- Iteration 2 -------\n",
      "[30.2 30.1 29.8]\n"
     ]
    }
   ],
   "source": [
    "new_stack_w1 = np.array([p1, p2, p3])\n",
    "print(new_stack_w1)\n",
    "\n",
    "w = np.zeros(len(new_stack_w1))\n",
    "\n",
    "\n",
    "for i in range(len(new_stack_w1)):\n",
    "    current_array = new_stack_w1[i]\n",
    "    print(current_array)\n",
    "    print(f\"------- Iteration {i} -------\")\n",
    "    w = w + new_stack_w1[i]\n",
    "    print(w)\n"
   ]
  },
  {
   "cell_type": "code",
   "execution_count": null,
   "metadata": {},
   "outputs": [],
   "source": []
  }
 ],
 "metadata": {
  "kernelspec": {
   "display_name": "ai-basic",
   "language": "python",
   "name": "python3"
  },
  "language_info": {
   "codemirror_mode": {
    "name": "ipython",
    "version": 3
   },
   "file_extension": ".py",
   "mimetype": "text/x-python",
   "name": "python",
   "nbconvert_exporter": "python",
   "pygments_lexer": "ipython3",
   "version": "3.9.13"
  },
  "orig_nbformat": 4
 },
 "nbformat": 4,
 "nbformat_minor": 2
}
