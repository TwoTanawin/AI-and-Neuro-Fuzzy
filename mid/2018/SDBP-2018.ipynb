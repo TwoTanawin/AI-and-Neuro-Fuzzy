{
 "cells": [
  {
   "cell_type": "code",
   "execution_count": 1,
   "metadata": {},
   "outputs": [],
   "source": [
    "import numpy as np"
   ]
  },
  {
   "cell_type": "code",
   "execution_count": 2,
   "metadata": {},
   "outputs": [],
   "source": [
    "def sigmoidSDBP(x):\n",
    "    return 1 / (1 + np.exp(-x))"
   ]
  },
  {
   "cell_type": "code",
   "execution_count": 3,
   "metadata": {},
   "outputs": [
    {
     "name": "stdout",
     "output_type": "stream",
     "text": [
      "length p: 2\n",
      "size p: 2\n"
     ]
    }
   ],
   "source": [
    "p = np.array([[1, -1, -1], [1, 1, -1]])\n",
    "t = np.array([[0], [1]])\n",
    "\n",
    "print(\"length p:\", len(p))\n",
    "print(\"size p:\", p.shape[0])"
   ]
  },
  {
   "cell_type": "code",
   "execution_count": 4,
   "metadata": {},
   "outputs": [],
   "source": [
    "w_layer1 = np.array([0.1, -0.2, 0.3])\n",
    "bias_layer1 = np.array([-0.4])\n",
    "\n",
    "learning_rate = 0.5"
   ]
  },
  {
   "cell_type": "code",
   "execution_count": 5,
   "metadata": {},
   "outputs": [],
   "source": [
    "w_new_his = []\n",
    "bias_new_his = []"
   ]
  },
  {
   "cell_type": "code",
   "execution_count": 6,
   "metadata": {},
   "outputs": [
    {
     "name": "stdout",
     "output_type": "stream",
     "text": [
      "------------- start !! -------------\n",
      "------------- Iteration 1 -------------\n",
      "Current Row: [ 1 -1 -1]\n",
      "n: [-0.4]\n",
      "a: [0.40131234]\n",
      "e: [-0.40131234]\n",
      "s_layer1: [0.1928392]\n",
      "w1_new: [ 0.0035804 -0.1035804  0.3964196]\n",
      "bias_new: [-0.4964196]\n",
      "------------- Iteration 2 -------------\n",
      "Current Row: [ 1  1 -1]\n",
      "n: [-0.9928392]\n",
      "a: [0.27035165]\n",
      "e: [0.72964835]\n",
      "s_layer1: [-0.28786325]\n",
      "w1_new: [0.14751202 0.04035123 0.25248798]\n",
      "bias_new: [-0.35248798]\n",
      "Final weights: [0.14751202 0.04035123 0.25248798]\n",
      "Final biases: [-0.35248798]\n"
     ]
    }
   ],
   "source": [
    "print('------------- start !! -------------')\n",
    "for i in range(len(p)):\n",
    "    print('------------- Iteration', i + 1, '-------------')\n",
    "    current_row = p[i, :]\n",
    "    n = np.dot(w_layer1, current_row) + bias_layer1\n",
    "    a = sigmoidSDBP(n)\n",
    "    e = t[i, :] - a\n",
    "    s_layer1 = -2 * (1 - a) * a * e\n",
    "    w1_new = w_layer1 - learning_rate * s_layer1 * current_row\n",
    "    bias_new = bias_layer1 - learning_rate * s_layer1\n",
    "\n",
    "    print(\"Current Row:\", current_row)\n",
    "    print(\"n:\", n)\n",
    "    print(\"a:\", a)\n",
    "    print(\"e:\", e)\n",
    "    print(\"s_layer1:\", s_layer1)\n",
    "    print(\"w1_new:\", w1_new)\n",
    "    print(\"bias_new:\", bias_new)\n",
    "\n",
    "    w_layer1 = w1_new\n",
    "    bias_layer1 = bias_new\n",
    "\n",
    "    w_new_his.append(w1_new)\n",
    "    bias_new_his.append(bias_new)\n",
    "\n",
    "# Converting Python lists to NumPy arrays for consistency\n",
    "w_new_his = np.array(w_new_his)\n",
    "bias_new_his = np.array(bias_new_his)\n",
    "\n",
    "# Output the final weights and biases\n",
    "print(\"Final weights:\", w_layer1)\n",
    "print(\"Final biases:\", bias_layer1)"
   ]
  },
  {
   "cell_type": "code",
   "execution_count": null,
   "metadata": {},
   "outputs": [],
   "source": []
  }
 ],
 "metadata": {
  "kernelspec": {
   "display_name": "ai-basic",
   "language": "python",
   "name": "python3"
  },
  "language_info": {
   "codemirror_mode": {
    "name": "ipython",
    "version": 3
   },
   "file_extension": ".py",
   "mimetype": "text/x-python",
   "name": "python",
   "nbconvert_exporter": "python",
   "pygments_lexer": "ipython3",
   "version": "3.9.13"
  },
  "orig_nbformat": 4
 },
 "nbformat": 4,
 "nbformat_minor": 2
}
