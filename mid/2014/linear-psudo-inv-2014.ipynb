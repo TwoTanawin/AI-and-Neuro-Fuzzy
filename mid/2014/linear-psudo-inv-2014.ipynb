{
 "cells": [
  {
   "cell_type": "code",
   "execution_count": 1,
   "metadata": {},
   "outputs": [],
   "source": [
    "import numpy as np"
   ]
  },
  {
   "cell_type": "code",
   "execution_count": 2,
   "metadata": {},
   "outputs": [],
   "source": [
    "p1 = np.array([255, 0, 0])\n",
    "p2 = np.array([0, 255, 0])\n",
    "p3 = np.array([0, 0, 255])\n",
    "# p4 = np.array([4, 16, 64, 256])\n",
    "\n",
    "t1 = np.array([3600])\n",
    "t2 = np.array([1200])\n",
    "t3 = np.array([2400])\n",
    "# t4 = np.array([80])"
   ]
  },
  {
   "cell_type": "code",
   "execution_count": 3,
   "metadata": {},
   "outputs": [
    {
     "name": "stdout",
     "output_type": "stream",
     "text": [
      "[[255   0   0]\n",
      " [  0 255   0]\n",
      " [  0   0 255]]\n"
     ]
    }
   ],
   "source": [
    "P = np.array([p1, p2, p3])\n",
    "P = P.T\n",
    "print(P)\n"
   ]
  },
  {
   "cell_type": "code",
   "execution_count": 4,
   "metadata": {},
   "outputs": [
    {
     "name": "stdout",
     "output_type": "stream",
     "text": [
      "[[3600 1200 2400]]\n"
     ]
    }
   ],
   "source": [
    "T = np.array([t1, t2, t3])\n",
    "T = T.T\n",
    "\n",
    "print(T)"
   ]
  },
  {
   "cell_type": "code",
   "execution_count": 6,
   "metadata": {},
   "outputs": [
    {
     "name": "stdout",
     "output_type": "stream",
     "text": [
      "[[255   0   0]\n",
      " [  0 255   0]\n",
      " [  0   0 255]]\n"
     ]
    }
   ],
   "source": [
    "PT = P.transpose()\n",
    "\n",
    "print(PT)"
   ]
  },
  {
   "cell_type": "code",
   "execution_count": 7,
   "metadata": {},
   "outputs": [
    {
     "name": "stdout",
     "output_type": "stream",
     "text": [
      "[[14.118  4.706  9.412]]\n"
     ]
    }
   ],
   "source": [
    "w = np.round(np.dot(np.dot(T, np.linalg.inv(np.dot(PT, P))), PT), 3)\n",
    "print(w)"
   ]
  },
  {
   "cell_type": "code",
   "execution_count": 8,
   "metadata": {},
   "outputs": [
    {
     "name": "stdout",
     "output_type": "stream",
     "text": [
      "[3600.09]\n"
     ]
    }
   ],
   "source": [
    "w1 = np.dot(w,PT[0])\n",
    "print(w1)"
   ]
  },
  {
   "cell_type": "code",
   "execution_count": 9,
   "metadata": {},
   "outputs": [
    {
     "name": "stdout",
     "output_type": "stream",
     "text": [
      "wp0 : 3600.09\n",
      "wp1 : 1200.03\n",
      "wp2 : 2400.06\n",
      "[3600.09 1200.03 2400.06]\n",
      "(3,)\n"
     ]
    }
   ],
   "source": [
    "w_history = np.array([])\n",
    "for i in range(len(P)):\n",
    "    w_history = np.round(np.append(w_history, np.dot(w, PT[i])), 2)\n",
    "    print(f\"wp{i} : {w_history[i]}\")\n",
    "print(w_history)\n",
    "print(w_history.shape)"
   ]
  },
  {
   "cell_type": "code",
   "execution_count": 10,
   "metadata": {},
   "outputs": [
    {
     "name": "stdout",
     "output_type": "stream",
     "text": [
      "wp0 : 3600.09\n",
      "wp1 : 1200.03\n",
      "wp2 : 2400.06\n"
     ]
    }
   ],
   "source": [
    "for i in range(len(w_history)):\n",
    "    print(f\"wp{i} : {w_history[i]}\")"
   ]
  },
  {
   "cell_type": "markdown",
   "metadata": {},
   "source": [
    "## Test input"
   ]
  },
  {
   "cell_type": "code",
   "execution_count": 11,
   "metadata": {},
   "outputs": [
    {
     "name": "stdout",
     "output_type": "stream",
     "text": [
      "[1411.8]\n"
     ]
    }
   ],
   "source": [
    "ptest = np.array([0, 100, 100])\n",
    "ptestT = ptest.transpose()\n",
    "wtest = np.dot(w,ptestT)\n",
    "print(wtest)"
   ]
  },
  {
   "cell_type": "code",
   "execution_count": null,
   "metadata": {},
   "outputs": [],
   "source": []
  }
 ],
 "metadata": {
  "kernelspec": {
   "display_name": "ai-basic",
   "language": "python",
   "name": "python3"
  },
  "language_info": {
   "codemirror_mode": {
    "name": "ipython",
    "version": 3
   },
   "file_extension": ".py",
   "mimetype": "text/x-python",
   "name": "python",
   "nbconvert_exporter": "python",
   "pygments_lexer": "ipython3",
   "version": "3.9.13"
  },
  "orig_nbformat": 4
 },
 "nbformat": 4,
 "nbformat_minor": 2
}
