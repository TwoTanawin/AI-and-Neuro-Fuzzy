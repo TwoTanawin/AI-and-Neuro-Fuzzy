{
 "cells": [
  {
   "cell_type": "code",
   "execution_count": 2,
   "metadata": {},
   "outputs": [],
   "source": [
    "import numpy as np"
   ]
  },
  {
   "cell_type": "markdown",
   "metadata": {},
   "source": [
    "## Set Parameter"
   ]
  },
  {
   "cell_type": "code",
   "execution_count": 3,
   "metadata": {},
   "outputs": [
    {
     "name": "stdout",
     "output_type": "stream",
     "text": [
      "[1 2 2 3 5]\n",
      "[1 3 4 5 2]\n",
      "[ 1  4  3 10  7]\n",
      "[ 50 100 105 165 150]\n",
      "[1 1 1 1 1]\n"
     ]
    }
   ],
   "source": [
    "x = np.array([1, 2, 2, 3, 5])\n",
    "print(x)\n",
    "y = np.array([1, 3, 4, 5, 2])\n",
    "print(y)\n",
    "z = np.array([1, 4, 3, 10, 7])\n",
    "print(z)\n",
    "\n",
    "f = np.array([50, 100, 105, 165, 150])\n",
    "print(f)\n",
    "\n",
    "value = 1 \n",
    "bias = np.full(len(x), value)\n",
    "print(bias)"
   ]
  },
  {
   "cell_type": "markdown",
   "metadata": {},
   "source": [
    "## Set New column Stack"
   ]
  },
  {
   "cell_type": "code",
   "execution_count": 4,
   "metadata": {},
   "outputs": [
    {
     "name": "stdout",
     "output_type": "stream",
     "text": [
      "5\n",
      "[[ 1  1  1  1]\n",
      " [ 2  3  4  1]\n",
      " [ 2  4  3  1]\n",
      " [ 3  5 10  1]\n",
      " [ 5  2  7  1]]\n"
     ]
    }
   ],
   "source": [
    "new_column_stack = np.column_stack((x, y, z, bias))\n",
    "\n",
    "print(len(new_column_stack))\n",
    "\n",
    "print(new_column_stack)"
   ]
  },
  {
   "cell_type": "markdown",
   "metadata": {},
   "source": [
    "## Func to cal parameter c"
   ]
  },
  {
   "cell_type": "code",
   "execution_count": 5,
   "metadata": {},
   "outputs": [],
   "source": [
    "def cal_c_value(y):\n",
    "    c = 1/len(y)*(sum(y**2))\n",
    "    return c"
   ]
  },
  {
   "cell_type": "markdown",
   "metadata": {},
   "source": [
    "## Func to cal parameter h"
   ]
  },
  {
   "cell_type": "code",
   "execution_count": 6,
   "metadata": {},
   "outputs": [],
   "source": [
    "def cal_h_value(y,new_column_stack):\n",
    "    a = 0\n",
    "    h = 0\n",
    "    for i in range(len(y)):\n",
    "        a = a + y[i]*new_column_stack[i]\n",
    "        \n",
    "    h = (1/len(y))*a\n",
    "        \n",
    "    return h"
   ]
  },
  {
   "cell_type": "markdown",
   "metadata": {},
   "source": [
    "## Func to cal parameter R"
   ]
  },
  {
   "cell_type": "code",
   "execution_count": 7,
   "metadata": {},
   "outputs": [],
   "source": [
    "def cal_R_value(new_column_stack):\n",
    "    a = np.zeros((len(new_column_stack[0]), len(new_column_stack[0])))  # Initialize a zero matrix of the correct size\n",
    "    R = np.zeros((len(new_column_stack[0]), len(new_column_stack[0])))  # Initialize R as a zero matrix\n",
    "\n",
    "    for i in range(len(new_column_stack)):\n",
    "        a += np.outer(new_column_stack[i], new_column_stack[i])  # Compute the outer product and add it to 'a'\n",
    "    \n",
    "    R = (1/len(new_column_stack))*a\n",
    "    \n",
    "    return R"
   ]
  },
  {
   "cell_type": "markdown",
   "metadata": {},
   "source": [
    "## Func to cal parameter a ... an"
   ]
  },
  {
   "cell_type": "code",
   "execution_count": 8,
   "metadata": {},
   "outputs": [],
   "source": [
    "def cal_a_value(R, h):\n",
    "    a = np.dot(np.linalg.inv(R), h)  # Matrix multiplication between R and h\n",
    "    return a"
   ]
  },
  {
   "cell_type": "code",
   "execution_count": 9,
   "metadata": {},
   "outputs": [
    {
     "name": "stdout",
     "output_type": "stream",
     "text": [
      "c : 14650.0\n",
      "h : [341. 379. 693. 114.]\n",
      "R :\n",
      "[[ 8.6  8.  16.   2.6]\n",
      " [ 8.  11.  17.8  3. ]\n",
      " [16.  17.8 35.   5. ]\n",
      " [ 2.6  3.   5.   1. ]]\n",
      "a :\n",
      "[15. 10.  5. 20.]\n"
     ]
    }
   ],
   "source": [
    "c = np.round(cal_c_value(f), 2)\n",
    "print(f\"c : {c}\")\n",
    "# print(c)\n",
    "\n",
    "h = np.round(cal_h_value(f, new_column_stack), 2)\n",
    "print(f\"h : {h}\")\n",
    "# print(h)\n",
    "\n",
    "R = np.round(cal_R_value(new_column_stack), 2)\n",
    "print(\"R :\")\n",
    "print(R)\n",
    "\n",
    "a = np.round(cal_a_value(R, h), 2)\n",
    "print(\"a :\")\n",
    "print(a)"
   ]
  },
  {
   "cell_type": "code",
   "execution_count": null,
   "metadata": {},
   "outputs": [],
   "source": []
  }
 ],
 "metadata": {
  "kernelspec": {
   "display_name": "ai-basic",
   "language": "python",
   "name": "python3"
  },
  "language_info": {
   "codemirror_mode": {
    "name": "ipython",
    "version": 3
   },
   "file_extension": ".py",
   "mimetype": "text/x-python",
   "name": "python",
   "nbconvert_exporter": "python",
   "pygments_lexer": "ipython3",
   "version": "3.9.13"
  },
  "orig_nbformat": 4
 },
 "nbformat": 4,
 "nbformat_minor": 2
}
