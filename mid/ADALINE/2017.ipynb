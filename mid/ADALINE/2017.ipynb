{
 "cells": [
  {
   "cell_type": "code",
   "execution_count": 45,
   "metadata": {},
   "outputs": [],
   "source": [
    "import numpy as np\n",
    "import math"
   ]
  },
  {
   "cell_type": "markdown",
   "metadata": {},
   "source": [
    "## Set Parameter"
   ]
  },
  {
   "cell_type": "code",
   "execution_count": 46,
   "metadata": {},
   "outputs": [
    {
     "name": "stdout",
     "output_type": "stream",
     "text": [
      "[0 1 2 3 4]\n",
      "[2 5 1 8 3]\n",
      "[1 1 1 1 1]\n"
     ]
    }
   ],
   "source": [
    "x1 = np.array([0, 1, 2, 3, 4])\n",
    "print(x1)\n",
    "x2 = x1**2\n",
    "x3 = x1**3\n",
    "x4 = x1**4\n",
    "# x2 = np.array([1, 1, 3, 3, 5])\n",
    "# print(x2)\n",
    "# x3 = np.array([1, 3, 5, 7, 9])\n",
    "# print(x3)\n",
    "\n",
    "y = np.array([2, 5, 1, 8, 3])\n",
    "print(y)\n",
    "\n",
    "value = 1 \n",
    "bias = np.full(len(x1), value)\n",
    "print(bias)"
   ]
  },
  {
   "cell_type": "markdown",
   "metadata": {},
   "source": [
    "# Formular Require\n",
    "# y = a0 + a1x + a2x^2 + a3x^3 + a4x^4"
   ]
  },
  {
   "cell_type": "markdown",
   "metadata": {},
   "source": [
    "## Set New column Stack"
   ]
  },
  {
   "cell_type": "code",
   "execution_count": 47,
   "metadata": {},
   "outputs": [
    {
     "name": "stdout",
     "output_type": "stream",
     "text": [
      "5\n"
     ]
    }
   ],
   "source": [
    "new_column_stack = np.column_stack((x1, x2, x3, x4, bias))\n",
    "\n",
    "print(len(new_column_stack))"
   ]
  },
  {
   "cell_type": "markdown",
   "metadata": {},
   "source": [
    "## Func to cal parameter c"
   ]
  },
  {
   "cell_type": "code",
   "execution_count": 48,
   "metadata": {},
   "outputs": [],
   "source": [
    "def cal_c_value(y):\n",
    "    c = 1/len(y)*(sum(y**2))\n",
    "    return c"
   ]
  },
  {
   "cell_type": "markdown",
   "metadata": {},
   "source": [
    "## Func to cal parameter h"
   ]
  },
  {
   "cell_type": "code",
   "execution_count": 49,
   "metadata": {},
   "outputs": [],
   "source": [
    "def cal_h_value(y,new_column_stack):\n",
    "    a = 0\n",
    "    h = 0\n",
    "    for i in range(len(y)):\n",
    "        a = a + y[i]*new_column_stack[i]\n",
    "        \n",
    "    h = (1/len(y))*a\n",
    "        \n",
    "    return h"
   ]
  },
  {
   "cell_type": "markdown",
   "metadata": {},
   "source": [
    "## Func to cal parameter R"
   ]
  },
  {
   "cell_type": "code",
   "execution_count": 50,
   "metadata": {},
   "outputs": [],
   "source": [
    "def cal_R_value(new_column_stack):\n",
    "    a = np.zeros((len(new_column_stack[0]), len(new_column_stack[0])))  # Initialize a zero matrix of the correct size\n",
    "    R = np.zeros((len(new_column_stack[0]), len(new_column_stack[0])))  # Initialize R as a zero matrix\n",
    "\n",
    "    for i in range(len(new_column_stack)):\n",
    "        a += np.outer(new_column_stack[i], new_column_stack[i])  # Compute the outer product and add it to 'a'\n",
    "    \n",
    "    R = (1/len(new_column_stack))*a\n",
    "    \n",
    "    return R"
   ]
  },
  {
   "cell_type": "markdown",
   "metadata": {},
   "source": [
    "## Func to cal parameter a ... an"
   ]
  },
  {
   "cell_type": "code",
   "execution_count": 51,
   "metadata": {},
   "outputs": [],
   "source": [
    "def cal_a_value(R, h):\n",
    "    a = np.dot(np.linalg.inv(R), h)  # Matrix multiplication between R and h\n",
    "    return a"
   ]
  },
  {
   "cell_type": "code",
   "execution_count": 52,
   "metadata": {},
   "outputs": [
    {
     "name": "stdout",
     "output_type": "stream",
     "text": [
      "c : 20.6\n",
      "h : [  8.6  25.8  84.2 287.4   3.8]\n",
      "R :\n",
      "[[6.00000e+00 2.00000e+01 7.08000e+01 2.60000e+02 2.00000e+00]\n",
      " [2.00000e+01 7.08000e+01 2.60000e+02 9.78000e+02 6.00000e+00]\n",
      " [7.08000e+01 2.60000e+02 9.78000e+02 3.74000e+03 2.00000e+01]\n",
      " [2.60000e+02 9.78000e+02 3.74000e+03 1.44708e+04 7.08000e+01]\n",
      " [2.00000e+00 6.00000e+00 2.00000e+01 7.08000e+01 1.00000e+00]]\n",
      "a :\n",
      "[ 22.75 -31.29  13.25  -1.71   2.  ]\n"
     ]
    }
   ],
   "source": [
    "c = np.round(cal_c_value(y), 2)\n",
    "print(f\"c : {c}\")\n",
    "# print(c)\n",
    "\n",
    "h = np.round(cal_h_value(y, new_column_stack), 2)\n",
    "print(f\"h : {h}\")\n",
    "# print(h)\n",
    "\n",
    "R = np.round(cal_R_value(new_column_stack), 2)\n",
    "print(\"R :\")\n",
    "print(R)\n",
    "\n",
    "a = np.round(cal_a_value(R, h), 2)\n",
    "print(\"a :\")\n",
    "print(a)"
   ]
  },
  {
   "cell_type": "code",
   "execution_count": 53,
   "metadata": {},
   "outputs": [
    {
     "name": "stdout",
     "output_type": "stream",
     "text": [
      "6.00000 20.00000 70.80000 260.00000 2.00000 \n",
      "20.00000 70.80000 260.00000 978.00000 6.00000 \n",
      "70.80000 260.00000 978.00000 3740.00000 20.00000 \n",
      "260.00000 978.00000 3740.00000 14470.80000 70.80000 \n",
      "2.00000 6.00000 20.00000 70.80000 1.00000 \n"
     ]
    }
   ],
   "source": [
    "\n",
    "\n",
    "for row in R:\n",
    "    for num in row:\n",
    "        print(f\"{num:.5f}\", end=\" \")\n",
    "    print()\n"
   ]
  },
  {
   "cell_type": "code",
   "execution_count": null,
   "metadata": {},
   "outputs": [],
   "source": []
  }
 ],
 "metadata": {
  "kernelspec": {
   "display_name": "ai-basic",
   "language": "python",
   "name": "python3"
  },
  "language_info": {
   "codemirror_mode": {
    "name": "ipython",
    "version": 3
   },
   "file_extension": ".py",
   "mimetype": "text/x-python",
   "name": "python",
   "nbconvert_exporter": "python",
   "pygments_lexer": "ipython3",
   "version": "3.9.13"
  },
  "orig_nbformat": 4
 },
 "nbformat": 4,
 "nbformat_minor": 2
}
