{
 "cells": [
  {
   "cell_type": "code",
   "execution_count": 33,
   "metadata": {},
   "outputs": [],
   "source": [
    "import numpy as np"
   ]
  },
  {
   "cell_type": "markdown",
   "metadata": {},
   "source": [
    "## Set Parameter"
   ]
  },
  {
   "cell_type": "code",
   "execution_count": 34,
   "metadata": {},
   "outputs": [
    {
     "name": "stdout",
     "output_type": "stream",
     "text": [
      "[ 0 10 20 30]\n",
      "[0.  0.1 0.4 0.5]\n",
      "[    0  4000  6000 10000]\n",
      "[1 1 1 1]\n"
     ]
    }
   ],
   "source": [
    "# x1 = np.array([0, 4000, 6000, 10000])\n",
    "# print(x1)\n",
    "x1 = np.array([0, 10, 20, 30])\n",
    "print(x1)\n",
    "x2 = np.array([0, 0.1, 0.4, 0.5])\n",
    "print(x2)\n",
    "\n",
    "y = np.array([0, 4000, 6000, 10000])\n",
    "print(y)\n",
    "\n",
    "value = 1 \n",
    "bias = np.full(len(x1), value)\n",
    "print(bias)"
   ]
  },
  {
   "cell_type": "markdown",
   "metadata": {},
   "source": [
    "## Set New column Stack"
   ]
  },
  {
   "cell_type": "code",
   "execution_count": 35,
   "metadata": {},
   "outputs": [
    {
     "name": "stdout",
     "output_type": "stream",
     "text": [
      "4\n"
     ]
    }
   ],
   "source": [
    "new_column_stack = np.column_stack((x1, x2))\n",
    "\n",
    "print(len(new_column_stack))"
   ]
  },
  {
   "cell_type": "markdown",
   "metadata": {},
   "source": [
    "## Func to cal parameter c"
   ]
  },
  {
   "cell_type": "code",
   "execution_count": 36,
   "metadata": {},
   "outputs": [],
   "source": [
    "def cal_c_value(y):\n",
    "    c = 1/len(y)*(sum(y**2))\n",
    "    return c"
   ]
  },
  {
   "cell_type": "markdown",
   "metadata": {},
   "source": [
    "## Func to cal parameter h"
   ]
  },
  {
   "cell_type": "code",
   "execution_count": 37,
   "metadata": {},
   "outputs": [],
   "source": [
    "def cal_h_value(y,new_column_stack):\n",
    "    a = 0\n",
    "    h = 0\n",
    "    for i in range(len(y)):\n",
    "        a = a + y[i]*new_column_stack[i]\n",
    "        \n",
    "    h = (1/len(y))*a\n",
    "        \n",
    "    return h"
   ]
  },
  {
   "cell_type": "markdown",
   "metadata": {},
   "source": [
    "## Func to cal parameter R"
   ]
  },
  {
   "cell_type": "code",
   "execution_count": 38,
   "metadata": {},
   "outputs": [],
   "source": [
    "def cal_R_value(new_column_stack):\n",
    "    a = np.zeros((len(new_column_stack[0]), len(new_column_stack[0])))  # Initialize a zero matrix of the correct size\n",
    "    R = np.zeros((len(new_column_stack[0]), len(new_column_stack[0])))  # Initialize R as a zero matrix\n",
    "\n",
    "    for i in range(len(new_column_stack)):\n",
    "        a += np.outer(new_column_stack[i], new_column_stack[i])  # Compute the outer product and add it to 'a'\n",
    "    \n",
    "    R = (1/len(new_column_stack))*a\n",
    "    \n",
    "    return R"
   ]
  },
  {
   "cell_type": "markdown",
   "metadata": {},
   "source": [
    "## Func to cal parameter a ... an"
   ]
  },
  {
   "cell_type": "code",
   "execution_count": 39,
   "metadata": {},
   "outputs": [],
   "source": [
    "def cal_a_value(R, h):\n",
    "    a = np.dot(np.linalg.inv(R), h)  # Matrix multiplication between R and h\n",
    "    return a"
   ]
  },
  {
   "cell_type": "code",
   "execution_count": 40,
   "metadata": {},
   "outputs": [
    {
     "name": "stdout",
     "output_type": "stream",
     "text": [
      "c : 38000000.0\n",
      "h : [115000.   1950.]\n",
      "R :\n",
      "[[3.50e+02 6.00e+00]\n",
      " [6.00e+00 1.05e-01]]\n",
      "a :\n",
      "[   500. -10000.]\n"
     ]
    }
   ],
   "source": [
    "c = np.round(cal_c_value(y), 2)\n",
    "print(f\"c : {c}\")\n",
    "# print(c)\n",
    "\n",
    "h = np.round(cal_h_value(y, new_column_stack), 2)\n",
    "print(f\"h : {h}\")\n",
    "# print(h)\n",
    "\n",
    "R = cal_R_value(new_column_stack)\n",
    "print(\"R :\")\n",
    "print(R)\n",
    "\n",
    "a = np.round(cal_a_value(R, h), 2)\n",
    "print(\"a :\")\n",
    "print(a)"
   ]
  },
  {
   "cell_type": "code",
   "execution_count": 41,
   "metadata": {},
   "outputs": [
    {
     "name": "stdout",
     "output_type": "stream",
     "text": [
      "350.00000 6.00000 \n",
      "6.00000 0.10500 \n"
     ]
    }
   ],
   "source": [
    "for row in R:\n",
    "    for num in row:\n",
    "        print(f\"{num:.5f}\", end=\" \")\n",
    "    print()"
   ]
  },
  {
   "cell_type": "code",
   "execution_count": null,
   "metadata": {},
   "outputs": [],
   "source": []
  }
 ],
 "metadata": {
  "kernelspec": {
   "display_name": "ai-basic",
   "language": "python",
   "name": "python3"
  },
  "language_info": {
   "codemirror_mode": {
    "name": "ipython",
    "version": 3
   },
   "file_extension": ".py",
   "mimetype": "text/x-python",
   "name": "python",
   "nbconvert_exporter": "python",
   "pygments_lexer": "ipython3",
   "version": "3.9.13"
  },
  "orig_nbformat": 4
 },
 "nbformat": 4,
 "nbformat_minor": 2
}
