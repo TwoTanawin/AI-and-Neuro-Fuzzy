{
 "cells": [
  {
   "cell_type": "code",
   "execution_count": 9,
   "metadata": {},
   "outputs": [],
   "source": [
    "import numpy as np"
   ]
  },
  {
   "cell_type": "markdown",
   "metadata": {},
   "source": [
    "## Set Parameter"
   ]
  },
  {
   "cell_type": "code",
   "execution_count": 10,
   "metadata": {},
   "outputs": [
    {
     "name": "stdout",
     "output_type": "stream",
     "text": [
      "[-2 -1  0  1  2  4 -4 -3  5]\n",
      "[-4 -2 -1 -3  2 -4  5  8  0]\n",
      "[ 16.    2.    3.5  10.5  38.   34.   39.5 104.   56. ]\n",
      "[1 1 1 1 1 1 1 1 1]\n"
     ]
    }
   ],
   "source": [
    "x1 = np.array([-2, -1, 0, 1, 2, 4, -4, -3, 5])\n",
    "print(x1)\n",
    "x2 = np.array([-4, -2, -1, -3, 2, -4, 5, 8, 0])\n",
    "print(x2)\n",
    "# x3 = np.array([1, 3, 5, 7, 9])\n",
    "# print(x3)\n",
    "x1_pow2 = x1**2\n",
    "x2_pow2 = x2**2\n",
    "x1x2 = x1*x2\n",
    "\n",
    "\n",
    "y = np.array([16, 2, 3.5, 10.5, 38, 34, 39.5, 104, 56])\n",
    "print(y)\n",
    "\n",
    "value = 1 \n",
    "bias = np.full(len(x1), value)\n",
    "print(bias)"
   ]
  },
  {
   "cell_type": "markdown",
   "metadata": {},
   "source": [
    "# Formular Require\n",
    "# y = 1/2ax1^2 + 1/2a3x2^2 + a2x1x2 + d1x1 + d2x2\n",
    "# For set column stack"
   ]
  },
  {
   "cell_type": "markdown",
   "metadata": {},
   "source": [
    "## Set New column Stack"
   ]
  },
  {
   "cell_type": "code",
   "execution_count": 11,
   "metadata": {},
   "outputs": [
    {
     "name": "stdout",
     "output_type": "stream",
     "text": [
      "9\n",
      "[[  4  16   8  -2  -4   1]\n",
      " [  1   4   2  -1  -2   1]\n",
      " [  0   1   0   0  -1   1]\n",
      " [  1   9  -3   1  -3   1]\n",
      " [  4   4   4   2   2   1]\n",
      " [ 16  16 -16   4  -4   1]\n",
      " [ 16  25 -20  -4   5   1]\n",
      " [  9  64 -24  -3   8   1]\n",
      " [ 25   0   0   5   0   1]]\n"
     ]
    }
   ],
   "source": [
    "new_column_stack = np.column_stack((x1_pow2, x2_pow2, x1x2, x1, x2, bias))\n",
    "\n",
    "print(len(new_column_stack))\n",
    "\n",
    "print(new_column_stack)"
   ]
  },
  {
   "cell_type": "markdown",
   "metadata": {},
   "source": [
    "## Func to cal parameter c"
   ]
  },
  {
   "cell_type": "code",
   "execution_count": 12,
   "metadata": {},
   "outputs": [],
   "source": [
    "def cal_c_value(y):\n",
    "    c = 1/len(y)*(sum(y**2))\n",
    "    return c"
   ]
  },
  {
   "cell_type": "markdown",
   "metadata": {},
   "source": [
    "## Func to cal parameter h"
   ]
  },
  {
   "cell_type": "code",
   "execution_count": 13,
   "metadata": {},
   "outputs": [],
   "source": [
    "def cal_h_value(y,new_column_stack):\n",
    "    a = 0\n",
    "    h = 0\n",
    "    for i in range(len(y)):\n",
    "        a = a + y[i]*new_column_stack[i]\n",
    "        \n",
    "    h = (1/len(y))*a\n",
    "        \n",
    "    return h"
   ]
  },
  {
   "cell_type": "markdown",
   "metadata": {},
   "source": [
    "## Func to cal parameter R"
   ]
  },
  {
   "cell_type": "code",
   "execution_count": 14,
   "metadata": {},
   "outputs": [],
   "source": [
    "def cal_R_value(new_column_stack):\n",
    "    a = np.zeros((len(new_column_stack[0]), len(new_column_stack[0])))  # Initialize a zero matrix of the correct size\n",
    "    R = np.zeros((len(new_column_stack[0]), len(new_column_stack[0])))  # Initialize R as a zero matrix\n",
    "\n",
    "    for i in range(len(new_column_stack)):\n",
    "        a += np.outer(new_column_stack[i], new_column_stack[i])  # Compute the outer product and add it to 'a'\n",
    "    \n",
    "    R = (1/len(new_column_stack))*a\n",
    "    \n",
    "    return R"
   ]
  },
  {
   "cell_type": "markdown",
   "metadata": {},
   "source": [
    "## Func to cal parameter a ... an"
   ]
  },
  {
   "cell_type": "code",
   "execution_count": 15,
   "metadata": {},
   "outputs": [],
   "source": [
    "def cal_a_value(R, h):\n",
    "    a = np.dot(np.linalg.inv(R), h)  # Matrix multiplication between R and h\n",
    "    return a"
   ]
  },
  {
   "cell_type": "code",
   "execution_count": 16,
   "metadata": {},
   "outputs": [
    {
     "name": "stdout",
     "output_type": "stream",
     "text": [
      "c : 2054.97\n",
      "h : [ 4.1561e+02  9.6683e+02 -3.9750e+02 -1.7000e-01  9.6280e+01  3.3720e+01]\n",
      "R :\n",
      "[[ 1.3911e+02  1.4722e+02 -8.2780e+01  1.0890e+01  8.3300e+00  8.4400e+00]\n",
      " [ 1.4722e+02  5.9411e+02 -2.4078e+02 -2.7440e+01  5.3440e+01  1.5440e+01]\n",
      " [-8.2780e+01 -2.4078e+02  1.4722e+02  8.3300e+00 -2.7440e+01 -5.4400e+00]\n",
      " [ 1.0890e+01 -2.7440e+01  8.3300e+00  8.4400e+00 -5.4400e+00  2.2000e-01]\n",
      " [ 8.3300e+00  5.3440e+01 -2.7440e+01 -5.4400e+00  1.5440e+01  1.1000e-01]\n",
      " [ 8.4400e+00  1.5440e+01 -5.4400e+00  2.2000e-01  1.1000e-01  1.0000e+00]]\n",
      "a :\n",
      "[1.   1.5  1.   5.   4.01 6.08]\n"
     ]
    }
   ],
   "source": [
    "c = np.round(cal_c_value(y), 2)\n",
    "print(f\"c : {c}\")\n",
    "# print(c)\n",
    "\n",
    "h = np.round(cal_h_value(y, new_column_stack), 2)\n",
    "print(f\"h : {h}\")\n",
    "# print(h)\n",
    "\n",
    "R = np.round(cal_R_value(new_column_stack), 2)\n",
    "print(\"R :\")\n",
    "print(R)\n",
    "\n",
    "a = np.round(cal_a_value(R, h), 2)\n",
    "print(\"a :\")\n",
    "print(a)"
   ]
  },
  {
   "cell_type": "code",
   "execution_count": 17,
   "metadata": {},
   "outputs": [
    {
     "name": "stdout",
     "output_type": "stream",
     "text": [
      "139.11000 147.22000 -82.78000 10.89000 8.33000 8.44000 \n",
      "147.22000 594.11000 -240.78000 -27.44000 53.44000 15.44000 \n",
      "-82.78000 -240.78000 147.22000 8.33000 -27.44000 -5.44000 \n",
      "10.89000 -27.44000 8.33000 8.44000 -5.44000 0.22000 \n",
      "8.33000 53.44000 -27.44000 -5.44000 15.44000 0.11000 \n",
      "8.44000 15.44000 -5.44000 0.22000 0.11000 1.00000 \n"
     ]
    }
   ],
   "source": [
    "for row in R:\n",
    "    for num in row:\n",
    "        print(f\"{num:.5f}\", end=\" \")\n",
    "    print()"
   ]
  },
  {
   "cell_type": "code",
   "execution_count": null,
   "metadata": {},
   "outputs": [],
   "source": []
  }
 ],
 "metadata": {
  "kernelspec": {
   "display_name": "ai-basic",
   "language": "python",
   "name": "python3"
  },
  "language_info": {
   "codemirror_mode": {
    "name": "ipython",
    "version": 3
   },
   "file_extension": ".py",
   "mimetype": "text/x-python",
   "name": "python",
   "nbconvert_exporter": "python",
   "pygments_lexer": "ipython3",
   "version": "3.9.13"
  },
  "orig_nbformat": 4
 },
 "nbformat": 4,
 "nbformat_minor": 2
}
