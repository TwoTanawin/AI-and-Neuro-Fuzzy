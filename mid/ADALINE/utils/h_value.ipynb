{
 "cells": [
  {
   "cell_type": "code",
   "execution_count": 1,
   "metadata": {},
   "outputs": [
    {
     "name": "stdout",
     "output_type": "stream",
     "text": [
      "n1:\n",
      "[[1 1 1 3 5]\n",
      " [1 1 1 1 1]]\n",
      "n2:\n",
      "[[1 1 3 3 5]\n",
      " [1 1 1 1 1]]\n",
      "n3:\n",
      "[[1 3 5 7 9]\n",
      " [1 1 1 1 1]]\n",
      "n4:\n",
      "[[1 1 1 3 5]\n",
      " [3 3 3 3 3]]\n",
      "n5:\n",
      "[[1 1 3 3 5]\n",
      " [3 3 3 3 3]]\n"
     ]
    }
   ],
   "source": [
    "import numpy as np\n",
    "\n",
    "x1 = np.array([1, 1, 1, 3, 5])\n",
    "x2 = np.array([1, 1, 3, 3, 5])\n",
    "x3 = np.array([1, 3, 5, 7, 9])\n",
    "y = np.array([0.1, -7.8, -6.1, -9.7, -4.2])\n",
    "\n",
    "# Reshape x1, x2, and x3 to match the specified format\n",
    "n1 = np.vstack((x1, np.ones_like(x1)))\n",
    "n2 = np.vstack((x2, np.ones_like(x2)))\n",
    "n3 = np.vstack((x3, np.ones_like(x3)))\n",
    "\n",
    "# You can also create n4 and n5 similarly\n",
    "n4 = np.vstack((x1, np.ones_like(x1) * 3))\n",
    "n5 = np.vstack((x2, np.ones_like(x2) * 3))\n",
    "\n",
    "print(\"n1:\")\n",
    "print(n1)\n",
    "print(\"n2:\")\n",
    "print(n2)\n",
    "print(\"n3:\")\n",
    "print(n3)\n",
    "print(\"n4:\")\n",
    "print(n4)\n",
    "print(\"n5:\")\n",
    "print(n5)\n"
   ]
  },
  {
   "cell_type": "code",
   "execution_count": 3,
   "metadata": {},
   "outputs": [
    {
     "name": "stdout",
     "output_type": "stream",
     "text": [
      "n1 = [[1 1 1 1]\n",
      " [1 1 3 1]\n",
      " [1 3 5 1]\n",
      " [3 3 7 1]\n",
      " [5 5 9 1]]\n",
      "n2 = [[1 1 1 1]\n",
      " [1 1 3 1]\n",
      " [1 3 5 1]\n",
      " [3 3 7 1]\n",
      " [5 5 9 1]]\n",
      "n3 = [[1 1 1 1]\n",
      " [1 1 3 1]\n",
      " [1 3 5 1]\n",
      " [3 3 7 1]\n",
      " [5 5 9 1]]\n",
      "n4 = [[1 1 1 1]\n",
      " [1 1 3 1]\n",
      " [3 3 5 1]\n",
      " [3 3 7 1]\n",
      " [5 5 9 1]]\n",
      "n5 = [[1 1 1 1]\n",
      " [3 3 3 1]\n",
      " [5 5 5 1]\n",
      " [7 7 7 1]\n",
      " [9 9 9 1]]\n"
     ]
    }
   ],
   "source": [
    "import numpy as np\n",
    "\n",
    "x1 = np.array([1, 1, 1, 3, 5])\n",
    "x2 = np.array([1, 1, 3, 3, 5])\n",
    "x3 = np.array([1, 3, 5, 7, 9])\n",
    "y = np.array([0.1, -7.8, -6.1, -9.7, -4.2])\n",
    "bias = np.array([1, 1, 1, 1, 1])\n",
    "\n",
    "value = 1\n",
    "bias = np.full(len(x1), value)\n",
    "\n",
    "n1 = np.column_stack((x1, x2, x3, bias))\n",
    "n2 = np.column_stack((x1, x2, x3, np.full_like(bias, 1)))\n",
    "n3 = np.column_stack((x1, x2, x3, bias))\n",
    "n4 = np.column_stack((x2, x2, x3, bias))\n",
    "n5 = np.column_stack((x3, x3, x3, bias))\n",
    "\n",
    "print(\"n1 =\", n1)\n",
    "print(\"n2 =\", n2)\n",
    "print(\"n3 =\", n3)\n",
    "print(\"n4 =\", n4)\n",
    "print(\"n5 =\", n5)\n"
   ]
  },
  {
   "cell_type": "code",
   "execution_count": 4,
   "metadata": {},
   "outputs": [
    {
     "name": "stdout",
     "output_type": "stream",
     "text": [
      "n1 = [1 1 1 3 5]\n",
      "n2 = [1 1 3 3 5]\n",
      "n3 = [1 3 5 7 9]\n",
      "n4 = [1 1 3 3 5]\n",
      "n5 = [1 3 5 7 9]\n"
     ]
    }
   ],
   "source": [
    "import numpy as np\n",
    "\n",
    "x1 = np.array([1, 1, 1, 3, 5])\n",
    "x2 = np.array([1, 1, 3, 3, 5])\n",
    "x3 = np.array([1, 3, 5, 7, 9])\n",
    "bias = np.array([1, 1, 1, 1, 1])\n",
    "\n",
    "# Create new arrays\n",
    "n1 = x1 * bias\n",
    "n2 = x2 * bias\n",
    "n3 = x3 * bias\n",
    "n4 = np.maximum(x1, x2) * bias\n",
    "n5 = np.maximum(x2, x3) * bias\n",
    "\n",
    "print(\"n1 =\", n1)\n",
    "print(\"n2 =\", n2)\n",
    "print(\"n3 =\", n3)\n",
    "print(\"n4 =\", n4)\n",
    "print(\"n5 =\", n5)\n"
   ]
  },
  {
   "cell_type": "code",
   "execution_count": 5,
   "metadata": {},
   "outputs": [
    {
     "name": "stdout",
     "output_type": "stream",
     "text": [
      "[[1 1 1 1]\n",
      " [1 1 3 1]\n",
      " [1 3 5 1]\n",
      " [3 3 7 1]\n",
      " [5 5 9 1]]\n"
     ]
    }
   ],
   "source": [
    "import numpy as np\n",
    "\n",
    "x1 = np.array([1, 1, 1, 3, 5])\n",
    "x2 = np.array([1, 1, 3, 3, 5])\n",
    "x3 = np.array([1, 3, 5, 7, 9])\n",
    "bias = np.array([1, 1, 1, 1, 1])\n",
    "\n",
    "result = np.column_stack((x1, x2, x3, bias))\n",
    "print(result)\n"
   ]
  },
  {
   "cell_type": "code",
   "execution_count": 9,
   "metadata": {},
   "outputs": [
    {
     "name": "stdout",
     "output_type": "stream",
     "text": [
      "(4,)\n",
      "[1 1 1 1]\n",
      "(4,)\n"
     ]
    }
   ],
   "source": [
    "print(result[0].shape)\n",
    "print(result[0].T)\n",
    "print(result[0].T.shape)\n"
   ]
  },
  {
   "cell_type": "code",
   "execution_count": null,
   "metadata": {},
   "outputs": [],
   "source": []
  }
 ],
 "metadata": {
  "kernelspec": {
   "display_name": "ai-basic",
   "language": "python",
   "name": "python3"
  },
  "language_info": {
   "codemirror_mode": {
    "name": "ipython",
    "version": 3
   },
   "file_extension": ".py",
   "mimetype": "text/x-python",
   "name": "python",
   "nbconvert_exporter": "python",
   "pygments_lexer": "ipython3",
   "version": "3.9.13"
  },
  "orig_nbformat": 4
 },
 "nbformat": 4,
 "nbformat_minor": 2
}
